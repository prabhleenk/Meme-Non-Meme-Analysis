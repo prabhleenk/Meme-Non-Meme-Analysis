{
 "cells": [
  {
   "cell_type": "code",
   "execution_count": 21,
   "metadata": {},
   "outputs": [
    {
     "name": "stdout",
     "output_type": "stream",
     "text": [
      "1435\n"
     ]
    }
   ],
   "source": [
    "#Keras\n",
    "from tensorflow import keras\n",
    "\n",
    "# Import of keras model and hidden layers for CNN\n",
    "from keras.models import Sequential\n",
    "from keras.layers.convolutional import Conv2D, MaxPooling2D\n",
    "from keras.layers import Dense, Flatten, Dropout\n",
    "\n",
    "#Image handling libraries\n",
    "import numpy as np\n",
    "import matplotlib.pyplot as plt\n",
    "import cv2\n",
    "import pandas as pd\n",
    "\n",
    "#Sklearn libraries\n",
    "from sklearn.model_selection import train_test_split\n",
    "from sklearn.metrics import confusion_matrix\n",
    "\n",
    "# data visualisation and manipulation\n",
    "import matplotlib.pyplot as plt\n",
    "from matplotlib import style\n",
    "\n",
    "#Initialize a list of paths for images\n",
    "imagepathstrain = []\n",
    "imagepathstest = []\n",
    "\n",
    "import os\n",
    "for dirname, _, filenames in os.walk(r'images\\4.2.8\\TrainingDataset'):\n",
    "    for filename in filenames:\n",
    "        path = os.path.join(dirname, filename)\n",
    "        imagepathstrain.append(path)\n",
    "        \n",
    "for dirname, _, filenames in os.walk(r'images\\4.2.8\\TestingDataset'):\n",
    "    for filename in filenames:\n",
    "        path = os.path.join(dirname, filename)\n",
    "        imagepathstest.append(path)\n",
    "\n",
    "print(len(imagepathstrain))"
   ]
  },
  {
   "cell_type": "code",
   "execution_count": 22,
   "metadata": {},
   "outputs": [
    {
     "data": {
      "text/plain": [
       "1435"
      ]
     },
     "execution_count": 22,
     "metadata": {},
     "output_type": "execute_result"
    }
   ],
   "source": [
    "IMG_SIZE=128\n",
    "Xtrain=[]\n",
    "ytrain=[]\n",
    "for image in imagepathstrain:\n",
    "    try:\n",
    "        img = cv2.imread(image,cv2.IMREAD_COLOR)\n",
    "        img = cv2.resize(img, (IMG_SIZE,IMG_SIZE))\n",
    "\n",
    "        Xtrain.append(np.array(img))\n",
    "        if(image.startswith('images\\\\4.2.8\\\\TrainingDataset\\\\meme\\\\')):\n",
    "            ytrain.append('meme')\n",
    "        else:\n",
    "            ytrain.append('non-meme')\n",
    "    except:\n",
    "        pass\n",
    "    \n",
    "Xtest=[]\n",
    "ytest=[]\n",
    "for image in imagepathstest:\n",
    "    try:\n",
    "        img = cv2.imread(image,cv2.IMREAD_COLOR)\n",
    "        img = cv2.resize(img, (IMG_SIZE,IMG_SIZE))\n",
    "\n",
    "        Xtest.append(np.array(img))\n",
    "        if(image.startswith('images\\\\4.2.8\\\\TestingDataset\\\\meme\\\\')):\n",
    "            ytest.append('meme')\n",
    "        else:\n",
    "            ytest.append('non-meme')\n",
    "    except:\n",
    "        pass\n",
    "    \n",
    "\n",
    "len(Xtrain)\n"
   ]
  },
  {
   "cell_type": "code",
   "execution_count": 23,
   "metadata": {},
   "outputs": [],
   "source": [
    "from sklearn.preprocessing import LabelEncoder\n",
    "from tensorflow.keras.utils import to_categorical\n",
    "from sklearn.model_selection import train_test_split\n",
    "\n",
    "le=LabelEncoder()\n",
    "Ytrain=le.fit_transform(ytrain)\n",
    "Ytrain=to_categorical(Ytrain,2)\n",
    "\n",
    "Ytest=le.fit_transform(ytest)\n",
    "Ytest=to_categorical(Ytest,2)\n",
    "\n",
    "Xtrain=np.array(Xtrain)\n",
    "\n",
    "Xtest=np.array(Xtest)\n",
    "\n",
    "#x_train,x_test,y_train,y_test=train_test_split(X,Y,test_size=0.25,random_state=5)"
   ]
  },
  {
   "cell_type": "code",
   "execution_count": 24,
   "metadata": {},
   "outputs": [],
   "source": [
    "# Create a CNN Sequential Model\n",
    "model = Sequential()\n",
    "\n",
    "model.add(Conv2D(32, (5,5), activation = 'relu', input_shape=(128,128,3)))\n",
    "model.add(MaxPooling2D((2,2)))\n",
    "\n",
    "model.add(Conv2D(64, (3, 3), activation='relu')) \n",
    "model.add(MaxPooling2D((2, 2)))\n",
    "\n",
    "model.add(Conv2D(128, (3, 3), activation='relu')) \n",
    "model.add(MaxPooling2D((2, 2)))\n",
    "\n",
    "model.add(Conv2D(128, (3, 3), activation='relu')) \n",
    "model.add(MaxPooling2D((2, 2)))\n",
    "\n",
    "model.add(Conv2D(128, (3, 3), activation='relu')) \n",
    "model.add(MaxPooling2D((2, 2)))\n",
    "\n",
    "model.add(Flatten())\n",
    "\n",
    "model.add(Dropout(0.6))\n",
    "\n",
    "model.add(Dense(128, activation='relu'))\n",
    "\n",
    "model.add(Dense(2, activation='softmax'))"
   ]
  },
  {
   "cell_type": "code",
   "execution_count": 25,
   "metadata": {},
   "outputs": [],
   "source": [
    "#Model configuration for training purpose\n",
    "adam= keras.optimizers.Adam(learning_rate=0.001)\n",
    "model.compile(optimizer='adam', loss='categorical_crossentropy', metrics=['accuracy'])\n"
   ]
  },
  {
   "cell_type": "code",
   "execution_count": 26,
   "metadata": {},
   "outputs": [
    {
     "name": "stdout",
     "output_type": "stream",
     "text": [
      "Model: \"sequential_2\"\n",
      "_________________________________________________________________\n",
      "Layer (type)                 Output Shape              Param #   \n",
      "=================================================================\n",
      "conv2d_10 (Conv2D)           (None, 124, 124, 32)      2432      \n",
      "_________________________________________________________________\n",
      "max_pooling2d_10 (MaxPooling (None, 62, 62, 32)        0         \n",
      "_________________________________________________________________\n",
      "conv2d_11 (Conv2D)           (None, 60, 60, 64)        18496     \n",
      "_________________________________________________________________\n",
      "max_pooling2d_11 (MaxPooling (None, 30, 30, 64)        0         \n",
      "_________________________________________________________________\n",
      "conv2d_12 (Conv2D)           (None, 28, 28, 128)       73856     \n",
      "_________________________________________________________________\n",
      "max_pooling2d_12 (MaxPooling (None, 14, 14, 128)       0         \n",
      "_________________________________________________________________\n",
      "conv2d_13 (Conv2D)           (None, 12, 12, 128)       147584    \n",
      "_________________________________________________________________\n",
      "max_pooling2d_13 (MaxPooling (None, 6, 6, 128)         0         \n",
      "_________________________________________________________________\n",
      "conv2d_14 (Conv2D)           (None, 4, 4, 128)         147584    \n",
      "_________________________________________________________________\n",
      "max_pooling2d_14 (MaxPooling (None, 2, 2, 128)         0         \n",
      "_________________________________________________________________\n",
      "flatten_2 (Flatten)          (None, 512)               0         \n",
      "_________________________________________________________________\n",
      "dropout_2 (Dropout)          (None, 512)               0         \n",
      "_________________________________________________________________\n",
      "dense_4 (Dense)              (None, 128)               65664     \n",
      "_________________________________________________________________\n",
      "dense_5 (Dense)              (None, 2)                 258       \n",
      "=================================================================\n",
      "Total params: 455,874\n",
      "Trainable params: 455,874\n",
      "Non-trainable params: 0\n",
      "_________________________________________________________________\n",
      "None\n"
     ]
    }
   ],
   "source": [
    "print(model.summary())"
   ]
  },
  {
   "cell_type": "code",
   "execution_count": 27,
   "metadata": {},
   "outputs": [
    {
     "name": "stdout",
     "output_type": "stream",
     "text": [
      "Epoch 1/50\n",
      "120/120 - 178s - loss: 1.6350 - accuracy: 0.5770 - val_loss: 0.4941 - val_accuracy: 0.8263\n",
      "Epoch 2/50\n",
      "120/120 - 173s - loss: 0.5870 - accuracy: 0.7289 - val_loss: 0.5383 - val_accuracy: 0.6946\n",
      "Epoch 3/50\n",
      "120/120 - 176s - loss: 0.5063 - accuracy: 0.7875 - val_loss: 0.4116 - val_accuracy: 0.8503\n",
      "Epoch 4/50\n",
      "120/120 - 176s - loss: 0.4758 - accuracy: 0.7902 - val_loss: 0.4226 - val_accuracy: 0.7784\n",
      "Epoch 5/50\n",
      "120/120 - 175s - loss: 0.3862 - accuracy: 0.8321 - val_loss: 0.4938 - val_accuracy: 0.7305\n",
      "Epoch 6/50\n",
      "120/120 - 177s - loss: 0.3917 - accuracy: 0.8348 - val_loss: 0.4384 - val_accuracy: 0.8024\n",
      "Epoch 7/50\n",
      "120/120 - 176s - loss: 0.3619 - accuracy: 0.8502 - val_loss: 0.3491 - val_accuracy: 0.8443\n",
      "Epoch 8/50\n",
      "120/120 - 182s - loss: 0.3139 - accuracy: 0.8774 - val_loss: 0.4367 - val_accuracy: 0.8503\n",
      "Epoch 9/50\n",
      "120/120 - 191s - loss: 0.2764 - accuracy: 0.8927 - val_loss: 0.3695 - val_accuracy: 0.9042\n",
      "Epoch 10/50\n",
      "120/120 - 174s - loss: 0.3073 - accuracy: 0.8746 - val_loss: 0.3886 - val_accuracy: 0.8204\n",
      "Epoch 11/50\n",
      "120/120 - 173s - loss: 0.3387 - accuracy: 0.8690 - val_loss: 0.3379 - val_accuracy: 0.8683\n",
      "Epoch 12/50\n",
      "120/120 - 173s - loss: 0.2893 - accuracy: 0.8864 - val_loss: 0.3795 - val_accuracy: 0.8623\n",
      "Epoch 13/50\n",
      "120/120 - 172s - loss: 0.2937 - accuracy: 0.8836 - val_loss: 0.4335 - val_accuracy: 0.8443\n",
      "Epoch 14/50\n",
      "120/120 - 173s - loss: 0.2604 - accuracy: 0.8983 - val_loss: 0.4718 - val_accuracy: 0.8563\n",
      "Epoch 15/50\n",
      "120/120 - 173s - loss: 0.2195 - accuracy: 0.9059 - val_loss: 0.5156 - val_accuracy: 0.8563\n",
      "Epoch 16/50\n",
      "120/120 - 174s - loss: 0.2596 - accuracy: 0.9045 - val_loss: 0.4554 - val_accuracy: 0.7605\n",
      "Epoch 17/50\n",
      "120/120 - 176s - loss: 0.2592 - accuracy: 0.9010 - val_loss: 0.3620 - val_accuracy: 0.8263\n",
      "Epoch 18/50\n",
      "120/120 - 180s - loss: 0.2414 - accuracy: 0.9101 - val_loss: 0.4049 - val_accuracy: 0.8563\n",
      "Epoch 19/50\n",
      "120/120 - 178s - loss: 0.2008 - accuracy: 0.9150 - val_loss: 0.3453 - val_accuracy: 0.8922\n",
      "Epoch 20/50\n",
      "120/120 - 175s - loss: 0.1957 - accuracy: 0.9310 - val_loss: 0.3349 - val_accuracy: 0.8802\n",
      "Epoch 21/50\n",
      "120/120 - 178s - loss: 0.2281 - accuracy: 0.9108 - val_loss: 0.4041 - val_accuracy: 0.8743\n",
      "Epoch 22/50\n",
      "120/120 - 174s - loss: 0.2246 - accuracy: 0.9108 - val_loss: 0.3809 - val_accuracy: 0.8503\n",
      "Epoch 23/50\n",
      "120/120 - 181s - loss: 0.1671 - accuracy: 0.9345 - val_loss: 0.3306 - val_accuracy: 0.8802\n",
      "Epoch 24/50\n",
      "120/120 - 289s - loss: 0.1300 - accuracy: 0.9575 - val_loss: 0.4220 - val_accuracy: 0.8563\n",
      "Epoch 25/50\n",
      "120/120 - 297s - loss: 0.1597 - accuracy: 0.9408 - val_loss: 0.3430 - val_accuracy: 0.8802\n",
      "Epoch 26/50\n",
      "120/120 - 302s - loss: 0.1876 - accuracy: 0.9310 - val_loss: 0.2892 - val_accuracy: 0.8922\n",
      "Epoch 27/50\n",
      "120/120 - 270s - loss: 0.1308 - accuracy: 0.9519 - val_loss: 0.4280 - val_accuracy: 0.8982\n",
      "Epoch 28/50\n",
      "120/120 - 253s - loss: 0.1357 - accuracy: 0.9498 - val_loss: 0.3856 - val_accuracy: 0.8982\n",
      "Epoch 29/50\n",
      "120/120 - 251s - loss: 0.1686 - accuracy: 0.9415 - val_loss: 0.3136 - val_accuracy: 0.8802\n",
      "Epoch 30/50\n",
      "120/120 - 249s - loss: 0.1201 - accuracy: 0.9568 - val_loss: 0.4581 - val_accuracy: 0.8862\n",
      "Epoch 31/50\n",
      "120/120 - 259s - loss: 0.1319 - accuracy: 0.9540 - val_loss: 0.4391 - val_accuracy: 0.8802\n",
      "Epoch 32/50\n",
      "120/120 - 256s - loss: 0.1352 - accuracy: 0.9512 - val_loss: 0.4966 - val_accuracy: 0.8263\n",
      "Epoch 33/50\n",
      "120/120 - 260s - loss: 0.0967 - accuracy: 0.9652 - val_loss: 0.7449 - val_accuracy: 0.8383\n",
      "Epoch 34/50\n",
      "120/120 - 272s - loss: 0.0789 - accuracy: 0.9728 - val_loss: 0.5441 - val_accuracy: 0.8623\n",
      "Epoch 35/50\n",
      "120/120 - 254s - loss: 0.0957 - accuracy: 0.9666 - val_loss: 0.5646 - val_accuracy: 0.8982\n",
      "Epoch 36/50\n",
      "120/120 - 258s - loss: 0.0778 - accuracy: 0.9770 - val_loss: 0.8587 - val_accuracy: 0.8802\n",
      "Epoch 37/50\n",
      "120/120 - 255s - loss: 0.1605 - accuracy: 0.9366 - val_loss: 0.6105 - val_accuracy: 0.8743\n",
      "Epoch 38/50\n",
      "120/120 - 261s - loss: 0.1049 - accuracy: 0.9638 - val_loss: 0.8039 - val_accuracy: 0.8503\n",
      "Epoch 39/50\n",
      "120/120 - 253s - loss: 0.1099 - accuracy: 0.9652 - val_loss: 0.4458 - val_accuracy: 0.9162\n",
      "Epoch 40/50\n",
      "120/120 - 250s - loss: 0.3608 - accuracy: 0.8801 - val_loss: 0.4368 - val_accuracy: 0.8683\n",
      "Epoch 41/50\n",
      "120/120 - 254s - loss: 0.1268 - accuracy: 0.9561 - val_loss: 0.4885 - val_accuracy: 0.8503\n",
      "Epoch 42/50\n",
      "120/120 - 256s - loss: 0.1657 - accuracy: 0.9498 - val_loss: 0.4019 - val_accuracy: 0.8623\n",
      "Epoch 43/50\n",
      "120/120 - 246s - loss: 0.1043 - accuracy: 0.9596 - val_loss: 0.5155 - val_accuracy: 0.8802\n",
      "Epoch 44/50\n",
      "120/120 - 152s - loss: 0.0884 - accuracy: 0.9672 - val_loss: 0.5678 - val_accuracy: 0.8683\n",
      "Epoch 45/50\n",
      "120/120 - 88s - loss: 0.1345 - accuracy: 0.9610 - val_loss: 0.6582 - val_accuracy: 0.8263\n",
      "Epoch 46/50\n",
      "120/120 - 66s - loss: 0.1238 - accuracy: 0.9596 - val_loss: 0.7651 - val_accuracy: 0.8563\n",
      "Epoch 47/50\n",
      "120/120 - 66s - loss: 0.1169 - accuracy: 0.9617 - val_loss: 0.5184 - val_accuracy: 0.8503\n",
      "Epoch 48/50\n",
      "120/120 - 65s - loss: 0.1001 - accuracy: 0.9693 - val_loss: 0.5919 - val_accuracy: 0.8204\n",
      "Epoch 49/50\n",
      "120/120 - 65s - loss: 0.0660 - accuracy: 0.9777 - val_loss: 0.8528 - val_accuracy: 0.8443\n",
      "Epoch 50/50\n",
      "120/120 - 66s - loss: 0.0740 - accuracy: 0.9749 - val_loss: 0.6438 - val_accuracy: 0.8443\n"
     ]
    }
   ],
   "source": [
    "history=model.fit(Xtrain, Ytrain, epochs=50, batch_size=12, verbose=2, validation_data=(Xtest, Ytest))"
   ]
  },
  {
   "cell_type": "code",
   "execution_count": 28,
   "metadata": {},
   "outputs": [
    {
     "name": "stdout",
     "output_type": "stream",
     "text": [
      "6/6 [==============================] - 1s 235ms/step - loss: 0.6438 - accuracy: 0.8443\n",
      "Test accuracy: 84.43%\n"
     ]
    }
   ],
   "source": [
    "loss, accuracy = model.evaluate(Xtest, Ytest)\n",
    "print('Test accuracy: {:2.2f}%'.format(accuracy*100))\n"
   ]
  },
  {
   "cell_type": "code",
   "execution_count": 29,
   "metadata": {},
   "outputs": [
    {
     "data": {
      "text/plain": [
       "<AxesSubplot:>"
      ]
     },
     "execution_count": 29,
     "metadata": {},
     "output_type": "execute_result"
    },
    {
     "data": {
      "image/png": "[encoded data removed]",
      "text/plain": [
       "<Figure size 432x288 with 2 Axes>"
      ]
     },
     "metadata": {
      "needs_background": "light"
     },
     "output_type": "display_data"
    }
   ],
   "source": [
    "# Making predictions on test data\n",
    "prediction = model.predict(Xtest)\n",
    "#Transform predictions into 1D array \n",
    "y_pred = np.argmax(prediction, axis=1)\n",
    "y_test1=Ytest.astype(int)\n",
    "y_test2=[]\n",
    "for i in y_test1:\n",
    "    a=1\n",
    "    #print(i[0],i[1])\n",
    "    if(i[0]==1 and i[1]==0):\n",
    "        a=0\n",
    "    y_test2.append(a)    \n",
    "        \n",
    "#Create a Confusion Matrix for Evaluation\n",
    "# H = Horizontal\n",
    "# V = Vertical\n",
    "\n",
    "#Create a Confusion Matrix for Evaluation\n",
    "cf_matrix = confusion_matrix(y_test2, y_pred)\n",
    "\n",
    "import seaborn as sns\n",
    "group_names = ['Predicted meme','Predicted non-meme','Actual meme','Actual non-meme']\n",
    "group_counts = ['{0:0.0f}'.format(value) for value in\n",
    "                cf_matrix.flatten()]\n",
    "group_percentages = ['{0:.2%}'.format(value) for value in\n",
    "                     cf_matrix.flatten()/np.sum(cf_matrix)]\n",
    "labels = [f'{v1}\\n{v2}\\n{v3}' for v1, v2, v3 in\n",
    "          zip(group_names,group_counts,group_percentages)]\n",
    "labels = np.asarray(labels).reshape(2,2)\n",
    "sns.heatmap(cf_matrix, annot=labels, fmt='', cmap='Blues')"
   ]
  },
  {
   "cell_type": "code",
   "execution_count": 31,
   "metadata": {},
   "outputs": [
    {
     "name": "stdout",
     "output_type": "stream",
     "text": [
      "              precision    recall  f1-score   support\n",
      "\n",
      "           0       0.88      0.84      0.86        93\n",
      "           1       0.81      0.85      0.83        74\n",
      "\n",
      "    accuracy                           0.84       167\n",
      "   macro avg       0.84      0.85      0.84       167\n",
      "weighted avg       0.85      0.84      0.84       167\n",
      "\n"
     ]
    }
   ],
   "source": [
    "from sklearn.metrics import classification_report\n",
    "\n",
    "#y_pred_bool = np.argmax(y_pred, axis=1)\n",
    "\n",
    "print(classification_report(y_test2, y_pred))"
   ]
  },
  {
   "cell_type": "code",
   "execution_count": 30,
   "metadata": {},
   "outputs": [
    {
     "data": {
      "image/png": "[encoded data removed]",
      "text/plain": [
       "<Figure size 432x288 with 1 Axes>"
      ]
     },
     "metadata": {
      "needs_background": "light"
     },
     "output_type": "display_data"
    },
    {
     "data": {
      "image/png": "[encoded data removed]",
      "text/plain": [
       "<Figure size 432x288 with 1 Axes>"
      ]
     },
     "metadata": {
      "needs_background": "light"
     },
     "output_type": "display_data"
    }
   ],
   "source": [
    "# Get training and test loss histories\n",
    "\n",
    "training_loss = history.history['loss']\n",
    "test_loss = history.history['val_loss']\n",
    "\n",
    "# Create count of the number of epochs\n",
    "epoch_count = range(1, len(training_loss) + 1)\n",
    "\n",
    "# Visualize loss history\n",
    "plt.plot(epoch_count, training_loss, 'r--')\n",
    "plt.plot(epoch_count, test_loss, 'b-')\n",
    "plt.legend(['Training Loss', 'Test Loss'])\n",
    "plt.xlabel('Epoch')\n",
    "plt.ylabel('Loss')\n",
    "plt.title('Model Loss')\n",
    "plt.show()\n",
    "\n",
    "training_acc = history.history['accuracy']\n",
    "test_acc = history.history['val_accuracy']\n",
    "epoch_count = range(1, len(training_acc) + 1)\n",
    "plt.plot(epoch_count, training_acc, 'r--')\n",
    "plt.plot(epoch_count, test_acc, 'b-')\n",
    "plt.title('Model accuracy')\n",
    "plt.ylabel('Accuracy')\n",
    "plt.xlabel('Epoch')\n",
    "plt.legend(['Training accuracy', 'Test accuracy'])\n",
    "plt.show()"
   ]
  },
  {
   "cell_type": "code",
   "execution_count": null,
   "metadata": {},
   "outputs": [],
   "source": []
  }
 ],
 "metadata": {
  "kernelspec": {
   "display_name": "Python 3",
   "language": "python",
   "name": "python3"
  },
  "language_info": {
   "codemirror_mode": {
    "name": "ipython",
    "version": 3
   },
   "file_extension": ".py",
   "mimetype": "text/x-python",
   "name": "python",
   "nbconvert_exporter": "python",
   "pygments_lexer": "ipython3",
   "version": "3.8.10"
  }
 },
 "nbformat": 4,
 "nbformat_minor": 2
}
