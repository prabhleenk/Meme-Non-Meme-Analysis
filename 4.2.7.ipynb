{
 "cells": [
  {
   "cell_type": "code",
   "execution_count": 1,
   "metadata": {},
   "outputs": [
    {
     "name": "stdout",
     "output_type": "stream",
     "text": [
      "1456\n"
     ]
    }
   ],
   "source": [
    "#Keras\n",
    "from tensorflow import keras\n",
    "\n",
    "# Import of keras model and hidden layers for CNN\n",
    "from keras.models import Sequential\n",
    "from keras.layers.convolutional import Conv2D, MaxPooling2D\n",
    "from keras.layers import Dense, Flatten, Dropout\n",
    "\n",
    "#Image handling libraries\n",
    "import numpy as np\n",
    "import matplotlib.pyplot as plt\n",
    "import cv2\n",
    "import pandas as pd\n",
    "\n",
    "#Sklearn libraries\n",
    "from sklearn.model_selection import train_test_split\n",
    "from sklearn.metrics import confusion_matrix\n",
    "\n",
    "# data visualisation and manipulation\n",
    "import matplotlib.pyplot as plt\n",
    "from matplotlib import style\n",
    "\n",
    "#Initialize a list of paths for images\n",
    "imagepathstrain = []\n",
    "imagepathstest = []\n",
    "\n",
    "import os\n",
    "for dirname, _, filenames in os.walk(r'images\\4.2.7\\TrainingDataset'):\n",
    "    for filename in filenames:\n",
    "        path = os.path.join(dirname, filename)\n",
    "        imagepathstrain.append(path)\n",
    "        \n",
    "for dirname, _, filenames in os.walk(r'images\\4.2.7\\TestingDataset'):\n",
    "    for filename in filenames:\n",
    "        path = os.path.join(dirname, filename)\n",
    "        imagepathstest.append(path)\n",
    "\n",
    "print(len(imagepathstrain))"
   ]
  },
  {
   "cell_type": "code",
   "execution_count": 2,
   "metadata": {},
   "outputs": [
    {
     "data": {
      "text/plain": [
       "1456"
      ]
     },
     "execution_count": 2,
     "metadata": {},
     "output_type": "execute_result"
    }
   ],
   "source": [
    "IMG_SIZE=128\n",
    "Xtrain=[]\n",
    "ytrain=[]\n",
    "for image in imagepathstrain:\n",
    "    try:\n",
    "        img = cv2.imread(image,cv2.IMREAD_COLOR)\n",
    "        img = cv2.resize(img, (IMG_SIZE,IMG_SIZE))\n",
    "\n",
    "        Xtrain.append(np.array(img))\n",
    "        if(image.startswith('images\\\\4.2.7\\\\TrainingDataset\\\\meme\\\\')):\n",
    "            ytrain.append('meme')\n",
    "        else:\n",
    "            ytrain.append('non-meme')\n",
    "    except:\n",
    "        pass\n",
    "    \n",
    "Xtest=[]\n",
    "ytest=[]\n",
    "for image in imagepathstest:\n",
    "    try:\n",
    "        img = cv2.imread(image,cv2.IMREAD_COLOR)\n",
    "        img = cv2.resize(img, (IMG_SIZE,IMG_SIZE))\n",
    "\n",
    "        Xtest.append(np.array(img))\n",
    "        if(image.startswith('images\\\\4.2.7\\\\TestingDataset\\\\meme\\\\')):\n",
    "            ytest.append('meme')\n",
    "        else:\n",
    "            ytest.append('non-meme')\n",
    "    except:\n",
    "        pass\n",
    "    \n",
    "\n",
    "len(Xtrain)\n"
   ]
  },
  {
   "cell_type": "code",
   "execution_count": 3,
   "metadata": {},
   "outputs": [],
   "source": [
    "from sklearn.preprocessing import LabelEncoder\n",
    "from tensorflow.keras.utils import to_categorical\n",
    "from sklearn.model_selection import train_test_split\n",
    "\n",
    "le=LabelEncoder()\n",
    "Ytrain=le.fit_transform(ytrain)\n",
    "Ytrain=to_categorical(Ytrain,2)\n",
    "\n",
    "Ytest=le.fit_transform(ytest)\n",
    "Ytest=to_categorical(Ytest,2)\n",
    "\n",
    "Xtrain=np.array(Xtrain)\n",
    "\n",
    "Xtest=np.array(Xtest)\n",
    "\n",
    "#x_train,x_test,y_train,y_test=train_test_split(X,Y,test_size=0.25,random_state=5)"
   ]
  },
  {
   "cell_type": "code",
   "execution_count": 4,
   "metadata": {},
   "outputs": [],
   "source": [
    "# Create a CNN Sequential Model\n",
    "model = Sequential()\n",
    "\n",
    "model.add(Conv2D(32, (5,5), activation = 'relu', input_shape=(128,128,3)))\n",
    "model.add(MaxPooling2D((2,2)))\n",
    "\n",
    "model.add(Conv2D(64, (3, 3), activation='relu')) \n",
    "model.add(MaxPooling2D((2, 2)))\n",
    "\n",
    "model.add(Conv2D(128, (3, 3), activation='relu')) \n",
    "model.add(MaxPooling2D((2, 2)))\n",
    "\n",
    "model.add(Conv2D(128, (3, 3), activation='relu')) \n",
    "model.add(MaxPooling2D((2, 2)))\n",
    "\n",
    "model.add(Conv2D(128, (3, 3), activation='relu')) \n",
    "model.add(MaxPooling2D((2, 2)))\n",
    "\n",
    "model.add(Flatten())\n",
    "\n",
    "model.add(Dropout(0.6))\n",
    "\n",
    "model.add(Dense(128, activation='relu'))\n",
    "\n",
    "model.add(Dense(2, activation='softmax'))"
   ]
  },
  {
   "cell_type": "code",
   "execution_count": 5,
   "metadata": {},
   "outputs": [],
   "source": [
    "#Model configuration for training purpose\n",
    "adam= keras.optimizers.Adam(learning_rate=0.001)\n",
    "model.compile(optimizer='adam', loss='categorical_crossentropy', metrics=['accuracy'])\n"
   ]
  },
  {
   "cell_type": "code",
   "execution_count": 6,
   "metadata": {},
   "outputs": [
    {
     "name": "stdout",
     "output_type": "stream",
     "text": [
      "Model: \"sequential\"\n",
      "_________________________________________________________________\n",
      "Layer (type)                 Output Shape              Param #   \n",
      "=================================================================\n",
      "conv2d (Conv2D)              (None, 124, 124, 32)      2432      \n",
      "_________________________________________________________________\n",
      "max_pooling2d (MaxPooling2D) (None, 62, 62, 32)        0         \n",
      "_________________________________________________________________\n",
      "conv2d_1 (Conv2D)            (None, 60, 60, 64)        18496     \n",
      "_________________________________________________________________\n",
      "max_pooling2d_1 (MaxPooling2 (None, 30, 30, 64)        0         \n",
      "_________________________________________________________________\n",
      "conv2d_2 (Conv2D)            (None, 28, 28, 128)       73856     \n",
      "_________________________________________________________________\n",
      "max_pooling2d_2 (MaxPooling2 (None, 14, 14, 128)       0         \n",
      "_________________________________________________________________\n",
      "conv2d_3 (Conv2D)            (None, 12, 12, 128)       147584    \n",
      "_________________________________________________________________\n",
      "max_pooling2d_3 (MaxPooling2 (None, 6, 6, 128)         0         \n",
      "_________________________________________________________________\n",
      "conv2d_4 (Conv2D)            (None, 4, 4, 128)         147584    \n",
      "_________________________________________________________________\n",
      "max_pooling2d_4 (MaxPooling2 (None, 2, 2, 128)         0         \n",
      "_________________________________________________________________\n",
      "flatten (Flatten)            (None, 512)               0         \n",
      "_________________________________________________________________\n",
      "dropout (Dropout)            (None, 512)               0         \n",
      "_________________________________________________________________\n",
      "dense (Dense)                (None, 128)               65664     \n",
      "_________________________________________________________________\n",
      "dense_1 (Dense)              (None, 2)                 258       \n",
      "=================================================================\n",
      "Total params: 455,874\n",
      "Trainable params: 455,874\n",
      "Non-trainable params: 0\n",
      "_________________________________________________________________\n",
      "None\n"
     ]
    }
   ],
   "source": [
    "print(model.summary())\n"
   ]
  },
  {
   "cell_type": "code",
   "execution_count": 7,
   "metadata": {},
   "outputs": [
    {
     "name": "stdout",
     "output_type": "stream",
     "text": [
      "Epoch 1/50\n",
      "122/122 - 192s - loss: 1.5896 - accuracy: 0.5913 - val_loss: 0.4782 - val_accuracy: 0.7808\n",
      "Epoch 2/50\n",
      "122/122 - 189s - loss: 0.5557 - accuracy: 0.7473 - val_loss: 0.5355 - val_accuracy: 0.7055\n",
      "Epoch 3/50\n",
      "122/122 - 169s - loss: 0.4619 - accuracy: 0.8043 - val_loss: 0.4895 - val_accuracy: 0.7603\n",
      "Epoch 4/50\n",
      "122/122 - 152s - loss: 0.4505 - accuracy: 0.8146 - val_loss: 0.3487 - val_accuracy: 0.8288\n",
      "Epoch 5/50\n",
      "122/122 - 152s - loss: 0.4019 - accuracy: 0.8304 - val_loss: 0.3126 - val_accuracy: 0.8699\n",
      "Epoch 6/50\n",
      "122/122 - 151s - loss: 0.3638 - accuracy: 0.8620 - val_loss: 0.3852 - val_accuracy: 0.8630\n",
      "Epoch 7/50\n",
      "122/122 - 173s - loss: 0.3624 - accuracy: 0.8482 - val_loss: 0.3561 - val_accuracy: 0.8767\n",
      "Epoch 8/50\n",
      "122/122 - 177s - loss: 0.3221 - accuracy: 0.8784 - val_loss: 0.2926 - val_accuracy: 0.8699\n",
      "Epoch 9/50\n",
      "122/122 - 177s - loss: 0.3149 - accuracy: 0.8764 - val_loss: 0.2884 - val_accuracy: 0.8767\n",
      "Epoch 10/50\n",
      "122/122 - 177s - loss: 0.3010 - accuracy: 0.8791 - val_loss: 0.2720 - val_accuracy: 0.8767\n",
      "Epoch 11/50\n",
      "122/122 - 179s - loss: 0.2840 - accuracy: 0.8819 - val_loss: 0.3141 - val_accuracy: 0.8699\n",
      "Epoch 12/50\n",
      "122/122 - 178s - loss: 0.2880 - accuracy: 0.8880 - val_loss: 0.2935 - val_accuracy: 0.8493\n",
      "Epoch 13/50\n",
      "122/122 - 178s - loss: 0.2776 - accuracy: 0.8887 - val_loss: 0.3036 - val_accuracy: 0.8836\n",
      "Epoch 14/50\n",
      "122/122 - 183s - loss: 0.2408 - accuracy: 0.9045 - val_loss: 0.3400 - val_accuracy: 0.8562\n",
      "Epoch 15/50\n",
      "122/122 - 193s - loss: 0.2400 - accuracy: 0.8990 - val_loss: 0.3601 - val_accuracy: 0.8973\n",
      "Epoch 16/50\n",
      "122/122 - 177s - loss: 0.2303 - accuracy: 0.9018 - val_loss: 0.3126 - val_accuracy: 0.8699\n",
      "Epoch 17/50\n",
      "122/122 - 175s - loss: 0.1968 - accuracy: 0.9299 - val_loss: 0.3803 - val_accuracy: 0.8630\n",
      "Epoch 18/50\n",
      "122/122 - 175s - loss: 0.2433 - accuracy: 0.9038 - val_loss: 0.3402 - val_accuracy: 0.8425\n",
      "Epoch 19/50\n",
      "122/122 - 175s - loss: 0.2193 - accuracy: 0.9128 - val_loss: 0.2679 - val_accuracy: 0.8699\n",
      "Epoch 20/50\n",
      "122/122 - 175s - loss: 0.2135 - accuracy: 0.9265 - val_loss: 0.3051 - val_accuracy: 0.8699\n",
      "Epoch 21/50\n",
      "122/122 - 176s - loss: 0.2597 - accuracy: 0.9018 - val_loss: 0.3034 - val_accuracy: 0.8767\n",
      "Epoch 22/50\n",
      "122/122 - 178s - loss: 0.1794 - accuracy: 0.9341 - val_loss: 0.3329 - val_accuracy: 0.8836\n",
      "Epoch 23/50\n",
      "122/122 - 180s - loss: 0.1674 - accuracy: 0.9402 - val_loss: 0.2878 - val_accuracy: 0.9041\n",
      "Epoch 24/50\n",
      "122/122 - 182s - loss: 0.1938 - accuracy: 0.9313 - val_loss: 0.3550 - val_accuracy: 0.8562\n",
      "Epoch 25/50\n",
      "122/122 - 177s - loss: 0.2181 - accuracy: 0.9100 - val_loss: 0.2941 - val_accuracy: 0.8699\n",
      "Epoch 26/50\n",
      "122/122 - 178s - loss: 0.1753 - accuracy: 0.9375 - val_loss: 0.2706 - val_accuracy: 0.8699\n",
      "Epoch 27/50\n",
      "122/122 - 179s - loss: 0.1575 - accuracy: 0.9396 - val_loss: 0.3879 - val_accuracy: 0.8836\n",
      "Epoch 28/50\n",
      "122/122 - 181s - loss: 0.1583 - accuracy: 0.9389 - val_loss: 0.3567 - val_accuracy: 0.8904\n",
      "Epoch 29/50\n",
      "122/122 - 194s - loss: 0.1906 - accuracy: 0.9320 - val_loss: 0.3178 - val_accuracy: 0.8699\n",
      "Epoch 30/50\n",
      "122/122 - 295s - loss: 0.1488 - accuracy: 0.9547 - val_loss: 0.2604 - val_accuracy: 0.9041\n",
      "Epoch 31/50\n",
      "122/122 - 302s - loss: 0.1525 - accuracy: 0.9444 - val_loss: 0.3015 - val_accuracy: 0.8836\n",
      "Epoch 32/50\n",
      "122/122 - 304s - loss: 0.1286 - accuracy: 0.9547 - val_loss: 0.2495 - val_accuracy: 0.8767\n",
      "Epoch 33/50\n",
      "122/122 - 263s - loss: 0.2330 - accuracy: 0.9148 - val_loss: 0.3878 - val_accuracy: 0.8425\n",
      "Epoch 34/50\n",
      "122/122 - 254s - loss: 0.1991 - accuracy: 0.9306 - val_loss: 0.2758 - val_accuracy: 0.8973\n",
      "Epoch 35/50\n",
      "122/122 - 251s - loss: 0.1794 - accuracy: 0.9430 - val_loss: 0.3369 - val_accuracy: 0.8767\n",
      "Epoch 36/50\n",
      "122/122 - 252s - loss: 0.1480 - accuracy: 0.9464 - val_loss: 0.3067 - val_accuracy: 0.9041\n",
      "Epoch 37/50\n",
      "122/122 - 265s - loss: 0.1452 - accuracy: 0.9505 - val_loss: 0.3580 - val_accuracy: 0.8836\n",
      "Epoch 38/50\n",
      "122/122 - 259s - loss: 0.1932 - accuracy: 0.9279 - val_loss: 0.2751 - val_accuracy: 0.9110\n",
      "Epoch 39/50\n",
      "122/122 - 257s - loss: 0.1128 - accuracy: 0.9636 - val_loss: 0.3505 - val_accuracy: 0.8836\n",
      "Epoch 40/50\n",
      "122/122 - 273s - loss: 0.1817 - accuracy: 0.9574 - val_loss: 0.2824 - val_accuracy: 0.8973\n",
      "Epoch 41/50\n",
      "122/122 - 253s - loss: 0.1252 - accuracy: 0.9547 - val_loss: 0.3400 - val_accuracy: 0.8425\n",
      "Epoch 42/50\n",
      "122/122 - 258s - loss: 0.0958 - accuracy: 0.9718 - val_loss: 0.2515 - val_accuracy: 0.9110\n",
      "Epoch 43/50\n",
      "122/122 - 263s - loss: 0.1003 - accuracy: 0.9657 - val_loss: 0.3381 - val_accuracy: 0.9247\n",
      "Epoch 44/50\n",
      "122/122 - 261s - loss: 0.0984 - accuracy: 0.9677 - val_loss: 0.2455 - val_accuracy: 0.8904\n",
      "Epoch 45/50\n",
      "122/122 - 251s - loss: 0.1518 - accuracy: 0.9464 - val_loss: 0.2732 - val_accuracy: 0.9041\n",
      "Epoch 46/50\n",
      "122/122 - 249s - loss: 0.0850 - accuracy: 0.9725 - val_loss: 0.3184 - val_accuracy: 0.8973\n",
      "Epoch 47/50\n",
      "122/122 - 259s - loss: 0.0894 - accuracy: 0.9698 - val_loss: 0.2529 - val_accuracy: 0.8904\n",
      "Epoch 48/50\n",
      "122/122 - 256s - loss: 0.0562 - accuracy: 0.9842 - val_loss: 0.3605 - val_accuracy: 0.9247\n",
      "Epoch 49/50\n",
      "122/122 - 220s - loss: 0.0649 - accuracy: 0.9780 - val_loss: 0.3158 - val_accuracy: 0.9110\n",
      "Epoch 50/50\n",
      "122/122 - 143s - loss: 0.1395 - accuracy: 0.9492 - val_loss: 0.3204 - val_accuracy: 0.8973\n"
     ]
    }
   ],
   "source": [
    "history=model.fit(Xtrain, Ytrain, epochs=50, batch_size=12, verbose=2, \n",
    "         validation_data=(Xtest, Ytest))"
   ]
  },
  {
   "cell_type": "code",
   "execution_count": 8,
   "metadata": {},
   "outputs": [
    {
     "name": "stdout",
     "output_type": "stream",
     "text": [
      "5/5 [==============================] - 3s 513ms/step - loss: 0.3204 - accuracy: 0.8973\n",
      "Test accuracy: 89.73%\n"
     ]
    }
   ],
   "source": [
    "loss, accuracy = model.evaluate(Xtest, Ytest)\n",
    "print('Test accuracy: {:2.2f}%'.format(accuracy*100))\n"
   ]
  },
  {
   "cell_type": "code",
   "execution_count": 9,
   "metadata": {},
   "outputs": [
    {
     "data": {
      "text/plain": [
       "<AxesSubplot:>"
      ]
     },
     "execution_count": 9,
     "metadata": {},
     "output_type": "execute_result"
    },
    {
     "data": {
      "image/png": "[encoded data removed]",
      "text/plain": [
       "<Figure size 432x288 with 2 Axes>"
      ]
     },
     "metadata": {
      "needs_background": "light"
     },
     "output_type": "display_data"
    }
   ],
   "source": [
    "# Making predictions on test data\n",
    "prediction = model.predict(Xtest)\n",
    "#Transform predictions into 1D array \n",
    "y_pred = np.argmax(prediction, axis=1)\n",
    "y_test1=Ytest.astype(int)\n",
    "y_test2=[]\n",
    "for i in y_test1:\n",
    "    a=1\n",
    "    #print(i[0],i[1])\n",
    "    if(i[0]==1 and i[1]==0):\n",
    "        a=0\n",
    "    y_test2.append(a)    \n",
    "        \n",
    "#Create a Confusion Matrix for Evaluation\n",
    "# H = Horizontal\n",
    "# V = Vertical\n",
    "\n",
    "#Create a Confusion Matrix for Evaluation\n",
    "cf_matrix = confusion_matrix(y_test2, y_pred)\n",
    "\n",
    "import seaborn as sns\n",
    "group_names = ['Predicted meme','Predicted non-meme','Actual meme','Actual non-meme']\n",
    "group_counts = ['{0:0.0f}'.format(value) for value in\n",
    "                cf_matrix.flatten()]\n",
    "group_percentages = ['{0:.2%}'.format(value) for value in\n",
    "                     cf_matrix.flatten()/np.sum(cf_matrix)]\n",
    "labels = [f'{v1}\\n{v2}\\n{v3}' for v1, v2, v3 in\n",
    "          zip(group_names,group_counts,group_percentages)]\n",
    "labels = np.asarray(labels).reshape(2,2)\n",
    "sns.heatmap(cf_matrix, annot=labels, fmt='', cmap='Blues')"
   ]
  },
  {
   "cell_type": "code",
   "execution_count": 10,
   "metadata": {},
   "outputs": [
    {
     "name": "stdout",
     "output_type": "stream",
     "text": [
      "              precision    recall  f1-score   support\n",
      "\n",
      "           0       0.95      0.86      0.90        81\n",
      "           1       0.85      0.94      0.89        65\n",
      "\n",
      "    accuracy                           0.90       146\n",
      "   macro avg       0.90      0.90      0.90       146\n",
      "weighted avg       0.90      0.90      0.90       146\n",
      "\n"
     ]
    }
   ],
   "source": [
    "from sklearn.metrics import classification_report\n",
    "print(classification_report(y_test2, y_pred))"
   ]
  },
  {
   "cell_type": "code",
   "execution_count": 11,
   "metadata": {},
   "outputs": [
    {
     "data": {
      "image/png": "[encoded data removed]",
      "text/plain": [
       "<Figure size 432x288 with 1 Axes>"
      ]
     },
     "metadata": {
      "needs_background": "light"
     },
     "output_type": "display_data"
    },
    {
     "data": {
      "image/png": "[encoded data removed]",
      "text/plain": [
       "<Figure size 432x288 with 1 Axes>"
      ]
     },
     "metadata": {
      "needs_background": "light"
     },
     "output_type": "display_data"
    }
   ],
   "source": [
    "# Get training and test loss histories\n",
    "training_loss = history.history['loss']\n",
    "test_loss = history.history['val_loss']\n",
    "\n",
    "# Create count of the number of epochs\n",
    "epoch_count = range(1, len(training_loss) + 1)\n",
    "\n",
    "# Visualize loss history\n",
    "plt.plot(epoch_count, training_loss, 'r--')\n",
    "plt.plot(epoch_count, test_loss, 'b-')\n",
    "plt.legend(['Training Loss', 'Test Loss'])\n",
    "plt.xlabel('Epoch')\n",
    "plt.ylabel('Loss')\n",
    "plt.title('Model Loss')\n",
    "plt.show()\n",
    "\n",
    "training_acc = history.history['accuracy']\n",
    "test_acc = history.history['val_accuracy']\n",
    "epoch_count = range(1, len(training_acc) + 1)\n",
    "plt.plot(epoch_count, training_acc, 'r--')\n",
    "plt.plot(epoch_count, test_acc, 'b-')\n",
    "plt.title('Model accuracy')\n",
    "plt.ylabel('Accuracy')\n",
    "plt.xlabel('Epoch')\n",
    "plt.legend(['Training accuracy', 'Test accuracy'])\n",
    "plt.show()"
   ]
  },
  {
   "cell_type": "code",
   "execution_count": null,
   "metadata": {},
   "outputs": [],
   "source": []
  }
 ],
 "metadata": {
  "kernelspec": {
   "display_name": "Python 3",
   "language": "python",
   "name": "python3"
  },
  "language_info": {
   "codemirror_mode": {
    "name": "ipython",
    "version": 3
   },
   "file_extension": ".py",
   "mimetype": "text/x-python",
   "name": "python",
   "nbconvert_exporter": "python",
   "pygments_lexer": "ipython3",
   "version": "3.8.10"
  }
 },
 "nbformat": 4,
 "nbformat_minor": 2
}
