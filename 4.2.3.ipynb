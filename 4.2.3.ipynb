{
 "cells": [
  {
   "cell_type": "code",
   "execution_count": 12,
   "metadata": {},
   "outputs": [
    {
     "name": "stdout",
     "output_type": "stream",
     "text": [
      "1497\n"
     ]
    }
   ],
   "source": [
    "#Keras\n",
    "from tensorflow import keras\n",
    "\n",
    "# Import of keras model and hidden layers for CNN\n",
    "from keras.models import Sequential\n",
    "from keras.layers.convolutional import Conv2D, MaxPooling2D\n",
    "\n",
    "from keras.layers import Dense, Flatten, Dropout\n",
    "\n",
    "#Image handling libraries\n",
    "import numpy as np\n",
    "import matplotlib.pyplot as plt\n",
    "import cv2\n",
    "import pandas as pd\n",
    "\n",
    "#Sklearn libraries\n",
    "from sklearn.model_selection import train_test_split\n",
    "from sklearn.metrics import confusion_matrix\n",
    "\n",
    "# data visualisation and manipulation\n",
    "import matplotlib.pyplot as plt\n",
    "from matplotlib import style\n",
    "\n",
    "#Initialize a list of paths for images\n",
    "imagepathstrain = []\n",
    "imagepathstest = []\n",
    "\n",
    "import os\n",
    "for dirname, _, filenames in os.walk(r'images\\4.2.3\\TrainingDataset'):\n",
    "    for filename in filenames:\n",
    "        path = os.path.join(dirname, filename)\n",
    "        imagepathstrain.append(path)\n",
    "        \n",
    "for dirname, _, filenames in os.walk(r'images\\4.2.3\\TestingDataset'):\n",
    "    for filename in filenames:\n",
    "        path = os.path.join(dirname, filename)\n",
    "        imagepathstest.append(path)\n",
    "\n",
    "print(len(imagepathstrain))"
   ]
  },
  {
   "cell_type": "code",
   "execution_count": 13,
   "metadata": {},
   "outputs": [
    {
     "data": {
      "text/plain": [
       "1497"
      ]
     },
     "execution_count": 13,
     "metadata": {},
     "output_type": "execute_result"
    }
   ],
   "source": [
    "IMG_SIZE=128\n",
    "Xtrain=[]\n",
    "ytrain=[]\n",
    "for image in imagepathstrain:\n",
    "    try:\n",
    "        img = cv2.imread(image,cv2.IMREAD_COLOR)\n",
    "        img = cv2.resize(img, (IMG_SIZE,IMG_SIZE))\n",
    "\n",
    "        Xtrain.append(np.array(img))\n",
    "        if(image.startswith('images\\\\4.2.3\\\\TrainingDataset\\\\meme\\\\')):\n",
    "            ytrain.append('meme')\n",
    "        else:\n",
    "            ytrain.append('non-meme')\n",
    "    except:\n",
    "        pass\n",
    "    \n",
    "Xtest=[]\n",
    "ytest=[]\n",
    "for image in imagepathstest:\n",
    "    try:\n",
    "        img = cv2.imread(image,cv2.IMREAD_COLOR)\n",
    "        img = cv2.resize(img, (IMG_SIZE,IMG_SIZE))\n",
    "\n",
    "        Xtest.append(np.array(img))\n",
    "        if(image.startswith('images\\\\4.2.3\\\\TestingDataset\\\\meme\\\\')):\n",
    "            ytest.append('meme')\n",
    "        else:\n",
    "            ytest.append('non-meme')\n",
    "    except:\n",
    "        pass\n",
    "    \n",
    "\n",
    "len(Xtrain)\n"
   ]
  },
  {
   "cell_type": "code",
   "execution_count": 14,
   "metadata": {},
   "outputs": [],
   "source": [
    "from sklearn.preprocessing import LabelEncoder\n",
    "from tensorflow.keras.utils import to_categorical\n",
    "from sklearn.model_selection import train_test_split\n",
    "\n",
    "le=LabelEncoder()\n",
    "Ytrain=le.fit_transform(ytrain)\n",
    "Ytrain=to_categorical(Ytrain,2)\n",
    "\n",
    "Ytest=le.fit_transform(ytest)\n",
    "Ytest=to_categorical(Ytest,2)\n",
    "\n",
    "Xtrain=np.array(Xtrain)\n",
    "\n",
    "Xtest=np.array(Xtest)\n",
    "\n",
    "#x_train,x_test,y_train,y_test=train_test_split(X,Y,test_size=0.25,random_state=5)"
   ]
  },
  {
   "cell_type": "code",
   "execution_count": 15,
   "metadata": {},
   "outputs": [],
   "source": [
    "# Create a CNN Sequential Model\n",
    "model = Sequential()\n",
    "\n",
    "model.add(Conv2D(32, (5,5), activation = 'relu', input_shape=(128,128,3)))\n",
    "model.add(MaxPooling2D((2,2)))\n",
    "\n",
    "model.add(Conv2D(64, (3, 3), activation='relu')) \n",
    "model.add(MaxPooling2D((2, 2)))\n",
    "\n",
    "model.add(Conv2D(128, (3, 3), activation='relu')) \n",
    "model.add(MaxPooling2D((2, 2)))\n",
    "\n",
    "model.add(Conv2D(128, (3, 3), activation='relu')) \n",
    "model.add(MaxPooling2D((2, 2)))\n",
    "\n",
    "model.add(Conv2D(128, (3, 3), activation='relu')) \n",
    "model.add(MaxPooling2D((2, 2)))\n",
    "\n",
    "model.add(Flatten())\n",
    "\n",
    "model.add(Dropout(0.6))\n",
    "\n",
    "model.add(Dense(128, activation='relu'))\n",
    "\n",
    "model.add(Dense(2, activation='softmax'))"
   ]
  },
  {
   "cell_type": "code",
   "execution_count": 16,
   "metadata": {},
   "outputs": [],
   "source": [
    "#Model configuration for training purpose\n",
    "adam= keras.optimizers.Adam(learning_rate=0.001)\n",
    "model.compile(optimizer='adam', loss='categorical_crossentropy', metrics=['accuracy'])\n"
   ]
  },
  {
   "cell_type": "code",
   "execution_count": 17,
   "metadata": {},
   "outputs": [
    {
     "name": "stdout",
     "output_type": "stream",
     "text": [
      "Model: \"sequential_1\"\n",
      "_________________________________________________________________\n",
      "Layer (type)                 Output Shape              Param #   \n",
      "=================================================================\n",
      "conv2d_5 (Conv2D)            (None, 124, 124, 32)      2432      \n",
      "_________________________________________________________________\n",
      "max_pooling2d_5 (MaxPooling2 (None, 62, 62, 32)        0         \n",
      "_________________________________________________________________\n",
      "conv2d_6 (Conv2D)            (None, 60, 60, 64)        18496     \n",
      "_________________________________________________________________\n",
      "max_pooling2d_6 (MaxPooling2 (None, 30, 30, 64)        0         \n",
      "_________________________________________________________________\n",
      "conv2d_7 (Conv2D)            (None, 28, 28, 128)       73856     \n",
      "_________________________________________________________________\n",
      "max_pooling2d_7 (MaxPooling2 (None, 14, 14, 128)       0         \n",
      "_________________________________________________________________\n",
      "conv2d_8 (Conv2D)            (None, 12, 12, 128)       147584    \n",
      "_________________________________________________________________\n",
      "max_pooling2d_8 (MaxPooling2 (None, 6, 6, 128)         0         \n",
      "_________________________________________________________________\n",
      "conv2d_9 (Conv2D)            (None, 4, 4, 128)         147584    \n",
      "_________________________________________________________________\n",
      "max_pooling2d_9 (MaxPooling2 (None, 2, 2, 128)         0         \n",
      "_________________________________________________________________\n",
      "flatten_1 (Flatten)          (None, 512)               0         \n",
      "_________________________________________________________________\n",
      "dropout_1 (Dropout)          (None, 512)               0         \n",
      "_________________________________________________________________\n",
      "dense_2 (Dense)              (None, 128)               65664     \n",
      "_________________________________________________________________\n",
      "dense_3 (Dense)              (None, 2)                 258       \n",
      "=================================================================\n",
      "Total params: 455,874\n",
      "Trainable params: 455,874\n",
      "Non-trainable params: 0\n",
      "_________________________________________________________________\n",
      "None\n"
     ]
    }
   ],
   "source": [
    "print(model.summary())"
   ]
  },
  {
   "cell_type": "code",
   "execution_count": 18,
   "metadata": {},
   "outputs": [
    {
     "name": "stdout",
     "output_type": "stream",
     "text": [
      "Epoch 1/50\n",
      "125/125 - 128s - loss: 1.7238 - accuracy: 0.6132 - val_loss: 0.5811 - val_accuracy: 0.7143\n",
      "Epoch 2/50\n",
      "125/125 - 146s - loss: 0.5564 - accuracy: 0.7361 - val_loss: 0.6583 - val_accuracy: 0.6286\n",
      "Epoch 3/50\n",
      "125/125 - 149s - loss: 0.4921 - accuracy: 0.7916 - val_loss: 0.4304 - val_accuracy: 0.8095\n",
      "Epoch 4/50\n",
      "125/125 - 148s - loss: 0.4305 - accuracy: 0.8270 - val_loss: 0.4406 - val_accuracy: 0.8095\n",
      "Epoch 5/50\n",
      "125/125 - 149s - loss: 0.4194 - accuracy: 0.8250 - val_loss: 0.4210 - val_accuracy: 0.7714\n",
      "Epoch 6/50\n",
      "125/125 - 150s - loss: 0.3741 - accuracy: 0.8537 - val_loss: 0.3891 - val_accuracy: 0.8381\n",
      "Epoch 7/50\n",
      "125/125 - 259s - loss: 0.3538 - accuracy: 0.8631 - val_loss: 0.4214 - val_accuracy: 0.8095\n",
      "Epoch 8/50\n",
      "125/125 - 258s - loss: 0.3202 - accuracy: 0.8737 - val_loss: 0.3777 - val_accuracy: 0.8571\n",
      "Epoch 9/50\n",
      "125/125 - 259s - loss: 0.3006 - accuracy: 0.8818 - val_loss: 0.3784 - val_accuracy: 0.8381\n",
      "Epoch 10/50\n",
      "125/125 - 281s - loss: 0.2880 - accuracy: 0.8744 - val_loss: 0.3499 - val_accuracy: 0.8381\n",
      "Epoch 11/50\n",
      "125/125 - 266s - loss: 0.2942 - accuracy: 0.8831 - val_loss: 0.3303 - val_accuracy: 0.8762\n",
      "Epoch 12/50\n",
      "125/125 - 260s - loss: 0.2669 - accuracy: 0.8951 - val_loss: 0.4266 - val_accuracy: 0.8571\n",
      "Epoch 13/50\n",
      "125/125 - 258s - loss: 0.2748 - accuracy: 0.8918 - val_loss: 0.3260 - val_accuracy: 0.8190\n",
      "Epoch 14/50\n",
      "125/125 - 269s - loss: 0.2407 - accuracy: 0.9025 - val_loss: 0.3562 - val_accuracy: 0.8381\n",
      "Epoch 15/50\n",
      "125/125 - 271s - loss: 0.2342 - accuracy: 0.9138 - val_loss: 0.3645 - val_accuracy: 0.8190\n",
      "Epoch 16/50\n",
      "125/125 - 264s - loss: 0.2687 - accuracy: 0.8985 - val_loss: 0.4251 - val_accuracy: 0.8286\n",
      "Epoch 17/50\n",
      "125/125 - 262s - loss: 0.2696 - accuracy: 0.8911 - val_loss: 0.4882 - val_accuracy: 0.8000\n",
      "Epoch 18/50\n",
      "125/125 - 261s - loss: 0.2021 - accuracy: 0.9172 - val_loss: 0.4298 - val_accuracy: 0.8667\n",
      "Epoch 19/50\n",
      "125/125 - 261s - loss: 0.2023 - accuracy: 0.9232 - val_loss: 0.4452 - val_accuracy: 0.8571\n",
      "Epoch 20/50\n",
      "125/125 - 259s - loss: 0.2338 - accuracy: 0.9138 - val_loss: 0.4194 - val_accuracy: 0.8381\n",
      "Epoch 21/50\n",
      "125/125 - 260s - loss: 0.2219 - accuracy: 0.9065 - val_loss: 0.4944 - val_accuracy: 0.8476\n",
      "Epoch 22/50\n",
      "125/125 - 259s - loss: 0.2308 - accuracy: 0.9085 - val_loss: 0.4390 - val_accuracy: 0.8190\n",
      "Epoch 23/50\n",
      "125/125 - 257s - loss: 0.1839 - accuracy: 0.9312 - val_loss: 0.4569 - val_accuracy: 0.8571\n",
      "Epoch 24/50\n",
      "125/125 - 260s - loss: 0.1827 - accuracy: 0.9312 - val_loss: 0.3710 - val_accuracy: 0.8667\n",
      "Epoch 25/50\n",
      "125/125 - 257s - loss: 0.1575 - accuracy: 0.9405 - val_loss: 0.6035 - val_accuracy: 0.7714\n",
      "Epoch 26/50\n",
      "125/125 - 259s - loss: 0.2200 - accuracy: 0.9198 - val_loss: 0.4262 - val_accuracy: 0.8571\n",
      "Epoch 27/50\n",
      "125/125 - 264s - loss: 0.1536 - accuracy: 0.9385 - val_loss: 0.4456 - val_accuracy: 0.8667\n",
      "Epoch 28/50\n",
      "125/125 - 237s - loss: 0.1301 - accuracy: 0.9506 - val_loss: 0.6100 - val_accuracy: 0.8000\n",
      "Epoch 29/50\n",
      "125/125 - 218s - loss: 0.1290 - accuracy: 0.9512 - val_loss: 0.5312 - val_accuracy: 0.8571\n",
      "Epoch 30/50\n",
      "125/125 - 199s - loss: 0.1336 - accuracy: 0.9479 - val_loss: 0.4507 - val_accuracy: 0.8381\n",
      "Epoch 31/50\n",
      "125/125 - 98s - loss: 0.1315 - accuracy: 0.9519 - val_loss: 0.6108 - val_accuracy: 0.8095\n",
      "Epoch 32/50\n",
      "125/125 - 112s - loss: 0.2376 - accuracy: 0.9105 - val_loss: 0.3898 - val_accuracy: 0.8667\n",
      "Epoch 33/50\n",
      "125/125 - 130s - loss: 0.1706 - accuracy: 0.9412 - val_loss: 0.4175 - val_accuracy: 0.8381\n",
      "Epoch 34/50\n",
      "125/125 - 126s - loss: 0.1564 - accuracy: 0.9466 - val_loss: 0.5720 - val_accuracy: 0.8000\n",
      "Epoch 35/50\n",
      "125/125 - 120s - loss: 0.1257 - accuracy: 0.9519 - val_loss: 0.6397 - val_accuracy: 0.8095\n",
      "Epoch 36/50\n",
      "125/125 - 121s - loss: 0.1702 - accuracy: 0.9345 - val_loss: 0.5933 - val_accuracy: 0.8190\n",
      "Epoch 37/50\n",
      "125/125 - 123s - loss: 0.1242 - accuracy: 0.9566 - val_loss: 0.4712 - val_accuracy: 0.8476\n",
      "Epoch 38/50\n",
      "125/125 - 127s - loss: 0.1040 - accuracy: 0.9566 - val_loss: 0.6237 - val_accuracy: 0.8476\n",
      "Epoch 39/50\n",
      "125/125 - 100s - loss: 0.1064 - accuracy: 0.9626 - val_loss: 0.5353 - val_accuracy: 0.8762\n",
      "Epoch 40/50\n",
      "125/125 - 89s - loss: 0.1167 - accuracy: 0.9579 - val_loss: 0.4539 - val_accuracy: 0.8286\n",
      "Epoch 41/50\n",
      "125/125 - 94s - loss: 0.0831 - accuracy: 0.9679 - val_loss: 0.4485 - val_accuracy: 0.8571\n",
      "Epoch 42/50\n",
      "125/125 - 103s - loss: 0.0782 - accuracy: 0.9693 - val_loss: 0.5431 - val_accuracy: 0.8762\n",
      "Epoch 43/50\n",
      "125/125 - 107s - loss: 0.0482 - accuracy: 0.9833 - val_loss: 0.6610 - val_accuracy: 0.8286\n",
      "Epoch 44/50\n",
      "125/125 - 107s - loss: 0.0680 - accuracy: 0.9760 - val_loss: 0.6789 - val_accuracy: 0.8286\n",
      "Epoch 45/50\n",
      "125/125 - 118s - loss: 0.0812 - accuracy: 0.9713 - val_loss: 0.5163 - val_accuracy: 0.8857\n",
      "Epoch 46/50\n",
      "125/125 - 123s - loss: 0.0799 - accuracy: 0.9693 - val_loss: 0.5971 - val_accuracy: 0.8190\n",
      "Epoch 47/50\n",
      "125/125 - 159s - loss: 0.2022 - accuracy: 0.9319 - val_loss: 0.5951 - val_accuracy: 0.8286\n",
      "Epoch 48/50\n",
      "125/125 - 181s - loss: 0.0808 - accuracy: 0.9693 - val_loss: 0.8548 - val_accuracy: 0.8762\n",
      "Epoch 49/50\n",
      "125/125 - 181s - loss: 0.1737 - accuracy: 0.9419 - val_loss: 0.4215 - val_accuracy: 0.8381\n",
      "Epoch 50/50\n",
      "125/125 - 200s - loss: 0.1147 - accuracy: 0.9586 - val_loss: 0.4318 - val_accuracy: 0.8286\n"
     ]
    }
   ],
   "source": [
    "history=model.fit(Xtrain, Ytrain, epochs=50, batch_size=12, verbose=2, \n",
    "         validation_data=(Xtest, Ytest))"
   ]
  },
  {
   "cell_type": "code",
   "execution_count": 19,
   "metadata": {},
   "outputs": [
    {
     "name": "stdout",
     "output_type": "stream",
     "text": [
      "4/4 [==============================] - 2s 610ms/step - loss: 0.4318 - accuracy: 0.8286\n",
      "Test accuracy: 82.86%\n"
     ]
    }
   ],
   "source": [
    "loss, accuracy = model.evaluate(Xtest, Ytest)\n",
    "print('Test accuracy: {:2.2f}%'.format(accuracy*100))\n"
   ]
  },
  {
   "cell_type": "code",
   "execution_count": 20,
   "metadata": {},
   "outputs": [
    {
     "data": {
      "text/plain": [
       "<AxesSubplot:>"
      ]
     },
     "execution_count": 20,
     "metadata": {},
     "output_type": "execute_result"
    },
    {
     "data": {
      "image/png": "[encoded data removed]",
      "text/plain": [
       "<Figure size 432x288 with 2 Axes>"
      ]
     },
     "metadata": {
      "needs_background": "light"
     },
     "output_type": "display_data"
    }
   ],
   "source": [
    "# Making predictions on test data\n",
    "prediction = model.predict(Xtest)\n",
    "#Transform predictions into 1D array \n",
    "y_pred = np.argmax(prediction, axis=1)\n",
    "y_test1=Ytest.astype(int)\n",
    "y_test2=[]\n",
    "for i in y_test1:\n",
    "    a=1\n",
    "    #print(i[0],i[1])\n",
    "    if(i[0]==1 and i[1]==0):\n",
    "        a=0\n",
    "    y_test2.append(a)    \n",
    "        \n",
    "#Create a Confusion Matrix for Evaluation\n",
    "# H = Horizontal\n",
    "# V = Vertical\n",
    "\n",
    "#Create a Confusion Matrix for Evaluation\n",
    "cf_matrix = confusion_matrix(y_test2, y_pred)\n",
    "\n",
    "import seaborn as sns\n",
    "group_names = ['Predicted meme','Predicted non-meme','Actual meme','Actual non-meme']\n",
    "group_counts = ['{0:0.0f}'.format(value) for value in\n",
    "                cf_matrix.flatten()]\n",
    "group_percentages = ['{0:.2%}'.format(value) for value in\n",
    "                     cf_matrix.flatten()/np.sum(cf_matrix)]\n",
    "labels = [f'{v1}\\n{v2}\\n{v3}' for v1, v2, v3 in\n",
    "          zip(group_names,group_counts,group_percentages)]\n",
    "labels = np.asarray(labels).reshape(2,2)\n",
    "sns.heatmap(cf_matrix, annot=labels, fmt='', cmap='Blues')"
   ]
  },
  {
   "cell_type": "code",
   "execution_count": 21,
   "metadata": {},
   "outputs": [
    {
     "name": "stdout",
     "output_type": "stream",
     "text": [
      "              precision    recall  f1-score   support\n",
      "\n",
      "           0       0.88      0.73      0.80        49\n",
      "           1       0.80      0.91      0.85        56\n",
      "\n",
      "    accuracy                           0.83       105\n",
      "   macro avg       0.84      0.82      0.82       105\n",
      "weighted avg       0.83      0.83      0.83       105\n",
      "\n"
     ]
    }
   ],
   "source": [
    "from sklearn.metrics import classification_report\n",
    "\n",
    "#y_pred_bool = np.argmax(y_pred, axis=1)\n",
    "\n",
    "print(classification_report(y_test2, y_pred))"
   ]
  },
  {
   "cell_type": "code",
   "execution_count": 22,
   "metadata": {},
   "outputs": [
    {
     "data": {
      "image/png": "[encoded data removed]",
      "text/plain": [
       "<Figure size 432x288 with 1 Axes>"
      ]
     },
     "metadata": {
      "needs_background": "light"
     },
     "output_type": "display_data"
    },
    {
     "data": {
      "image/png": "[encoded data removed]",
      "text/plain": [
       "<Figure size 432x288 with 1 Axes>"
      ]
     },
     "metadata": {
      "needs_background": "light"
     },
     "output_type": "display_data"
    }
   ],
   "source": [
    "# Get training and test loss histories\n",
    "training_loss = history.history['loss']\n",
    "test_loss = history.history['val_loss']\n",
    "\n",
    "# Create count of the number of epochs\n",
    "epoch_count = range(1, len(training_loss) + 1)\n",
    "\n",
    "# Visualize loss history\n",
    "plt.plot(epoch_count, training_loss, 'r--')\n",
    "plt.plot(epoch_count, test_loss, 'b-')\n",
    "plt.legend(['Training Loss', 'Test Loss'])\n",
    "plt.xlabel('Epoch')\n",
    "plt.ylabel('Loss')\n",
    "plt.title('Model Loss')\n",
    "plt.show()\n",
    "\n",
    "training_acc = history.history['accuracy']\n",
    "test_acc = history.history['val_accuracy']\n",
    "epoch_count = range(1, len(training_acc) + 1)\n",
    "plt.plot(epoch_count, training_acc, 'r--')\n",
    "plt.plot(epoch_count, test_acc, 'b-')\n",
    "plt.title('Model accuracy')\n",
    "plt.ylabel('Accuracy')\n",
    "plt.xlabel('Epoch')\n",
    "plt.legend(['Training accuracy', 'Test accuracy'])\n",
    "plt.show()"
   ]
  },
  {
   "cell_type": "code",
   "execution_count": null,
   "metadata": {},
   "outputs": [],
   "source": []
  }
 ],
 "metadata": {
  "kernelspec": {
   "display_name": "Python 3",
   "language": "python",
   "name": "python3"
  },
  "language_info": {
   "codemirror_mode": {
    "name": "ipython",
    "version": 3
   },
   "file_extension": ".py",
   "mimetype": "text/x-python",
   "name": "python",
   "nbconvert_exporter": "python",
   "pygments_lexer": "ipython3",
   "version": "3.8.10"
  }
 },
 "nbformat": 4,
 "nbformat_minor": 2
}
