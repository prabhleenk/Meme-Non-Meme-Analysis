{
 "cells": [
  {
   "cell_type": "code",
   "execution_count": 1,
   "metadata": {},
   "outputs": [
    {
     "name": "stdout",
     "output_type": "stream",
     "text": [
      "1428\n"
     ]
    }
   ],
   "source": [
    "#Keras\n",
    "from tensorflow import keras\n",
    "\n",
    "# Import of keras model and hidden layers for CNN\n",
    "from keras.models import Sequential\n",
    "from keras.layers.convolutional import Conv2D, MaxPooling2D\n",
    "from keras.layers import Dense, Flatten, Dropout\n",
    "\n",
    "#Image handling libraries\n",
    "import numpy as np\n",
    "import matplotlib.pyplot as plt\n",
    "import cv2\n",
    "import pandas as pd\n",
    "\n",
    "#Sklearn libraries\n",
    "from sklearn.model_selection import train_test_split\n",
    "from sklearn.metrics import confusion_matrix\n",
    "\n",
    "# data visualisation and manipulation\n",
    "import matplotlib.pyplot as plt\n",
    "from matplotlib import style\n",
    "\n",
    "#Initialize a list of paths for images\n",
    "imagepathstrain = []\n",
    "imagepathstest = []\n",
    "\n",
    "import os\n",
    "for dirname, _, filenames in os.walk(r'images\\4.2.6\\TrainingDataset'):\n",
    "    for filename in filenames:\n",
    "        path = os.path.join(dirname, filename)\n",
    "        imagepathstrain.append(path)\n",
    "        \n",
    "for dirname, _, filenames in os.walk(r'images\\4.2.6\\TestingDataset'):\n",
    "    for filename in filenames:\n",
    "        path = os.path.join(dirname, filename)\n",
    "        imagepathstest.append(path)\n",
    "\n",
    "print(len(imagepathstrain))"
   ]
  },
  {
   "cell_type": "code",
   "execution_count": 2,
   "metadata": {},
   "outputs": [
    {
     "data": {
      "text/plain": [
       "1428"
      ]
     },
     "execution_count": 2,
     "metadata": {},
     "output_type": "execute_result"
    }
   ],
   "source": [
    "IMG_SIZE=128\n",
    "Xtrain=[]\n",
    "ytrain=[]\n",
    "for image in imagepathstrain:\n",
    "    try:\n",
    "        img = cv2.imread(image,cv2.IMREAD_COLOR)\n",
    "        img = cv2.resize(img, (IMG_SIZE,IMG_SIZE))\n",
    "\n",
    "        Xtrain.append(np.array(img))\n",
    "        if(image.startswith('images\\\\4.2.6\\\\TrainingDataset\\\\meme\\\\')):\n",
    "            ytrain.append('meme')\n",
    "        else:\n",
    "            ytrain.append('non-meme')\n",
    "    except:\n",
    "        pass\n",
    "    \n",
    "Xtest=[]\n",
    "ytest=[]\n",
    "for image in imagepathstest:\n",
    "    try:\n",
    "        img = cv2.imread(image,cv2.IMREAD_COLOR)\n",
    "        img = cv2.resize(img, (IMG_SIZE,IMG_SIZE))\n",
    "\n",
    "        Xtest.append(np.array(img))\n",
    "        if(image.startswith('images\\\\4.2.6\\\\TestingDataset\\\\meme\\\\')):\n",
    "            ytest.append('meme')\n",
    "        else:\n",
    "            ytest.append('non-meme')\n",
    "    except:\n",
    "        pass\n",
    "    \n",
    "\n",
    "len(Xtrain)\n"
   ]
  },
  {
   "cell_type": "code",
   "execution_count": 3,
   "metadata": {},
   "outputs": [],
   "source": [
    "from sklearn.preprocessing import LabelEncoder\n",
    "from tensorflow.keras.utils import to_categorical\n",
    "from sklearn.model_selection import train_test_split\n",
    "\n",
    "le=LabelEncoder()\n",
    "Ytrain=le.fit_transform(ytrain)\n",
    "Ytrain=to_categorical(Ytrain,2)\n",
    "\n",
    "Ytest=le.fit_transform(ytest)\n",
    "Ytest=to_categorical(Ytest,2)\n",
    "\n",
    "Xtrain=np.array(Xtrain)\n",
    "\n",
    "Xtest=np.array(Xtest)\n",
    "\n",
    "#x_train,x_test,y_train,y_test=train_test_split(X,Y,test_size=0.25,random_state=5)"
   ]
  },
  {
   "cell_type": "code",
   "execution_count": 4,
   "metadata": {},
   "outputs": [],
   "source": [
    "# Create a CNN Sequential Model\n",
    "model = Sequential()\n",
    "\n",
    "model.add(Conv2D(32, (5,5), activation = 'relu', input_shape=(128,128,3)))\n",
    "model.add(MaxPooling2D((2,2)))\n",
    "\n",
    "model.add(Conv2D(64, (3, 3), activation='relu')) \n",
    "model.add(MaxPooling2D((2, 2)))\n",
    "\n",
    "model.add(Conv2D(128, (3, 3), activation='relu')) \n",
    "model.add(MaxPooling2D((2, 2)))\n",
    "\n",
    "model.add(Conv2D(128, (3, 3), activation='relu')) \n",
    "model.add(MaxPooling2D((2, 2)))\n",
    "\n",
    "model.add(Conv2D(128, (3, 3), activation='relu')) \n",
    "model.add(MaxPooling2D((2, 2)))\n",
    "\n",
    "model.add(Flatten())\n",
    "\n",
    "model.add(Dropout(0.6))\n",
    "\n",
    "model.add(Dense(128, activation='relu'))\n",
    "\n",
    "model.add(Dense(2, activation='softmax'))"
   ]
  },
  {
   "cell_type": "code",
   "execution_count": 5,
   "metadata": {},
   "outputs": [],
   "source": [
    "#Model configuration for training purpose\n",
    "adam= keras.optimizers.Adam(learning_rate=0.001)\n",
    "model.compile(optimizer='adam', loss='categorical_crossentropy', metrics=['accuracy'])\n"
   ]
  },
  {
   "cell_type": "code",
   "execution_count": 6,
   "metadata": {},
   "outputs": [
    {
     "name": "stdout",
     "output_type": "stream",
     "text": [
      "Model: \"sequential\"\n",
      "_________________________________________________________________\n",
      "Layer (type)                 Output Shape              Param #   \n",
      "=================================================================\n",
      "conv2d (Conv2D)              (None, 124, 124, 32)      2432      \n",
      "_________________________________________________________________\n",
      "max_pooling2d (MaxPooling2D) (None, 62, 62, 32)        0         \n",
      "_________________________________________________________________\n",
      "conv2d_1 (Conv2D)            (None, 60, 60, 64)        18496     \n",
      "_________________________________________________________________\n",
      "max_pooling2d_1 (MaxPooling2 (None, 30, 30, 64)        0         \n",
      "_________________________________________________________________\n",
      "conv2d_2 (Conv2D)            (None, 28, 28, 128)       73856     \n",
      "_________________________________________________________________\n",
      "max_pooling2d_2 (MaxPooling2 (None, 14, 14, 128)       0         \n",
      "_________________________________________________________________\n",
      "conv2d_3 (Conv2D)            (None, 12, 12, 128)       147584    \n",
      "_________________________________________________________________\n",
      "max_pooling2d_3 (MaxPooling2 (None, 6, 6, 128)         0         \n",
      "_________________________________________________________________\n",
      "conv2d_4 (Conv2D)            (None, 4, 4, 128)         147584    \n",
      "_________________________________________________________________\n",
      "max_pooling2d_4 (MaxPooling2 (None, 2, 2, 128)         0         \n",
      "_________________________________________________________________\n",
      "flatten (Flatten)            (None, 512)               0         \n",
      "_________________________________________________________________\n",
      "dropout (Dropout)            (None, 512)               0         \n",
      "_________________________________________________________________\n",
      "dense (Dense)                (None, 128)               65664     \n",
      "_________________________________________________________________\n",
      "dense_1 (Dense)              (None, 2)                 258       \n",
      "=================================================================\n",
      "Total params: 455,874\n",
      "Trainable params: 455,874\n",
      "Non-trainable params: 0\n",
      "_________________________________________________________________\n",
      "None\n"
     ]
    }
   ],
   "source": [
    "print(model.summary())"
   ]
  },
  {
   "cell_type": "code",
   "execution_count": 7,
   "metadata": {},
   "outputs": [
    {
     "name": "stdout",
     "output_type": "stream",
     "text": [
      "Epoch 1/50\n",
      "119/119 - 235s - loss: 1.6138 - accuracy: 0.6106 - val_loss: 0.5300 - val_accuracy: 0.7759\n",
      "Epoch 2/50\n",
      "119/119 - 229s - loss: 0.5602 - accuracy: 0.7332 - val_loss: 0.4500 - val_accuracy: 0.7874\n",
      "Epoch 3/50\n",
      "119/119 - 231s - loss: 0.4932 - accuracy: 0.8081 - val_loss: 0.4962 - val_accuracy: 0.7989\n",
      "Epoch 4/50\n",
      "119/119 - 223s - loss: 0.4555 - accuracy: 0.8060 - val_loss: 0.3799 - val_accuracy: 0.8908\n",
      "Epoch 5/50\n",
      "119/119 - 187s - loss: 0.4074 - accuracy: 0.8340 - val_loss: 0.3650 - val_accuracy: 0.8448\n",
      "Epoch 6/50\n",
      "119/119 - 175s - loss: 0.3809 - accuracy: 0.8536 - val_loss: 0.3594 - val_accuracy: 0.8391\n",
      "Epoch 7/50\n",
      "119/119 - 178s - loss: 0.3338 - accuracy: 0.8634 - val_loss: 0.3679 - val_accuracy: 0.8276\n",
      "Epoch 8/50\n",
      "119/119 - 183s - loss: 0.2911 - accuracy: 0.8845 - val_loss: 0.2976 - val_accuracy: 0.8621\n",
      "Epoch 9/50\n",
      "119/119 - 204s - loss: 0.3487 - accuracy: 0.8557 - val_loss: 0.3846 - val_accuracy: 0.8218\n",
      "Epoch 10/50\n",
      "119/119 - 204s - loss: 0.3759 - accuracy: 0.8445 - val_loss: 0.3906 - val_accuracy: 0.8218\n",
      "Epoch 11/50\n",
      "119/119 - 205s - loss: 0.3389 - accuracy: 0.8487 - val_loss: 0.3358 - val_accuracy: 0.8736\n",
      "Epoch 12/50\n",
      "119/119 - 201s - loss: 0.2906 - accuracy: 0.8831 - val_loss: 0.2926 - val_accuracy: 0.8966\n",
      "Epoch 13/50\n",
      "119/119 - 199s - loss: 0.2818 - accuracy: 0.8873 - val_loss: 0.3036 - val_accuracy: 0.8678\n",
      "Epoch 14/50\n",
      "119/119 - 201s - loss: 0.2797 - accuracy: 0.8845 - val_loss: 0.2900 - val_accuracy: 0.9138\n",
      "Epoch 15/50\n",
      "119/119 - 163s - loss: 0.2744 - accuracy: 0.9027 - val_loss: 0.3140 - val_accuracy: 0.8736\n",
      "Epoch 16/50\n",
      "119/119 - 135s - loss: 0.2719 - accuracy: 0.8999 - val_loss: 0.2238 - val_accuracy: 0.9253\n",
      "Epoch 17/50\n",
      "119/119 - 97s - loss: 0.2535 - accuracy: 0.8943 - val_loss: 0.3214 - val_accuracy: 0.8966\n",
      "Epoch 18/50\n",
      "119/119 - 97s - loss: 0.2164 - accuracy: 0.9174 - val_loss: 0.2332 - val_accuracy: 0.9310\n",
      "Epoch 19/50\n",
      "119/119 - 96s - loss: 0.1881 - accuracy: 0.9307 - val_loss: 0.2637 - val_accuracy: 0.9483\n",
      "Epoch 20/50\n",
      "119/119 - 113s - loss: 0.2332 - accuracy: 0.9083 - val_loss: 0.2660 - val_accuracy: 0.9080\n",
      "Epoch 21/50\n",
      "119/119 - 131s - loss: 0.3855 - accuracy: 0.8536 - val_loss: 0.4317 - val_accuracy: 0.8793\n",
      "Epoch 22/50\n",
      "119/119 - 141s - loss: 0.2261 - accuracy: 0.9272 - val_loss: 0.2835 - val_accuracy: 0.8966\n",
      "Epoch 23/50\n",
      "119/119 - 144s - loss: 0.2069 - accuracy: 0.9223 - val_loss: 0.2716 - val_accuracy: 0.9023\n",
      "Epoch 24/50\n",
      "119/119 - 143s - loss: 0.1867 - accuracy: 0.9391 - val_loss: 0.2940 - val_accuracy: 0.8966\n",
      "Epoch 25/50\n",
      "119/119 - 142s - loss: 0.1694 - accuracy: 0.9433 - val_loss: 0.3486 - val_accuracy: 0.8678\n",
      "Epoch 26/50\n",
      "119/119 - 198s - loss: 0.2501 - accuracy: 0.9076 - val_loss: 0.2339 - val_accuracy: 0.9310\n",
      "Epoch 27/50\n",
      "119/119 - 252s - loss: 0.1654 - accuracy: 0.9349 - val_loss: 0.2534 - val_accuracy: 0.9195\n",
      "Epoch 28/50\n",
      "119/119 - 250s - loss: 0.1129 - accuracy: 0.9545 - val_loss: 0.4382 - val_accuracy: 0.9195\n",
      "Epoch 29/50\n",
      "119/119 - 250s - loss: 0.1725 - accuracy: 0.9307 - val_loss: 0.3371 - val_accuracy: 0.8908\n",
      "Epoch 30/50\n",
      "119/119 - 275s - loss: 0.1381 - accuracy: 0.9566 - val_loss: 0.4235 - val_accuracy: 0.8793\n",
      "Epoch 31/50\n",
      "119/119 - 255s - loss: 0.1277 - accuracy: 0.9538 - val_loss: 0.3467 - val_accuracy: 0.8966\n",
      "Epoch 32/50\n",
      "119/119 - 251s - loss: 0.1325 - accuracy: 0.9545 - val_loss: 0.3038 - val_accuracy: 0.8966\n",
      "Epoch 33/50\n",
      "119/119 - 252s - loss: 0.1397 - accuracy: 0.9468 - val_loss: 0.3585 - val_accuracy: 0.8621\n",
      "Epoch 34/50\n",
      "119/119 - 262s - loss: 0.1705 - accuracy: 0.9426 - val_loss: 0.2452 - val_accuracy: 0.9080\n",
      "Epoch 35/50\n",
      "119/119 - 258s - loss: 0.1262 - accuracy: 0.9643 - val_loss: 0.3725 - val_accuracy: 0.8678\n",
      "Epoch 36/50\n",
      "119/119 - 250s - loss: 0.1020 - accuracy: 0.9692 - val_loss: 0.4379 - val_accuracy: 0.9310\n",
      "Epoch 37/50\n",
      "119/119 - 250s - loss: 0.1075 - accuracy: 0.9636 - val_loss: 0.2213 - val_accuracy: 0.9080\n",
      "Epoch 38/50\n",
      "119/119 - 253s - loss: 0.1096 - accuracy: 0.9608 - val_loss: 0.4501 - val_accuracy: 0.8506\n",
      "Epoch 39/50\n",
      "119/119 - 255s - loss: 0.0772 - accuracy: 0.9762 - val_loss: 0.3432 - val_accuracy: 0.9195\n",
      "Epoch 40/50\n",
      "119/119 - 252s - loss: 0.0911 - accuracy: 0.9657 - val_loss: 0.4146 - val_accuracy: 0.9195\n",
      "Epoch 41/50\n",
      "119/119 - 250s - loss: 0.0765 - accuracy: 0.9734 - val_loss: 0.2989 - val_accuracy: 0.9080\n",
      "Epoch 42/50\n",
      "119/119 - 252s - loss: 0.0893 - accuracy: 0.9713 - val_loss: 0.2633 - val_accuracy: 0.9253\n",
      "Epoch 43/50\n",
      "119/119 - 249s - loss: 0.0709 - accuracy: 0.9769 - val_loss: 0.4083 - val_accuracy: 0.9080\n",
      "Epoch 44/50\n",
      "119/119 - 254s - loss: 0.0775 - accuracy: 0.9734 - val_loss: 0.3454 - val_accuracy: 0.9253\n",
      "Epoch 45/50\n",
      "119/119 - 248s - loss: 0.1748 - accuracy: 0.9454 - val_loss: 0.2628 - val_accuracy: 0.9138\n",
      "Epoch 46/50\n",
      "119/119 - 248s - loss: 0.0629 - accuracy: 0.9832 - val_loss: 0.4961 - val_accuracy: 0.8678\n",
      "Epoch 47/50\n",
      "119/119 - 255s - loss: 0.1788 - accuracy: 0.9384 - val_loss: 0.2352 - val_accuracy: 0.9195\n",
      "Epoch 48/50\n",
      "119/119 - 239s - loss: 0.1010 - accuracy: 0.9706 - val_loss: 0.3166 - val_accuracy: 0.9368\n",
      "Epoch 49/50\n",
      "119/119 - 210s - loss: 0.1141 - accuracy: 0.9671 - val_loss: 0.3067 - val_accuracy: 0.9080\n",
      "Epoch 50/50\n",
      "119/119 - 210s - loss: 0.1446 - accuracy: 0.9496 - val_loss: 0.2825 - val_accuracy: 0.9195\n"
     ]
    }
   ],
   "source": [
    "history=model.fit(Xtrain, Ytrain, epochs=50, batch_size=12, verbose=2, \n",
    "         validation_data=(Xtest, Ytest))"
   ]
  },
  {
   "cell_type": "code",
   "execution_count": 8,
   "metadata": {},
   "outputs": [
    {
     "name": "stdout",
     "output_type": "stream",
     "text": [
      "6/6 [==============================] - 6s 1s/step - loss: 0.2825 - accuracy: 0.9195\n",
      "Test accuracy: 91.95%\n"
     ]
    }
   ],
   "source": [
    "loss, accuracy = model.evaluate(Xtest, Ytest)\n",
    "print('Test accuracy: {:2.2f}%'.format(accuracy*100))\n"
   ]
  },
  {
   "cell_type": "code",
   "execution_count": 9,
   "metadata": {},
   "outputs": [
    {
     "data": {
      "text/plain": [
       "<AxesSubplot:>"
      ]
     },
     "execution_count": 9,
     "metadata": {},
     "output_type": "execute_result"
    },
    {
     "data": {
      "image/png": "[encoded data removed]",
      "text/plain": [
       "<Figure size 432x288 with 2 Axes>"
      ]
     },
     "metadata": {
      "needs_background": "light"
     },
     "output_type": "display_data"
    }
   ],
   "source": [
    "# Making predictions on test data\n",
    "prediction = model.predict(Xtest)\n",
    "#Transform predictions into 1D array \n",
    "y_pred = np.argmax(prediction, axis=1)\n",
    "y_test1=Ytest.astype(int)\n",
    "y_test2=[]\n",
    "for i in y_test1:\n",
    "    a=1\n",
    "    #print(i[0],i[1])\n",
    "    if(i[0]==1 and i[1]==0):\n",
    "        a=0\n",
    "    y_test2.append(a)    \n",
    "        \n",
    "#Create a Confusion Matrix for Evaluation\n",
    "# H = Horizontal\n",
    "# V = Vertical\n",
    "\n",
    "#Create a Confusion Matrix for Evaluation\n",
    "cf_matrix = confusion_matrix(y_test2, y_pred)\n",
    "\n",
    "import seaborn as sns\n",
    "group_names = ['Predicted meme','Predicted non-meme','Actual meme','Actual non-meme']\n",
    "group_counts = ['{0:0.0f}'.format(value) for value in\n",
    "                cf_matrix.flatten()]\n",
    "group_percentages = ['{0:.2%}'.format(value) for value in\n",
    "                     cf_matrix.flatten()/np.sum(cf_matrix)]\n",
    "labels = [f'{v1}\\n{v2}\\n{v3}' for v1, v2, v3 in\n",
    "          zip(group_names,group_counts,group_percentages)]\n",
    "labels = np.asarray(labels).reshape(2,2)\n",
    "sns.heatmap(cf_matrix, annot=labels, fmt='', cmap='Blues')"
   ]
  },
  {
   "cell_type": "code",
   "execution_count": 10,
   "metadata": {},
   "outputs": [
    {
     "name": "stdout",
     "output_type": "stream",
     "text": [
      "              precision    recall  f1-score   support\n",
      "\n",
      "           0       0.88      0.93      0.90        71\n",
      "           1       0.95      0.91      0.93       103\n",
      "\n",
      "    accuracy                           0.92       174\n",
      "   macro avg       0.91      0.92      0.92       174\n",
      "weighted avg       0.92      0.92      0.92       174\n",
      "\n"
     ]
    }
   ],
   "source": [
    "from sklearn.metrics import classification_report\n",
    "print(classification_report(y_test2, y_pred))"
   ]
  },
  {
   "cell_type": "code",
   "execution_count": 11,
   "metadata": {},
   "outputs": [
    {
     "data": {
      "image/png": "[encoded data removed]",
      "text/plain": [
       "<Figure size 432x288 with 1 Axes>"
      ]
     },
     "metadata": {
      "needs_background": "light"
     },
     "output_type": "display_data"
    },
    {
     "data": {
      "image/png": "[encoded data removed]",
      "text/plain": [
       "<Figure size 432x288 with 1 Axes>"
      ]
     },
     "metadata": {
      "needs_background": "light"
     },
     "output_type": "display_data"
    }
   ],
   "source": [
    "# Get training and test loss histories\n",
    "training_loss = history.history['loss']\n",
    "test_loss = history.history['val_loss']\n",
    "\n",
    "# Create count of the number of epochs\n",
    "epoch_count = range(1, len(training_loss) + 1)\n",
    "\n",
    "# Visualize loss history\n",
    "plt.plot(epoch_count, training_loss, 'r--')\n",
    "plt.plot(epoch_count, test_loss, 'b-')\n",
    "plt.legend(['Training Loss', 'Test Loss'])\n",
    "plt.xlabel('Epoch')\n",
    "plt.ylabel('Loss')\n",
    "plt.title('Model Loss')\n",
    "plt.show()\n",
    "\n",
    "training_acc = history.history['accuracy']\n",
    "test_acc = history.history['val_accuracy']\n",
    "epoch_count = range(1, len(training_acc) + 1)\n",
    "plt.plot(epoch_count, training_acc, 'r--')\n",
    "plt.plot(epoch_count, test_acc, 'b-')\n",
    "plt.title('Model accuracy')\n",
    "plt.ylabel('Accuracy')\n",
    "plt.xlabel('Epoch')\n",
    "plt.legend(['Training accuracy', 'Test accuracy'])\n",
    "plt.show()"
   ]
  },
  {
   "cell_type": "code",
   "execution_count": null,
   "metadata": {},
   "outputs": [],
   "source": [
    "\n",
    "\n"
   ]
  }
 ],
 "metadata": {
  "kernelspec": {
   "display_name": "Python 3",
   "language": "python",
   "name": "python3"
  },
  "language_info": {
   "codemirror_mode": {
    "name": "ipython",
    "version": 3
   },
   "file_extension": ".py",
   "mimetype": "text/x-python",
   "name": "python",
   "nbconvert_exporter": "python",
   "pygments_lexer": "ipython3",
   "version": "3.8.10"
  }
 },
 "nbformat": 4,
 "nbformat_minor": 2
}
