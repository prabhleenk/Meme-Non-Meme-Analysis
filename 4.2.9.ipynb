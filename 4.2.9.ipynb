{
 "cells": [
  {
   "cell_type": "code",
   "execution_count": 11,
   "metadata": {},
   "outputs": [
    {
     "name": "stdout",
     "output_type": "stream",
     "text": [
      "1385\n"
     ]
    }
   ],
   "source": [
    "#Keras\n",
    "from tensorflow import keras\n",
    "\n",
    "# Import of keras model and hidden layers for CNN\n",
    "from keras.models import Sequential\n",
    "from keras.layers.convolutional import Conv2D, MaxPooling2D\n",
    "from keras.layers import Dense, Flatten, Dropout\n",
    "\n",
    "#Image handling libraries\n",
    "import numpy as np\n",
    "import matplotlib.pyplot as plt\n",
    "import cv2\n",
    "import pandas as pd\n",
    "\n",
    "#Sklearn libraries\n",
    "from sklearn.model_selection import train_test_split\n",
    "from sklearn.metrics import confusion_matrix\n",
    "\n",
    "# data visualisation and manipulation\n",
    "import matplotlib.pyplot as plt\n",
    "from matplotlib import style\n",
    "\n",
    "#Initialize a list of paths for images\n",
    "imagepathstrain = []\n",
    "imagepathstest = []\n",
    "\n",
    "import os\n",
    "for dirname, _, filenames in os.walk(r'images\\4.2.9\\TrainingDataset'):\n",
    "    for filename in filenames:\n",
    "        path = os.path.join(dirname, filename)\n",
    "        imagepathstrain.append(path)\n",
    "        \n",
    "for dirname, _, filenames in os.walk(r'images\\4.2.9\\TestingDataset'):\n",
    "    for filename in filenames:\n",
    "        path = os.path.join(dirname, filename)\n",
    "        imagepathstest.append(path)\n",
    "\n",
    "print(len(imagepathstrain))"
   ]
  },
  {
   "cell_type": "code",
   "execution_count": 13,
   "metadata": {},
   "outputs": [
    {
     "data": {
      "text/plain": [
       "1385"
      ]
     },
     "execution_count": 13,
     "metadata": {},
     "output_type": "execute_result"
    }
   ],
   "source": [
    "IMG_SIZE=128\n",
    "Xtrain=[]\n",
    "ytrain=[]\n",
    "for image in imagepathstrain:\n",
    "    try:\n",
    "        img = cv2.imread(image,cv2.IMREAD_COLOR)\n",
    "        img = cv2.resize(img, (IMG_SIZE,IMG_SIZE))\n",
    "\n",
    "        Xtrain.append(np.array(img))\n",
    "        if(image.startswith('images\\\\4.2.9\\\\TrainingDataset\\\\meme\\\\')):\n",
    "            ytrain.append('meme')\n",
    "        else:\n",
    "            ytrain.append('non-meme')\n",
    "    except:\n",
    "        pass\n",
    "    \n",
    "Xtest=[]\n",
    "ytest=[]\n",
    "for image in imagepathstest:\n",
    "    try:\n",
    "        img = cv2.imread(image,cv2.IMREAD_COLOR)\n",
    "        img = cv2.resize(img, (IMG_SIZE,IMG_SIZE))\n",
    "\n",
    "        Xtest.append(np.array(img))\n",
    "        if(image.startswith('images\\\\4.2.9\\\\TestingDataset\\\\meme\\\\')):\n",
    "            ytest.append('meme')\n",
    "        else:\n",
    "            ytest.append('non-meme')\n",
    "    except:\n",
    "        pass\n",
    "    \n",
    "\n",
    "len(Xtrain)\n"
   ]
  },
  {
   "cell_type": "code",
   "execution_count": 15,
   "metadata": {},
   "outputs": [],
   "source": [
    "from sklearn.preprocessing import LabelEncoder\n",
    "from tensorflow.keras.utils import to_categorical\n",
    "from sklearn.model_selection import train_test_split\n",
    "\n",
    "le=LabelEncoder()\n",
    "Ytrain=le.fit_transform(ytrain)\n",
    "Ytrain=to_categorical(Ytrain,2)\n",
    "\n",
    "Ytest=le.fit_transform(ytest)\n",
    "Ytest=to_categorical(Ytest,2)\n",
    "\n",
    "Xtrain=np.array(Xtrain)\n",
    "\n",
    "Xtest=np.array(Xtest)\n",
    "\n",
    "#x_train,x_test,y_train,y_test=train_test_split(X,Y,test_size=0.25,random_state=5)"
   ]
  },
  {
   "cell_type": "code",
   "execution_count": 17,
   "metadata": {},
   "outputs": [],
   "source": [
    "# Create a CNN Sequential Model\n",
    "model = Sequential()\n",
    "\n",
    "model.add(Conv2D(32, (5,5), activation = 'relu', input_shape=(128,128,3)))\n",
    "model.add(MaxPooling2D((2,2)))\n",
    "\n",
    "model.add(Conv2D(64, (3, 3), activation='relu')) \n",
    "model.add(MaxPooling2D((2, 2)))\n",
    "\n",
    "model.add(Conv2D(128, (3, 3), activation='relu')) \n",
    "model.add(MaxPooling2D((2, 2)))\n",
    "\n",
    "model.add(Conv2D(128, (3, 3), activation='relu')) \n",
    "model.add(MaxPooling2D((2, 2)))\n",
    "\n",
    "model.add(Conv2D(128, (3, 3), activation='relu')) \n",
    "model.add(MaxPooling2D((2, 2)))\n",
    "\n",
    "model.add(Flatten())\n",
    "\n",
    "model.add(Dropout(0.6))\n",
    "\n",
    "model.add(Dense(128, activation='relu'))\n",
    "\n",
    "model.add(Dense(2, activation='softmax'))"
   ]
  },
  {
   "cell_type": "code",
   "execution_count": 18,
   "metadata": {},
   "outputs": [],
   "source": [
    "#Model configuration for training purpose\n",
    "adam= keras.optimizers.Adam(learning_rate=0.001)\n",
    "model.compile(optimizer='adam', loss='categorical_crossentropy', metrics=['accuracy'])\n"
   ]
  },
  {
   "cell_type": "code",
   "execution_count": 19,
   "metadata": {},
   "outputs": [
    {
     "name": "stdout",
     "output_type": "stream",
     "text": [
      "Model: \"sequential_2\"\n",
      "_________________________________________________________________\n",
      "Layer (type)                 Output Shape              Param #   \n",
      "=================================================================\n",
      "conv2d_10 (Conv2D)           (None, 124, 124, 32)      2432      \n",
      "_________________________________________________________________\n",
      "max_pooling2d_10 (MaxPooling (None, 62, 62, 32)        0         \n",
      "_________________________________________________________________\n",
      "conv2d_11 (Conv2D)           (None, 60, 60, 64)        18496     \n",
      "_________________________________________________________________\n",
      "max_pooling2d_11 (MaxPooling (None, 30, 30, 64)        0         \n",
      "_________________________________________________________________\n",
      "conv2d_12 (Conv2D)           (None, 28, 28, 128)       73856     \n",
      "_________________________________________________________________\n",
      "max_pooling2d_12 (MaxPooling (None, 14, 14, 128)       0         \n",
      "_________________________________________________________________\n",
      "conv2d_13 (Conv2D)           (None, 12, 12, 128)       147584    \n",
      "_________________________________________________________________\n",
      "max_pooling2d_13 (MaxPooling (None, 6, 6, 128)         0         \n",
      "_________________________________________________________________\n",
      "conv2d_14 (Conv2D)           (None, 4, 4, 128)         147584    \n",
      "_________________________________________________________________\n",
      "max_pooling2d_14 (MaxPooling (None, 2, 2, 128)         0         \n",
      "_________________________________________________________________\n",
      "flatten_2 (Flatten)          (None, 512)               0         \n",
      "_________________________________________________________________\n",
      "dropout_2 (Dropout)          (None, 512)               0         \n",
      "_________________________________________________________________\n",
      "dense_4 (Dense)              (None, 128)               65664     \n",
      "_________________________________________________________________\n",
      "dense_5 (Dense)              (None, 2)                 258       \n",
      "=================================================================\n",
      "Total params: 455,874\n",
      "Trainable params: 455,874\n",
      "Non-trainable params: 0\n",
      "_________________________________________________________________\n",
      "None\n"
     ]
    }
   ],
   "source": [
    "print(model.summary())"
   ]
  },
  {
   "cell_type": "code",
   "execution_count": 20,
   "metadata": {},
   "outputs": [
    {
     "name": "stdout",
     "output_type": "stream",
     "text": [
      "Epoch 1/50\n",
      "116/116 - 189s - loss: 1.9345 - accuracy: 0.5942 - val_loss: 0.5907 - val_accuracy: 0.7327\n",
      "Epoch 2/50\n",
      "116/116 - 148s - loss: 0.6045 - accuracy: 0.7069 - val_loss: 0.4296 - val_accuracy: 0.6912\n",
      "Epoch 3/50\n",
      "116/116 - 147s - loss: 0.4946 - accuracy: 0.7718 - val_loss: 0.4675 - val_accuracy: 0.7327\n",
      "Epoch 4/50\n",
      "116/116 - 146s - loss: 0.4838 - accuracy: 0.7935 - val_loss: 0.3439 - val_accuracy: 0.8479\n",
      "Epoch 5/50\n",
      "116/116 - 156s - loss: 0.4140 - accuracy: 0.8318 - val_loss: 0.4220 - val_accuracy: 0.7926\n",
      "Epoch 6/50\n",
      "116/116 - 167s - loss: 0.3840 - accuracy: 0.8505 - val_loss: 0.2984 - val_accuracy: 0.8986\n",
      "Epoch 7/50\n",
      "116/116 - 171s - loss: 0.3502 - accuracy: 0.8635 - val_loss: 0.6022 - val_accuracy: 0.6728\n",
      "Epoch 8/50\n",
      "116/116 - 172s - loss: 0.4359 - accuracy: 0.8209 - val_loss: 0.4154 - val_accuracy: 0.8065\n",
      "Epoch 9/50\n",
      "116/116 - 172s - loss: 0.3444 - accuracy: 0.8614 - val_loss: 0.3575 - val_accuracy: 0.8295\n",
      "Epoch 10/50\n",
      "116/116 - 172s - loss: 0.3180 - accuracy: 0.8700 - val_loss: 0.4921 - val_accuracy: 0.7419\n",
      "Epoch 11/50\n",
      "116/116 - 170s - loss: 0.3253 - accuracy: 0.8686 - val_loss: 0.3763 - val_accuracy: 0.8111\n",
      "Epoch 12/50\n",
      "116/116 - 170s - loss: 0.2927 - accuracy: 0.8874 - val_loss: 0.3035 - val_accuracy: 0.8571\n",
      "Epoch 13/50\n",
      "116/116 - 179s - loss: 0.2561 - accuracy: 0.8989 - val_loss: 0.3659 - val_accuracy: 0.8203\n",
      "Epoch 14/50\n",
      "116/116 - 183s - loss: 0.2371 - accuracy: 0.9025 - val_loss: 0.3774 - val_accuracy: 0.8341\n",
      "Epoch 15/50\n",
      "116/116 - 168s - loss: 0.2175 - accuracy: 0.9155 - val_loss: 0.4153 - val_accuracy: 0.8111\n",
      "Epoch 16/50\n",
      "116/116 - 170s - loss: 0.2567 - accuracy: 0.9090 - val_loss: 0.3088 - val_accuracy: 0.8525\n",
      "Epoch 17/50\n",
      "116/116 - 168s - loss: 0.2155 - accuracy: 0.9134 - val_loss: 0.4129 - val_accuracy: 0.8341\n",
      "Epoch 18/50\n",
      "116/116 - 168s - loss: 0.2287 - accuracy: 0.9155 - val_loss: 0.4669 - val_accuracy: 0.8295\n",
      "Epoch 19/50\n",
      "116/116 - 168s - loss: 0.1771 - accuracy: 0.9329 - val_loss: 0.2826 - val_accuracy: 0.8802\n",
      "Epoch 20/50\n",
      "116/116 - 170s - loss: 0.1526 - accuracy: 0.9437 - val_loss: 0.7770 - val_accuracy: 0.8157\n",
      "Epoch 21/50\n",
      "116/116 - 170s - loss: 0.1564 - accuracy: 0.9444 - val_loss: 0.3055 - val_accuracy: 0.8986\n",
      "Epoch 22/50\n",
      "116/116 - 171s - loss: 0.2066 - accuracy: 0.9271 - val_loss: 0.3479 - val_accuracy: 0.8525\n",
      "Epoch 23/50\n",
      "116/116 - 175s - loss: 0.1634 - accuracy: 0.9408 - val_loss: 0.3176 - val_accuracy: 0.8940\n",
      "Epoch 24/50\n",
      "116/116 - 173s - loss: 0.1507 - accuracy: 0.9480 - val_loss: 0.3371 - val_accuracy: 0.8940\n",
      "Epoch 25/50\n",
      "116/116 - 170s - loss: 0.1455 - accuracy: 0.9552 - val_loss: 0.2904 - val_accuracy: 0.8940\n",
      "Epoch 26/50\n",
      "116/116 - 173s - loss: 0.1560 - accuracy: 0.9437 - val_loss: 0.2256 - val_accuracy: 0.8940\n",
      "Epoch 27/50\n",
      "116/116 - 169s - loss: 0.1431 - accuracy: 0.9523 - val_loss: 0.2987 - val_accuracy: 0.8710\n",
      "Epoch 28/50\n",
      "116/116 - 178s - loss: 0.1118 - accuracy: 0.9574 - val_loss: 0.4343 - val_accuracy: 0.8433\n",
      "Epoch 29/50\n",
      "116/116 - 257s - loss: 0.1316 - accuracy: 0.9523 - val_loss: 0.3691 - val_accuracy: 0.8664\n",
      "Epoch 30/50\n",
      "116/116 - 292s - loss: 0.1287 - accuracy: 0.9523 - val_loss: 0.3840 - val_accuracy: 0.8525\n",
      "Epoch 31/50\n",
      "116/116 - 296s - loss: 0.1052 - accuracy: 0.9697 - val_loss: 0.3049 - val_accuracy: 0.8802\n",
      "Epoch 32/50\n",
      "116/116 - 276s - loss: 0.0902 - accuracy: 0.9675 - val_loss: 0.4220 - val_accuracy: 0.8618\n",
      "Epoch 33/50\n",
      "116/116 - 247s - loss: 0.1522 - accuracy: 0.9473 - val_loss: 0.2767 - val_accuracy: 0.9032\n",
      "Epoch 34/50\n",
      "116/116 - 245s - loss: 0.1108 - accuracy: 0.9581 - val_loss: 0.3659 - val_accuracy: 0.8940\n",
      "Epoch 35/50\n",
      "116/116 - 243s - loss: 0.1072 - accuracy: 0.9632 - val_loss: 0.3971 - val_accuracy: 0.8479\n",
      "Epoch 36/50\n",
      "116/116 - 243s - loss: 0.1504 - accuracy: 0.9415 - val_loss: 0.6458 - val_accuracy: 0.8571\n",
      "Epoch 37/50\n",
      "116/116 - 254s - loss: 0.2022 - accuracy: 0.9249 - val_loss: 0.3125 - val_accuracy: 0.8894\n",
      "Epoch 38/50\n",
      "116/116 - 252s - loss: 0.1263 - accuracy: 0.9538 - val_loss: 0.4292 - val_accuracy: 0.8571\n",
      "Epoch 39/50\n",
      "116/116 - 256s - loss: 0.1359 - accuracy: 0.9538 - val_loss: 0.4738 - val_accuracy: 0.8249\n",
      "Epoch 40/50\n",
      "116/116 - 260s - loss: 0.0790 - accuracy: 0.9718 - val_loss: 0.2429 - val_accuracy: 0.9217\n",
      "Epoch 41/50\n",
      "116/116 - 246s - loss: 0.0850 - accuracy: 0.9697 - val_loss: 0.5055 - val_accuracy: 0.8387\n",
      "Epoch 42/50\n",
      "116/116 - 245s - loss: 0.0801 - accuracy: 0.9762 - val_loss: 0.3410 - val_accuracy: 0.8802\n",
      "Epoch 43/50\n",
      "116/116 - 260s - loss: 0.0999 - accuracy: 0.9668 - val_loss: 0.3151 - val_accuracy: 0.8894\n",
      "Epoch 44/50\n",
      "116/116 - 248s - loss: 0.1167 - accuracy: 0.9523 - val_loss: 0.4768 - val_accuracy: 0.8710\n",
      "Epoch 45/50\n",
      "116/116 - 244s - loss: 0.0728 - accuracy: 0.9726 - val_loss: 0.5064 - val_accuracy: 0.8848\n",
      "Epoch 46/50\n",
      "116/116 - 245s - loss: 0.0589 - accuracy: 0.9834 - val_loss: 0.4197 - val_accuracy: 0.8848\n",
      "Epoch 47/50\n",
      "116/116 - 251s - loss: 0.1441 - accuracy: 0.9523 - val_loss: 0.3705 - val_accuracy: 0.8664\n",
      "Epoch 48/50\n",
      "116/116 - 246s - loss: 0.1160 - accuracy: 0.9596 - val_loss: 0.4121 - val_accuracy: 0.8664\n",
      "Epoch 49/50\n",
      "116/116 - 216s - loss: 0.0530 - accuracy: 0.9819 - val_loss: 0.4319 - val_accuracy: 0.8756\n",
      "Epoch 50/50\n",
      "116/116 - 142s - loss: 0.0708 - accuracy: 0.9733 - val_loss: 0.8531 - val_accuracy: 0.8295\n"
     ]
    }
   ],
   "source": [
    "history=model.fit(Xtrain, Ytrain, epochs=50, batch_size=12, verbose=2, validation_data=(Xtest, Ytest))"
   ]
  },
  {
   "cell_type": "code",
   "execution_count": 21,
   "metadata": {},
   "outputs": [
    {
     "name": "stdout",
     "output_type": "stream",
     "text": [
      "7/7 [==============================] - 4s 542ms/step - loss: 0.8531 - accuracy: 0.8295\n",
      "Test accuracy: 82.95%\n"
     ]
    }
   ],
   "source": [
    "loss, accuracy = model.evaluate(Xtest, Ytest)\n",
    "print('Test accuracy: {:2.2f}%'.format(accuracy*100))\n"
   ]
  },
  {
   "cell_type": "code",
   "execution_count": 22,
   "metadata": {},
   "outputs": [
    {
     "data": {
      "text/plain": [
       "<AxesSubplot:>"
      ]
     },
     "execution_count": 22,
     "metadata": {},
     "output_type": "execute_result"
    },
    {
     "data": {
      "image/png": "[encoded data removed]",
      "text/plain": [
       "<Figure size 432x288 with 2 Axes>"
      ]
     },
     "metadata": {
      "needs_background": "light"
     },
     "output_type": "display_data"
    }
   ],
   "source": [
    "# Making predictions on test data\n",
    "prediction = model.predict(Xtest)\n",
    "#Transform predictions into 1D array \n",
    "y_pred = np.argmax(prediction, axis=1)\n",
    "y_test1=Ytest.astype(int)\n",
    "y_test2=[]\n",
    "for i in y_test1:\n",
    "    a=1\n",
    "    #print(i[0],i[1])\n",
    "    if(i[0]==1 and i[1]==0):\n",
    "        a=0\n",
    "    y_test2.append(a)    \n",
    "        \n",
    "#Create a Confusion Matrix for Evaluation\n",
    "# H = Horizontal\n",
    "# V = Vertical\n",
    "\n",
    "#Create a Confusion Matrix for Evaluation\n",
    "cf_matrix = confusion_matrix(y_test2, y_pred)\n",
    "\n",
    "import seaborn as sns\n",
    "group_names = ['Predicted meme','Predicted non-meme','Actual meme','Actual non-meme']\n",
    "group_counts = ['{0:0.0f}'.format(value) for value in\n",
    "                cf_matrix.flatten()]\n",
    "group_percentages = ['{0:.2%}'.format(value) for value in\n",
    "                     cf_matrix.flatten()/np.sum(cf_matrix)]\n",
    "labels = [f'{v1}\\n{v2}\\n{v3}' for v1, v2, v3 in\n",
    "          zip(group_names,group_counts,group_percentages)]\n",
    "labels = np.asarray(labels).reshape(2,2)\n",
    "sns.heatmap(cf_matrix, annot=labels, fmt='', cmap='Blues')"
   ]
  },
  {
   "cell_type": "code",
   "execution_count": 24,
   "metadata": {},
   "outputs": [
    {
     "name": "stdout",
     "output_type": "stream",
     "text": [
      "              precision    recall  f1-score   support\n",
      "\n",
      "           0       0.99      0.73      0.84       132\n",
      "           1       0.70      0.99      0.82        85\n",
      "\n",
      "    accuracy                           0.83       217\n",
      "   macro avg       0.84      0.86      0.83       217\n",
      "weighted avg       0.88      0.83      0.83       217\n",
      "\n"
     ]
    }
   ],
   "source": [
    "from sklearn.metrics import classification_report\n",
    "\n",
    "#y_pred_bool = np.argmax(y_pred, axis=1)\n",
    "\n",
    "print(classification_report(y_test2, y_pred))"
   ]
  },
  {
   "cell_type": "code",
   "execution_count": 23,
   "metadata": {},
   "outputs": [
    {
     "data": {
      "image/png": "[encoded data removed]",
      "text/plain": [
       "<Figure size 432x288 with 1 Axes>"
      ]
     },
     "metadata": {
      "needs_background": "light"
     },
     "output_type": "display_data"
    },
    {
     "data": {
      "image/png": "[encoded data removed]",
      "text/plain": [
       "<Figure size 432x288 with 1 Axes>"
      ]
     },
     "metadata": {
      "needs_background": "light"
     },
     "output_type": "display_data"
    }
   ],
   "source": [
    "# Get training and test loss histories\n",
    "training_loss = history.history['loss']\n",
    "test_loss = history.history['val_loss']\n",
    "\n",
    "# Create count of the number of epochs\n",
    "epoch_count = range(1, len(training_loss) + 1)\n",
    "\n",
    "# Visualize loss history\n",
    "plt.plot(epoch_count, training_loss, 'r--')\n",
    "plt.plot(epoch_count, test_loss, 'b-')\n",
    "plt.legend(['Training Loss', 'Test Loss'])\n",
    "plt.xlabel('Epoch')\n",
    "plt.ylabel('Loss')\n",
    "plt.title('Model Loss')\n",
    "plt.show()\n",
    "\n",
    "training_acc = history.history['accuracy']\n",
    "test_acc = history.history['val_accuracy']\n",
    "epoch_count = range(1, len(training_acc) + 1)\n",
    "plt.plot(epoch_count, training_acc, 'r--')\n",
    "plt.plot(epoch_count, test_acc, 'b-')\n",
    "plt.title('Model accuracy')\n",
    "plt.ylabel('Accuracy')\n",
    "plt.xlabel('Epoch')\n",
    "plt.legend(['Training accuracy', 'Test accuracy'])\n",
    "plt.show()"
   ]
  },
  {
   "cell_type": "code",
   "execution_count": null,
   "metadata": {},
   "outputs": [],
   "source": [
    "\n"
   ]
  }
 ],
 "metadata": {
  "kernelspec": {
   "display_name": "Python 3",
   "language": "python",
   "name": "python3"
  },
  "language_info": {
   "codemirror_mode": {
    "name": "ipython",
    "version": 3
   },
   "file_extension": ".py",
   "mimetype": "text/x-python",
   "name": "python",
   "nbconvert_exporter": "python",
   "pygments_lexer": "ipython3",
   "version": "3.8.10"
  }
 },
 "nbformat": 4,
 "nbformat_minor": 2
}
