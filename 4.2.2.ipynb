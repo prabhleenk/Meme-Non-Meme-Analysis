{
 "cells": [
  {
   "cell_type": "code",
   "execution_count": 10,
   "metadata": {},
   "outputs": [
    {
     "name": "stdout",
     "output_type": "stream",
     "text": [
      "1473\n"
     ]
    }
   ],
   "source": [
    "#Keras\n",
    "from tensorflow import keras\n",
    "\n",
    "# Import of keras model and hidden layers for CNN\n",
    "from keras.models import Sequential\n",
    "from keras.layers.convolutional import Conv2D, MaxPooling2D\n",
    "from keras.layers import Dense, Flatten, Dropout\n",
    "\n",
    "#Image handling libraries\n",
    "import numpy as np\n",
    "import matplotlib.pyplot as plt\n",
    "import cv2\n",
    "import pandas as pd\n",
    "\n",
    "#Sklearn libraries\n",
    "from sklearn.model_selection import train_test_split\n",
    "from sklearn.metrics import confusion_matrix\n",
    "\n",
    "# data visualisation and manipulation\n",
    "import matplotlib.pyplot as plt\n",
    "from matplotlib import style\n",
    "\n",
    "#Initialize a list of paths for images\n",
    "imagepathstrain = []\n",
    "imagepathstest = []\n",
    "\n",
    "import os\n",
    "for dirname, _, filenames in os.walk(r'images\\4.2.2\\TrainingDataset'):\n",
    "    for filename in filenames:\n",
    "        path = os.path.join(dirname, filename)\n",
    "        imagepathstrain.append(path)\n",
    "        \n",
    "for dirname, _, filenames in os.walk(r'images\\4.2.2\\TestingDataset'):\n",
    "    for filename in filenames:\n",
    "        path = os.path.join(dirname, filename)\n",
    "        imagepathstest.append(path)\n",
    "\n",
    "print(len(imagepathstrain))"
   ]
  },
  {
   "cell_type": "code",
   "execution_count": 12,
   "metadata": {},
   "outputs": [
    {
     "data": {
      "text/plain": [
       "1473"
      ]
     },
     "execution_count": 12,
     "metadata": {},
     "output_type": "execute_result"
    }
   ],
   "source": [
    "IMG_SIZE=128\n",
    "Xtrain=[]\n",
    "ytrain=[]\n",
    "for image in imagepathstrain:\n",
    "    try:\n",
    "        img = cv2.imread(image,cv2.IMREAD_COLOR)\n",
    "        img = cv2.resize(img, (IMG_SIZE,IMG_SIZE))\n",
    "\n",
    "        Xtrain.append(np.array(img))\n",
    "        if(image.startswith('images\\\\4.2.2\\\\TrainingDataset\\\\meme\\\\')):\n",
    "            ytrain.append('meme')\n",
    "        else:\n",
    "            ytrain.append('non-meme')\n",
    "    except:\n",
    "        pass\n",
    "    \n",
    "Xtest=[]\n",
    "ytest=[]\n",
    "for image in imagepathstest:\n",
    "    try:\n",
    "        img = cv2.imread(image,cv2.IMREAD_COLOR)\n",
    "        img = cv2.resize(img, (IMG_SIZE,IMG_SIZE))\n",
    "\n",
    "        Xtest.append(np.array(img))\n",
    "        if(image.startswith('images\\\\4.2.2\\\\TestingDataset\\\\meme\\\\')):\n",
    "            ytest.append('meme')\n",
    "        else:\n",
    "            ytest.append('non-meme')\n",
    "    except:\n",
    "        pass\n",
    "    \n",
    "\n",
    "len(Xtrain)\n"
   ]
  },
  {
   "cell_type": "code",
   "execution_count": 13,
   "metadata": {},
   "outputs": [],
   "source": [
    "from sklearn.preprocessing import LabelEncoder\n",
    "from tensorflow.keras.utils import to_categorical\n",
    "from sklearn.model_selection import train_test_split\n",
    "\n",
    "le=LabelEncoder()\n",
    "Ytrain=le.fit_transform(ytrain)\n",
    "Ytrain=to_categorical(Ytrain,2)\n",
    "\n",
    "Ytest=le.fit_transform(ytest)\n",
    "Ytest=to_categorical(Ytest,2)\n",
    "\n",
    "Xtrain=np.array(Xtrain)\n",
    "\n",
    "Xtest=np.array(Xtest)\n",
    "\n",
    "#x_train,x_test,y_train,y_test=train_test_split(X,Y,test_size=0.25,random_state=5)"
   ]
  },
  {
   "cell_type": "code",
   "execution_count": 15,
   "metadata": {},
   "outputs": [],
   "source": [
    "# Create a CNN Sequential Model\n",
    "model = Sequential()\n",
    "\n",
    "model.add(Conv2D(32, (5,5), activation = 'relu', input_shape=(128,128,3)))\n",
    "model.add(MaxPooling2D((2,2)))\n",
    "\n",
    "model.add(Conv2D(64, (3, 3), activation='relu')) \n",
    "model.add(MaxPooling2D((2, 2)))\n",
    "\n",
    "model.add(Conv2D(128, (3, 3), activation='relu')) \n",
    "model.add(MaxPooling2D((2, 2)))\n",
    "\n",
    "model.add(Conv2D(128, (3, 3), activation='relu')) \n",
    "model.add(MaxPooling2D((2, 2)))\n",
    "\n",
    "model.add(Conv2D(128, (3, 3), activation='relu')) \n",
    "model.add(MaxPooling2D((2, 2)))\n",
    "\n",
    "model.add(Flatten())\n",
    "\n",
    "model.add(Dropout(0.6))\n",
    "\n",
    "model.add(Dense(128, activation='relu'))\n",
    "\n",
    "model.add(Dense(2, activation='softmax'))"
   ]
  },
  {
   "cell_type": "code",
   "execution_count": 16,
   "metadata": {},
   "outputs": [],
   "source": [
    "#Model configuration for training purpose\n",
    "adam= keras.optimizers.Adam(learning_rate=0.001)\n",
    "model.compile(optimizer='adam', loss='categorical_crossentropy', metrics=['accuracy'])\n"
   ]
  },
  {
   "cell_type": "code",
   "execution_count": 17,
   "metadata": {},
   "outputs": [
    {
     "name": "stdout",
     "output_type": "stream",
     "text": [
      "Model: \"sequential_2\"\n",
      "_________________________________________________________________\n",
      "Layer (type)                 Output Shape              Param #   \n",
      "=================================================================\n",
      "conv2d_10 (Conv2D)           (None, 124, 124, 32)      2432      \n",
      "_________________________________________________________________\n",
      "max_pooling2d_10 (MaxPooling (None, 62, 62, 32)        0         \n",
      "_________________________________________________________________\n",
      "conv2d_11 (Conv2D)           (None, 60, 60, 64)        18496     \n",
      "_________________________________________________________________\n",
      "max_pooling2d_11 (MaxPooling (None, 30, 30, 64)        0         \n",
      "_________________________________________________________________\n",
      "conv2d_12 (Conv2D)           (None, 28, 28, 128)       73856     \n",
      "_________________________________________________________________\n",
      "max_pooling2d_12 (MaxPooling (None, 14, 14, 128)       0         \n",
      "_________________________________________________________________\n",
      "conv2d_13 (Conv2D)           (None, 12, 12, 128)       147584    \n",
      "_________________________________________________________________\n",
      "max_pooling2d_13 (MaxPooling (None, 6, 6, 128)         0         \n",
      "_________________________________________________________________\n",
      "conv2d_14 (Conv2D)           (None, 4, 4, 128)         147584    \n",
      "_________________________________________________________________\n",
      "max_pooling2d_14 (MaxPooling (None, 2, 2, 128)         0         \n",
      "_________________________________________________________________\n",
      "flatten_2 (Flatten)          (None, 512)               0         \n",
      "_________________________________________________________________\n",
      "dropout_2 (Dropout)          (None, 512)               0         \n",
      "_________________________________________________________________\n",
      "dense_4 (Dense)              (None, 128)               65664     \n",
      "_________________________________________________________________\n",
      "dense_5 (Dense)              (None, 2)                 258       \n",
      "=================================================================\n",
      "Total params: 455,874\n",
      "Trainable params: 455,874\n",
      "Non-trainable params: 0\n",
      "_________________________________________________________________\n",
      "None\n"
     ]
    }
   ],
   "source": [
    "print(model.summary())"
   ]
  },
  {
   "cell_type": "code",
   "execution_count": 18,
   "metadata": {},
   "outputs": [
    {
     "name": "stdout",
     "output_type": "stream",
     "text": [
      "Epoch 1/50\n",
      "123/123 - 211s - loss: 2.1858 - accuracy: 0.6164 - val_loss: 0.5224 - val_accuracy: 0.8062\n",
      "Epoch 2/50\n",
      "123/123 - 209s - loss: 0.5861 - accuracy: 0.7149 - val_loss: 0.4693 - val_accuracy: 0.8062\n",
      "Epoch 3/50\n",
      "123/123 - 209s - loss: 0.5113 - accuracy: 0.7834 - val_loss: 0.5574 - val_accuracy: 0.7984\n",
      "Epoch 4/50\n",
      "123/123 - 207s - loss: 0.4791 - accuracy: 0.7984 - val_loss: 0.5109 - val_accuracy: 0.7907\n",
      "Epoch 5/50\n",
      "123/123 - 206s - loss: 0.4187 - accuracy: 0.8398 - val_loss: 0.4807 - val_accuracy: 0.8140\n",
      "Epoch 6/50\n",
      "123/123 - 206s - loss: 0.3945 - accuracy: 0.8534 - val_loss: 0.4152 - val_accuracy: 0.8450\n",
      "Epoch 7/50\n",
      "123/123 - 175s - loss: 0.4047 - accuracy: 0.8391 - val_loss: 0.4708 - val_accuracy: 0.8062\n",
      "Epoch 8/50\n",
      "123/123 - 141s - loss: 0.4119 - accuracy: 0.8323 - val_loss: 0.5115 - val_accuracy: 0.8062\n",
      "Epoch 9/50\n",
      "123/123 - 101s - loss: 0.3491 - accuracy: 0.8649 - val_loss: 0.4490 - val_accuracy: 0.8295\n",
      "Epoch 10/50\n",
      "123/123 - 100s - loss: 0.3515 - accuracy: 0.8601 - val_loss: 0.4857 - val_accuracy: 0.7674\n",
      "Epoch 11/50\n",
      "123/123 - 99s - loss: 0.3146 - accuracy: 0.8697 - val_loss: 0.4409 - val_accuracy: 0.8372\n",
      "Epoch 12/50\n",
      "123/123 - 117s - loss: 0.3006 - accuracy: 0.8859 - val_loss: 0.3962 - val_accuracy: 0.8295\n",
      "Epoch 13/50\n",
      "123/123 - 137s - loss: 0.2819 - accuracy: 0.8968 - val_loss: 0.5061 - val_accuracy: 0.8217\n",
      "Epoch 14/50\n",
      "123/123 - 145s - loss: 0.2844 - accuracy: 0.8853 - val_loss: 0.5296 - val_accuracy: 0.7984\n",
      "Epoch 15/50\n",
      "123/123 - 149s - loss: 0.3632 - accuracy: 0.8493 - val_loss: 0.4595 - val_accuracy: 0.8295\n",
      "Epoch 16/50\n",
      "123/123 - 147s - loss: 0.2993 - accuracy: 0.8826 - val_loss: 0.5057 - val_accuracy: 0.8140\n",
      "Epoch 17/50\n",
      "123/123 - 144s - loss: 0.3248 - accuracy: 0.8751 - val_loss: 0.4831 - val_accuracy: 0.8450\n",
      "Epoch 18/50\n",
      "123/123 - 227s - loss: 0.2910 - accuracy: 0.8826 - val_loss: 0.4852 - val_accuracy: 0.7907\n",
      "Epoch 19/50\n",
      "123/123 - 257s - loss: 0.2425 - accuracy: 0.8948 - val_loss: 0.5880 - val_accuracy: 0.7597\n",
      "Epoch 20/50\n",
      "123/123 - 254s - loss: 0.2780 - accuracy: 0.8839 - val_loss: 0.4546 - val_accuracy: 0.8062\n",
      "Epoch 21/50\n",
      "123/123 - 263s - loss: 0.2631 - accuracy: 0.8982 - val_loss: 0.3418 - val_accuracy: 0.8450\n",
      "Epoch 22/50\n",
      "123/123 - 277s - loss: 0.2550 - accuracy: 0.9043 - val_loss: 0.3644 - val_accuracy: 0.8140\n",
      "Epoch 23/50\n",
      "123/123 - 260s - loss: 0.2117 - accuracy: 0.9084 - val_loss: 0.4616 - val_accuracy: 0.8527\n",
      "Epoch 24/50\n",
      "123/123 - 253s - loss: 0.2223 - accuracy: 0.9070 - val_loss: 0.3723 - val_accuracy: 0.8527\n",
      "Epoch 25/50\n",
      "123/123 - 260s - loss: 0.2450 - accuracy: 0.9070 - val_loss: 0.3865 - val_accuracy: 0.8450\n",
      "Epoch 26/50\n",
      "123/123 - 270s - loss: 0.2075 - accuracy: 0.9206 - val_loss: 0.3738 - val_accuracy: 0.8527\n",
      "Epoch 27/50\n",
      "123/123 - 266s - loss: 0.2014 - accuracy: 0.9192 - val_loss: 0.3713 - val_accuracy: 0.8450\n",
      "Epoch 28/50\n",
      "123/123 - 261s - loss: 0.1681 - accuracy: 0.9396 - val_loss: 0.4277 - val_accuracy: 0.8682\n",
      "Epoch 29/50\n",
      "123/123 - 261s - loss: 0.1637 - accuracy: 0.9423 - val_loss: 0.3714 - val_accuracy: 0.8605\n",
      "Epoch 30/50\n",
      "123/123 - 258s - loss: 0.2183 - accuracy: 0.9233 - val_loss: 0.4950 - val_accuracy: 0.8295\n",
      "Epoch 31/50\n",
      "123/123 - 257s - loss: 0.2005 - accuracy: 0.9233 - val_loss: 0.3769 - val_accuracy: 0.8605\n",
      "Epoch 32/50\n",
      "123/123 - 256s - loss: 0.1988 - accuracy: 0.9260 - val_loss: 0.3381 - val_accuracy: 0.8760\n",
      "Epoch 33/50\n",
      "123/123 - 257s - loss: 0.1472 - accuracy: 0.9538 - val_loss: 0.4550 - val_accuracy: 0.8295\n",
      "Epoch 34/50\n",
      "123/123 - 254s - loss: 0.2111 - accuracy: 0.9240 - val_loss: 0.4154 - val_accuracy: 0.8605\n",
      "Epoch 35/50\n",
      "123/123 - 258s - loss: 0.1884 - accuracy: 0.9274 - val_loss: 0.5431 - val_accuracy: 0.7752\n",
      "Epoch 36/50\n",
      "123/123 - 255s - loss: 0.1498 - accuracy: 0.9477 - val_loss: 0.4464 - val_accuracy: 0.8837\n",
      "Epoch 37/50\n",
      "123/123 - 253s - loss: 0.1225 - accuracy: 0.9545 - val_loss: 0.3345 - val_accuracy: 0.8837\n",
      "Epoch 38/50\n",
      "123/123 - 261s - loss: 0.1540 - accuracy: 0.9430 - val_loss: 0.5683 - val_accuracy: 0.8527\n",
      "Epoch 39/50\n",
      "123/123 - 253s - loss: 0.2342 - accuracy: 0.9246 - val_loss: 0.4670 - val_accuracy: 0.8450\n",
      "Epoch 40/50\n",
      "123/123 - 219s - loss: 0.1901 - accuracy: 0.9382 - val_loss: 0.3860 - val_accuracy: 0.8450\n",
      "Epoch 41/50\n",
      "123/123 - 216s - loss: 0.1017 - accuracy: 0.9661 - val_loss: 0.4978 - val_accuracy: 0.8760\n",
      "Epoch 42/50\n",
      "123/123 - 142s - loss: 0.1532 - accuracy: 0.9464 - val_loss: 0.5202 - val_accuracy: 0.7829\n",
      "Epoch 43/50\n",
      "123/123 - 96s - loss: 0.1754 - accuracy: 0.9423 - val_loss: 0.3537 - val_accuracy: 0.8295\n",
      "Epoch 44/50\n",
      "123/123 - 123s - loss: 0.1188 - accuracy: 0.9613 - val_loss: 0.4043 - val_accuracy: 0.8605\n",
      "Epoch 45/50\n",
      "123/123 - 127s - loss: 0.1219 - accuracy: 0.9586 - val_loss: 0.4176 - val_accuracy: 0.8527\n",
      "Epoch 46/50\n",
      "123/123 - 123s - loss: 0.1202 - accuracy: 0.9545 - val_loss: 0.3998 - val_accuracy: 0.8682\n",
      "Epoch 47/50\n",
      "123/123 - 120s - loss: 0.1081 - accuracy: 0.9627 - val_loss: 0.4108 - val_accuracy: 0.8760\n",
      "Epoch 48/50\n",
      "123/123 - 119s - loss: 0.0851 - accuracy: 0.9667 - val_loss: 0.4353 - val_accuracy: 0.8605\n",
      "Epoch 49/50\n",
      "123/123 - 121s - loss: 0.1519 - accuracy: 0.9437 - val_loss: 0.5741 - val_accuracy: 0.8372\n",
      "Epoch 50/50\n",
      "123/123 - 124s - loss: 0.0737 - accuracy: 0.9769 - val_loss: 0.4973 - val_accuracy: 0.8915\n"
     ]
    }
   ],
   "source": [
    "history=model.fit(Xtrain, Ytrain, epochs=50, batch_size=12, verbose=2, \n",
    "         validation_data=(Xtest, Ytest))"
   ]
  },
  {
   "cell_type": "code",
   "execution_count": 19,
   "metadata": {},
   "outputs": [
    {
     "name": "stdout",
     "output_type": "stream",
     "text": [
      "5/5 [==============================] - 2s 350ms/step - loss: 0.4973 - accuracy: 0.8915\n",
      "Test accuracy: 89.15%\n"
     ]
    }
   ],
   "source": [
    "loss, accuracy = model.evaluate(Xtest, Ytest)\n",
    "print('Test accuracy: {:2.2f}%'.format(accuracy*100))\n"
   ]
  },
  {
   "cell_type": "code",
   "execution_count": 20,
   "metadata": {},
   "outputs": [
    {
     "data": {
      "text/plain": [
       "<AxesSubplot:>"
      ]
     },
     "execution_count": 20,
     "metadata": {},
     "output_type": "execute_result"
    },
    {
     "data": {
      "image/png": "[encoded data removed]",
      "text/plain": [
       "<Figure size 432x288 with 2 Axes>"
      ]
     },
     "metadata": {
      "needs_background": "light"
     },
     "output_type": "display_data"
    }
   ],
   "source": [
    "# Making predictions on test data\n",
    "prediction = model.predict(Xtest)\n",
    "#Transform predictions into 1D array \n",
    "y_pred = np.argmax(prediction, axis=1)\n",
    "y_test1=Ytest.astype(int)\n",
    "y_test2=[]\n",
    "for i in y_test1:\n",
    "    a=1\n",
    "    #print(i[0],i[1])\n",
    "    if(i[0]==1 and i[1]==0):\n",
    "        a=0\n",
    "    y_test2.append(a)    \n",
    "        \n",
    "#Create a Confusion Matrix for Evaluation\n",
    "# H = Horizontal\n",
    "# V = Vertical\n",
    "\n",
    "#Create a Confusion Matrix for Evaluation\n",
    "cf_matrix = confusion_matrix(y_test2, y_pred)\n",
    "\n",
    "import seaborn as sns\n",
    "group_names = ['Predicted meme','Predicted non-meme','Actual meme','Actual non-meme']\n",
    "group_counts = ['{0:0.0f}'.format(value) for value in\n",
    "                cf_matrix.flatten()]\n",
    "group_percentages = ['{0:.2%}'.format(value) for value in\n",
    "                     cf_matrix.flatten()/np.sum(cf_matrix)]\n",
    "labels = [f'{v1}\\n{v2}\\n{v3}' for v1, v2, v3 in\n",
    "          zip(group_names,group_counts,group_percentages)]\n",
    "labels = np.asarray(labels).reshape(2,2)\n",
    "sns.heatmap(cf_matrix, annot=labels, fmt='', cmap='Blues')"
   ]
  },
  {
   "cell_type": "code",
   "execution_count": 22,
   "metadata": {},
   "outputs": [
    {
     "name": "stdout",
     "output_type": "stream",
     "text": [
      "              precision    recall  f1-score   support\n",
      "\n",
      "           0       0.82      0.72      0.77        32\n",
      "           1       0.91      0.95      0.93        97\n",
      "\n",
      "    accuracy                           0.89       129\n",
      "   macro avg       0.87      0.83      0.85       129\n",
      "weighted avg       0.89      0.89      0.89       129\n",
      "\n"
     ]
    }
   ],
   "source": [
    "from sklearn.metrics import classification_report\n",
    "\n",
    "#y_pred_bool = np.argmax(y_pred, axis=1)\n",
    "\n",
    "print(classification_report(y_test2, y_pred))"
   ]
  },
  {
   "cell_type": "code",
   "execution_count": 21,
   "metadata": {},
   "outputs": [
    {
     "data": {
      "image/png": "[encoded data removed]",
      "text/plain": [
       "<Figure size 432x288 with 1 Axes>"
      ]
     },
     "metadata": {
      "needs_background": "light"
     },
     "output_type": "display_data"
    },
    {
     "data": {
      "image/png": "[encoded data removed]",
      "text/plain": [
       "<Figure size 432x288 with 1 Axes>"
      ]
     },
     "metadata": {
      "needs_background": "light"
     },
     "output_type": "display_data"
    }
   ],
   "source": [
    "# Get training and test loss histories\n",
    "training_loss = history.history['loss']\n",
    "test_loss = history.history['val_loss']\n",
    "\n",
    "# Create count of the number of epochs\n",
    "epoch_count = range(1, len(training_loss) + 1)\n",
    "\n",
    "# Visualize loss history\n",
    "plt.plot(epoch_count, training_loss, 'r--')\n",
    "plt.plot(epoch_count, test_loss, 'b-')\n",
    "plt.legend(['Training Loss', 'Test Loss'])\n",
    "plt.xlabel('Epoch')\n",
    "plt.ylabel('Loss')\n",
    "plt.title('Model Loss')\n",
    "plt.show()\n",
    "\n",
    "training_acc = history.history['accuracy']\n",
    "test_acc = history.history['val_accuracy']\n",
    "epoch_count = range(1, len(training_acc) + 1)\n",
    "plt.plot(epoch_count, training_acc, 'r--')\n",
    "plt.plot(epoch_count, test_acc, 'b-')\n",
    "plt.title('Model accuracy')\n",
    "plt.ylabel('Accuracy')\n",
    "plt.xlabel('Epoch')\n",
    "plt.legend(['Training accuracy', 'Test accuracy'])\n",
    "plt.show()"
   ]
  },
  {
   "cell_type": "code",
   "execution_count": null,
   "metadata": {},
   "outputs": [],
   "source": []
  }
 ],
 "metadata": {
  "kernelspec": {
   "display_name": "Python 3",
   "language": "python",
   "name": "python3"
  },
  "language_info": {
   "codemirror_mode": {
    "name": "ipython",
    "version": 3
   },
   "file_extension": ".py",
   "mimetype": "text/x-python",
   "name": "python",
   "nbconvert_exporter": "python",
   "pygments_lexer": "ipython3",
   "version": "3.8.10"
  }
 },
 "nbformat": 4,
 "nbformat_minor": 2
}
