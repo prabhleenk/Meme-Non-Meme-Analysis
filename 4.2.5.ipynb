{
 "cells": [
  {
   "cell_type": "code",
   "execution_count": 10,
   "metadata": {},
   "outputs": [
    {
     "name": "stdout",
     "output_type": "stream",
     "text": [
      "1402\n"
     ]
    }
   ],
   "source": [
    "#Keras\n",
    "from tensorflow import keras\n",
    "\n",
    "# Import of keras model and hidden layers for CNN\n",
    "from keras.models import Sequential\n",
    "from keras.layers.convolutional import Conv2D, MaxPooling2D\n",
    "from keras.layers import Dense, Flatten, Dropout\n",
    "\n",
    "#Image handling libraries\n",
    "import numpy as np\n",
    "import matplotlib.pyplot as plt\n",
    "import cv2\n",
    "import pandas as pd\n",
    "\n",
    "#Sklearn libraries\n",
    "from sklearn.model_selection import train_test_split\n",
    "from sklearn.metrics import confusion_matrix\n",
    "\n",
    "# data visualisation and manipulation\n",
    "import matplotlib.pyplot as plt\n",
    "from matplotlib import style\n",
    "\n",
    "#Initialize a list of paths for images\n",
    "imagepathstrain = []\n",
    "imagepathstest = []\n",
    "\n",
    "import os\n",
    "for dirname, _, filenames in os.walk(r'images\\4.2.5\\TrainingDataset'):\n",
    "    for filename in filenames:\n",
    "        path = os.path.join(dirname, filename)\n",
    "        imagepathstrain.append(path)\n",
    "        \n",
    "for dirname, _, filenames in os.walk(r'images\\4.2.5\\TestingDataset'):\n",
    "    for filename in filenames:\n",
    "        path = os.path.join(dirname, filename)\n",
    "        imagepathstest.append(path)\n",
    "\n",
    "print(len(imagepathstrain))"
   ]
  },
  {
   "cell_type": "code",
   "execution_count": 12,
   "metadata": {},
   "outputs": [
    {
     "data": {
      "text/plain": [
       "1402"
      ]
     },
     "execution_count": 12,
     "metadata": {},
     "output_type": "execute_result"
    }
   ],
   "source": [
    "IMG_SIZE=128\n",
    "Xtrain=[]\n",
    "ytrain=[]\n",
    "for image in imagepathstrain:\n",
    "    try:\n",
    "        img = cv2.imread(image,cv2.IMREAD_COLOR)\n",
    "        img = cv2.resize(img, (IMG_SIZE,IMG_SIZE))\n",
    "\n",
    "        Xtrain.append(np.array(img))\n",
    "        if(image.startswith('images\\\\4.2.5\\\\TrainingDataset\\\\meme\\\\')):\n",
    "            ytrain.append('meme')\n",
    "        else:\n",
    "            ytrain.append('non-meme')\n",
    "    except:\n",
    "        pass\n",
    "    \n",
    "Xtest=[]\n",
    "ytest=[]\n",
    "for image in imagepathstest:\n",
    "    try:\n",
    "        img = cv2.imread(image,cv2.IMREAD_COLOR)\n",
    "        img = cv2.resize(img, (IMG_SIZE,IMG_SIZE))\n",
    "\n",
    "        Xtest.append(np.array(img))\n",
    "        if(image.startswith('images\\\\4.2.5\\\\TestingDataset\\\\meme\\\\')):\n",
    "            ytest.append('meme')\n",
    "        else:\n",
    "            ytest.append('non-meme')\n",
    "    except:\n",
    "        pass\n",
    "    \n",
    "\n",
    "len(Xtrain)\n"
   ]
  },
  {
   "cell_type": "code",
   "execution_count": 14,
   "metadata": {},
   "outputs": [],
   "source": [
    "from sklearn.preprocessing import LabelEncoder\n",
    "from tensorflow.keras.utils import to_categorical\n",
    "from sklearn.model_selection import train_test_split\n",
    "\n",
    "le=LabelEncoder()\n",
    "Ytrain=le.fit_transform(ytrain)\n",
    "Ytrain=to_categorical(Ytrain,2)\n",
    "\n",
    "Ytest=le.fit_transform(ytest)\n",
    "Ytest=to_categorical(Ytest,2)\n",
    "\n",
    "Xtrain=np.array(Xtrain)\n",
    "\n",
    "Xtest=np.array(Xtest)\n",
    "\n",
    "#x_train,x_test,y_train,y_test=train_test_split(X,Y,test_size=0.25,random_state=5)"
   ]
  },
  {
   "cell_type": "code",
   "execution_count": 15,
   "metadata": {},
   "outputs": [],
   "source": [
    "# Create a CNN Sequential Model\n",
    "model = Sequential()\n",
    "\n",
    "model.add(Conv2D(32, (5,5), activation = 'relu', input_shape=(128,128,3)))\n",
    "model.add(MaxPooling2D((2,2)))\n",
    "\n",
    "model.add(Conv2D(64, (3, 3), activation='relu')) \n",
    "model.add(MaxPooling2D((2, 2)))\n",
    "\n",
    "model.add(Conv2D(128, (3, 3), activation='relu')) \n",
    "model.add(MaxPooling2D((2, 2)))\n",
    "\n",
    "model.add(Conv2D(128, (3, 3), activation='relu')) \n",
    "model.add(MaxPooling2D((2, 2)))\n",
    "\n",
    "model.add(Conv2D(128, (3, 3), activation='relu')) \n",
    "model.add(MaxPooling2D((2, 2)))\n",
    "\n",
    "model.add(Flatten())\n",
    "\n",
    "model.add(Dropout(0.6))\n",
    "\n",
    "model.add(Dense(128, activation='relu'))\n",
    "\n",
    "model.add(Dense(2, activation='softmax'))"
   ]
  },
  {
   "cell_type": "code",
   "execution_count": 16,
   "metadata": {},
   "outputs": [],
   "source": [
    "#Model configuration for training purpose\n",
    "adam= keras.optimizers.Adam(learning_rate=0.001)\n",
    "model.compile(optimizer='adam', loss='categorical_crossentropy', metrics=['accuracy'])\n"
   ]
  },
  {
   "cell_type": "code",
   "execution_count": 17,
   "metadata": {},
   "outputs": [
    {
     "name": "stdout",
     "output_type": "stream",
     "text": [
      "Model: \"sequential_1\"\n",
      "_________________________________________________________________\n",
      "Layer (type)                 Output Shape              Param #   \n",
      "=================================================================\n",
      "conv2d_5 (Conv2D)            (None, 124, 124, 32)      2432      \n",
      "_________________________________________________________________\n",
      "max_pooling2d_5 (MaxPooling2 (None, 62, 62, 32)        0         \n",
      "_________________________________________________________________\n",
      "conv2d_6 (Conv2D)            (None, 60, 60, 64)        18496     \n",
      "_________________________________________________________________\n",
      "max_pooling2d_6 (MaxPooling2 (None, 30, 30, 64)        0         \n",
      "_________________________________________________________________\n",
      "conv2d_7 (Conv2D)            (None, 28, 28, 128)       73856     \n",
      "_________________________________________________________________\n",
      "max_pooling2d_7 (MaxPooling2 (None, 14, 14, 128)       0         \n",
      "_________________________________________________________________\n",
      "conv2d_8 (Conv2D)            (None, 12, 12, 128)       147584    \n",
      "_________________________________________________________________\n",
      "max_pooling2d_8 (MaxPooling2 (None, 6, 6, 128)         0         \n",
      "_________________________________________________________________\n",
      "conv2d_9 (Conv2D)            (None, 4, 4, 128)         147584    \n",
      "_________________________________________________________________\n",
      "max_pooling2d_9 (MaxPooling2 (None, 2, 2, 128)         0         \n",
      "_________________________________________________________________\n",
      "flatten_1 (Flatten)          (None, 512)               0         \n",
      "_________________________________________________________________\n",
      "dropout_1 (Dropout)          (None, 512)               0         \n",
      "_________________________________________________________________\n",
      "dense_2 (Dense)              (None, 128)               65664     \n",
      "_________________________________________________________________\n",
      "dense_3 (Dense)              (None, 2)                 258       \n",
      "=================================================================\n",
      "Total params: 455,874\n",
      "Trainable params: 455,874\n",
      "Non-trainable params: 0\n",
      "_________________________________________________________________\n",
      "None\n"
     ]
    }
   ],
   "source": [
    "print(model.summary())"
   ]
  },
  {
   "cell_type": "code",
   "execution_count": 18,
   "metadata": {},
   "outputs": [
    {
     "name": "stdout",
     "output_type": "stream",
     "text": [
      "Epoch 1/50\n",
      "117/117 - 124s - loss: 2.8142 - accuracy: 0.5713 - val_loss: 0.7647 - val_accuracy: 0.6500\n",
      "Epoch 2/50\n",
      "117/117 - 122s - loss: 0.6181 - accuracy: 0.6926 - val_loss: 0.5186 - val_accuracy: 0.8050\n",
      "Epoch 3/50\n",
      "117/117 - 120s - loss: 0.5385 - accuracy: 0.7653 - val_loss: 0.3824 - val_accuracy: 0.8700\n",
      "Epoch 4/50\n",
      "117/117 - 116s - loss: 0.5193 - accuracy: 0.7739 - val_loss: 0.3452 - val_accuracy: 0.9100\n",
      "Epoch 5/50\n",
      "117/117 - 116s - loss: 0.4697 - accuracy: 0.7882 - val_loss: 0.3936 - val_accuracy: 0.8250\n",
      "Epoch 6/50\n",
      "117/117 - 116s - loss: 0.4797 - accuracy: 0.8003 - val_loss: 0.2820 - val_accuracy: 0.9300\n",
      "Epoch 7/50\n",
      "117/117 - 120s - loss: 0.3915 - accuracy: 0.8181 - val_loss: 0.2517 - val_accuracy: 0.9300\n",
      "Epoch 8/50\n",
      "117/117 - 90s - loss: 0.3949 - accuracy: 0.8310 - val_loss: 0.2945 - val_accuracy: 0.9250\n",
      "Epoch 9/50\n",
      "117/117 - 85s - loss: 0.3566 - accuracy: 0.8516 - val_loss: 0.2285 - val_accuracy: 0.9050\n",
      "Epoch 10/50\n",
      "117/117 - 90s - loss: 0.3432 - accuracy: 0.8524 - val_loss: 0.2940 - val_accuracy: 0.8900\n",
      "Epoch 11/50\n",
      "117/117 - 101s - loss: 0.3285 - accuracy: 0.8652 - val_loss: 0.2643 - val_accuracy: 0.9000\n",
      "Epoch 12/50\n",
      "117/117 - 103s - loss: 0.3398 - accuracy: 0.8581 - val_loss: 0.3393 - val_accuracy: 0.8950\n",
      "Epoch 13/50\n",
      "117/117 - 102s - loss: 0.3230 - accuracy: 0.8595 - val_loss: 0.2966 - val_accuracy: 0.9200\n",
      "Epoch 14/50\n",
      "117/117 - 111s - loss: 0.3183 - accuracy: 0.8645 - val_loss: 0.2330 - val_accuracy: 0.9200\n",
      "Epoch 15/50\n",
      "117/117 - 118s - loss: 0.2948 - accuracy: 0.8859 - val_loss: 0.2093 - val_accuracy: 0.9200\n",
      "Epoch 16/50\n",
      "117/117 - 146s - loss: 0.2660 - accuracy: 0.8894 - val_loss: 0.2558 - val_accuracy: 0.8900\n",
      "Epoch 17/50\n",
      "117/117 - 169s - loss: 0.2583 - accuracy: 0.8973 - val_loss: 0.2799 - val_accuracy: 0.9350\n",
      "Epoch 18/50\n",
      "117/117 - 176s - loss: 0.2589 - accuracy: 0.8987 - val_loss: 0.3909 - val_accuracy: 0.8950\n",
      "Epoch 19/50\n",
      "117/117 - 181s - loss: 0.3013 - accuracy: 0.8852 - val_loss: 0.2330 - val_accuracy: 0.9300\n",
      "Epoch 20/50\n",
      "117/117 - 162s - loss: 0.2615 - accuracy: 0.9058 - val_loss: 0.4865 - val_accuracy: 0.7900\n",
      "Epoch 21/50\n",
      "117/117 - 148s - loss: 0.2611 - accuracy: 0.8966 - val_loss: 0.3735 - val_accuracy: 0.8800\n",
      "Epoch 22/50\n",
      "117/117 - 146s - loss: 0.2385 - accuracy: 0.9116 - val_loss: 0.1388 - val_accuracy: 0.9450\n",
      "Epoch 23/50\n",
      "117/117 - 148s - loss: 0.1943 - accuracy: 0.9265 - val_loss: 0.3137 - val_accuracy: 0.8800\n",
      "Epoch 24/50\n",
      "117/117 - 166s - loss: 0.2166 - accuracy: 0.9108 - val_loss: 0.1896 - val_accuracy: 0.9400\n",
      "Epoch 25/50\n",
      "117/117 - 170s - loss: 0.2119 - accuracy: 0.9165 - val_loss: 0.2032 - val_accuracy: 0.9100\n",
      "Epoch 26/50\n",
      "117/117 - 171s - loss: 0.2533 - accuracy: 0.9058 - val_loss: 0.2437 - val_accuracy: 0.9000\n",
      "Epoch 27/50\n",
      "117/117 - 171s - loss: 0.2875 - accuracy: 0.8916 - val_loss: 0.1887 - val_accuracy: 0.9350\n",
      "Epoch 28/50\n",
      "117/117 - 171s - loss: 0.2218 - accuracy: 0.9223 - val_loss: 0.3395 - val_accuracy: 0.8700\n",
      "Epoch 29/50\n",
      "117/117 - 173s - loss: 0.1559 - accuracy: 0.9387 - val_loss: 0.3121 - val_accuracy: 0.9200\n",
      "Epoch 30/50\n",
      "117/117 - 171s - loss: 0.1424 - accuracy: 0.9479 - val_loss: 0.3824 - val_accuracy: 0.9250\n",
      "Epoch 31/50\n",
      "117/117 - 174s - loss: 0.1859 - accuracy: 0.9322 - val_loss: 0.2921 - val_accuracy: 0.9300\n",
      "Epoch 32/50\n",
      "117/117 - 186s - loss: 0.1767 - accuracy: 0.9301 - val_loss: 0.2917 - val_accuracy: 0.9100\n",
      "Epoch 33/50\n",
      "117/117 - 175s - loss: 0.1244 - accuracy: 0.9515 - val_loss: 0.2217 - val_accuracy: 0.9350\n",
      "Epoch 34/50\n",
      "117/117 - 171s - loss: 0.1598 - accuracy: 0.9451 - val_loss: 0.3923 - val_accuracy: 0.8950\n",
      "Epoch 35/50\n",
      "117/117 - 171s - loss: 0.1366 - accuracy: 0.9479 - val_loss: 0.3276 - val_accuracy: 0.9300\n",
      "Epoch 36/50\n",
      "117/117 - 169s - loss: 0.1170 - accuracy: 0.9515 - val_loss: 0.3524 - val_accuracy: 0.9150\n",
      "Epoch 37/50\n",
      "117/117 - 168s - loss: 0.3342 - accuracy: 0.8809 - val_loss: 0.3498 - val_accuracy: 0.8950\n",
      "Epoch 38/50\n",
      "117/117 - 171s - loss: 0.2028 - accuracy: 0.9158 - val_loss: 0.3356 - val_accuracy: 0.8950\n",
      "Epoch 39/50\n",
      "117/117 - 172s - loss: 0.1261 - accuracy: 0.9572 - val_loss: 0.3307 - val_accuracy: 0.9050\n",
      "Epoch 40/50\n",
      "117/117 - 173s - loss: 0.1267 - accuracy: 0.9572 - val_loss: 0.2352 - val_accuracy: 0.9350\n",
      "Epoch 41/50\n",
      "117/117 - 175s - loss: 0.1248 - accuracy: 0.9601 - val_loss: 0.3597 - val_accuracy: 0.9150\n",
      "Epoch 42/50\n",
      "117/117 - 177s - loss: 0.1193 - accuracy: 0.9615 - val_loss: 0.2870 - val_accuracy: 0.9150\n",
      "Epoch 43/50\n",
      "117/117 - 172s - loss: 0.0993 - accuracy: 0.9593 - val_loss: 0.1853 - val_accuracy: 0.9500\n",
      "Epoch 44/50\n",
      "117/117 - 174s - loss: 0.0841 - accuracy: 0.9722 - val_loss: 0.2797 - val_accuracy: 0.9500\n",
      "Epoch 45/50\n",
      "117/117 - 172s - loss: 0.1498 - accuracy: 0.9622 - val_loss: 0.3604 - val_accuracy: 0.9000\n",
      "Epoch 46/50\n",
      "117/117 - 176s - loss: 0.1720 - accuracy: 0.9372 - val_loss: 0.4939 - val_accuracy: 0.8750\n",
      "Epoch 47/50\n",
      "117/117 - 201s - loss: 0.1290 - accuracy: 0.9465 - val_loss: 0.1799 - val_accuracy: 0.9450\n",
      "Epoch 48/50\n",
      "117/117 - 288s - loss: 0.1634 - accuracy: 0.9593 - val_loss: 0.2759 - val_accuracy: 0.9250\n",
      "Epoch 49/50\n",
      "117/117 - 293s - loss: 0.1056 - accuracy: 0.9622 - val_loss: 0.2084 - val_accuracy: 0.9400\n",
      "Epoch 50/50\n",
      "117/117 - 295s - loss: 0.1107 - accuracy: 0.9586 - val_loss: 0.3577 - val_accuracy: 0.9200\n"
     ]
    }
   ],
   "source": [
    "history=model.fit(Xtrain, Ytrain, epochs=50, batch_size=12, verbose=2, \n",
    "         validation_data=(Xtest, Ytest))"
   ]
  },
  {
   "cell_type": "code",
   "execution_count": 19,
   "metadata": {},
   "outputs": [
    {
     "name": "stdout",
     "output_type": "stream",
     "text": [
      "7/7 [==============================] - 10s 1s/step - loss: 0.3577 - accuracy: 0.9200\n",
      "Test accuracy: 92.00%\n"
     ]
    }
   ],
   "source": [
    "loss, accuracy = model.evaluate(Xtest, Ytest)\n",
    "print('Test accuracy: {:2.2f}%'.format(accuracy*100))\n"
   ]
  },
  {
   "cell_type": "code",
   "execution_count": 20,
   "metadata": {},
   "outputs": [
    {
     "data": {
      "text/plain": [
       "<AxesSubplot:>"
      ]
     },
     "execution_count": 20,
     "metadata": {},
     "output_type": "execute_result"
    },
    {
     "data": {
      "image/png": "[encoded data removed]",
      "text/plain": [
       "<Figure size 432x288 with 2 Axes>"
      ]
     },
     "metadata": {
      "needs_background": "light"
     },
     "output_type": "display_data"
    }
   ],
   "source": [
    "# Making predictions on test data\n",
    "prediction = model.predict(Xtest)\n",
    "#Transform predictions into 1D array \n",
    "y_pred = np.argmax(prediction, axis=1)\n",
    "y_test1=Ytest.astype(int)\n",
    "y_test2=[]\n",
    "for i in y_test1:\n",
    "    a=1\n",
    "    #print(i[0],i[1])\n",
    "    if(i[0]==1 and i[1]==0):\n",
    "        a=0\n",
    "    y_test2.append(a)    \n",
    "        \n",
    "#Create a Confusion Matrix for Evaluation\n",
    "# H = Horizontal\n",
    "# V = Vertical\n",
    "\n",
    "#Create a Confusion Matrix for Evaluation\n",
    "cf_matrix = confusion_matrix(y_test2, y_pred)\n",
    "\n",
    "import seaborn as sns\n",
    "group_names = ['Predicted meme','Predicted non-meme','Actual meme','Actual non-meme']\n",
    "group_counts = ['{0:0.0f}'.format(value) for value in\n",
    "                cf_matrix.flatten()]\n",
    "group_percentages = ['{0:.2%}'.format(value) for value in\n",
    "                     cf_matrix.flatten()/np.sum(cf_matrix)]\n",
    "labels = [f'{v1}\\n{v2}\\n{v3}' for v1, v2, v3 in\n",
    "          zip(group_names,group_counts,group_percentages)]\n",
    "labels = np.asarray(labels).reshape(2,2)\n",
    "sns.heatmap(cf_matrix, annot=labels, fmt='', cmap='Blues')"
   ]
  },
  {
   "cell_type": "code",
   "execution_count": 21,
   "metadata": {},
   "outputs": [
    {
     "name": "stdout",
     "output_type": "stream",
     "text": [
      "              precision    recall  f1-score   support\n",
      "\n",
      "           0       0.88      0.98      0.92       100\n",
      "           1       0.98      0.86      0.91       100\n",
      "\n",
      "    accuracy                           0.92       200\n",
      "   macro avg       0.93      0.92      0.92       200\n",
      "weighted avg       0.93      0.92      0.92       200\n",
      "\n"
     ]
    }
   ],
   "source": [
    "from sklearn.metrics import classification_report\n",
    "print(classification_report(y_test2, y_pred))"
   ]
  },
  {
   "cell_type": "code",
   "execution_count": 22,
   "metadata": {},
   "outputs": [
    {
     "data": {
      "image/png": "[encoded data removed]",
      "text/plain": [
       "<Figure size 432x288 with 1 Axes>"
      ]
     },
     "metadata": {
      "needs_background": "light"
     },
     "output_type": "display_data"
    },
    {
     "data": {
      "image/png": "[encoded data removed]",
      "text/plain": [
       "<Figure size 432x288 with 1 Axes>"
      ]
     },
     "metadata": {
      "needs_background": "light"
     },
     "output_type": "display_data"
    }
   ],
   "source": [
    "# Get training and test loss histories\n",
    "training_loss = history.history['loss']\n",
    "test_loss = history.history['val_loss']\n",
    "\n",
    "# Create count of the number of epochs\n",
    "epoch_count = range(1, len(training_loss) + 1)\n",
    "\n",
    "# Visualize loss history\n",
    "plt.plot(epoch_count, training_loss, 'r--')\n",
    "plt.plot(epoch_count, test_loss, 'b-')\n",
    "plt.legend(['Training Loss', 'Test Loss'])\n",
    "plt.xlabel('Epoch')\n",
    "plt.ylabel('Loss')\n",
    "plt.title('Model Loss')\n",
    "plt.show()\n",
    "\n",
    "training_acc = history.history['accuracy']\n",
    "test_acc = history.history['val_accuracy']\n",
    "epoch_count = range(1, len(training_acc) + 1)\n",
    "plt.plot(epoch_count, training_acc, 'r--')\n",
    "plt.plot(epoch_count, test_acc, 'b-')\n",
    "plt.title('Model accuracy')\n",
    "plt.ylabel('Accuracy')\n",
    "plt.xlabel('Epoch')\n",
    "plt.legend(['Training accuracy', 'Test accuracy'])\n",
    "plt.show()"
   ]
  },
  {
   "cell_type": "code",
   "execution_count": null,
   "metadata": {},
   "outputs": [],
   "source": [
    "\n",
    "\n",
    "\n"
   ]
  }
 ],
 "metadata": {
  "kernelspec": {
   "display_name": "Python 3",
   "language": "python",
   "name": "python3"
  },
  "language_info": {
   "codemirror_mode": {
    "name": "ipython",
    "version": 3
   },
   "file_extension": ".py",
   "mimetype": "text/x-python",
   "name": "python",
   "nbconvert_exporter": "python",
   "pygments_lexer": "ipython3",
   "version": "3.8.10"
  }
 },
 "nbformat": 4,
 "nbformat_minor": 2
}
