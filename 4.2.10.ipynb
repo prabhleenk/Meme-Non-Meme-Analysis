{
 "cells": [
  {
   "cell_type": "code",
   "execution_count": 11,
   "metadata": {},
   "outputs": [
    {
     "name": "stdout",
     "output_type": "stream",
     "text": [
      "1424\n"
     ]
    }
   ],
   "source": [
    "#Keras\n",
    "from tensorflow import keras\n",
    "\n",
    "# Import of keras model and hidden layers for CNN\n",
    "from keras.models import Sequential\n",
    "from keras.layers.convolutional import Conv2D, MaxPooling2D\n",
    "from keras.layers import Dense, Flatten, Dropout\n",
    "\n",
    "#Image handling libraries\n",
    "import numpy as np\n",
    "import matplotlib.pyplot as plt\n",
    "import cv2\n",
    "import pandas as pd\n",
    "\n",
    "#Sklearn libraries\n",
    "from sklearn.model_selection import train_test_split\n",
    "from sklearn.metrics import confusion_matrix\n",
    "\n",
    "# data visualisation and manipulation\n",
    "import matplotlib.pyplot as plt\n",
    "from matplotlib import style\n",
    "\n",
    "#Initialize a list of paths for images\n",
    "imagepathstrain = []\n",
    "imagepathstest = []\n",
    "\n",
    "import os\n",
    "for dirname, _, filenames in os.walk(r'images\\4.2.10\\TrainingDataset'):\n",
    "    for filename in filenames:\n",
    "        path = os.path.join(dirname, filename)\n",
    "        imagepathstrain.append(path)\n",
    "        \n",
    "for dirname, _, filenames in os.walk(r'images\\4.2.10\\TestingDataset'):\n",
    "    for filename in filenames:\n",
    "        path = os.path.join(dirname, filename)\n",
    "        imagepathstest.append(path)\n",
    "\n",
    "print(len(imagepathstrain))"
   ]
  },
  {
   "cell_type": "code",
   "execution_count": 12,
   "metadata": {},
   "outputs": [
    {
     "data": {
      "text/plain": [
       "1424"
      ]
     },
     "execution_count": 12,
     "metadata": {},
     "output_type": "execute_result"
    }
   ],
   "source": [
    "IMG_SIZE=128\n",
    "Xtrain=[]\n",
    "ytrain=[]\n",
    "for image in imagepathstrain:\n",
    "    try:\n",
    "        img = cv2.imread(image,cv2.IMREAD_COLOR)\n",
    "        img = cv2.resize(img, (IMG_SIZE,IMG_SIZE))\n",
    "\n",
    "        Xtrain.append(np.array(img))\n",
    "        if(image.startswith('images\\\\4.2.10\\\\TrainingDataset\\\\meme\\\\')):\n",
    "            ytrain.append('meme')\n",
    "        else:\n",
    "            ytrain.append('non-meme')\n",
    "    except:\n",
    "        pass\n",
    "    \n",
    "Xtest=[]\n",
    "ytest=[]\n",
    "for image in imagepathstest:\n",
    "    try:\n",
    "        img = cv2.imread(image,cv2.IMREAD_COLOR)\n",
    "        img = cv2.resize(img, (IMG_SIZE,IMG_SIZE))\n",
    "\n",
    "        Xtest.append(np.array(img))\n",
    "        if(image.startswith('images\\\\4.2.10\\\\TestingDataset\\\\meme\\\\')):\n",
    "            ytest.append('meme')\n",
    "        else:\n",
    "            ytest.append('non-meme')\n",
    "    except:\n",
    "        pass\n",
    "    \n",
    "\n",
    "len(Xtrain)\n"
   ]
  },
  {
   "cell_type": "code",
   "execution_count": 13,
   "metadata": {},
   "outputs": [],
   "source": [
    "from sklearn.preprocessing import LabelEncoder\n",
    "from tensorflow.keras.utils import to_categorical\n",
    "from sklearn.model_selection import train_test_split\n",
    "\n",
    "le=LabelEncoder()\n",
    "Ytrain=le.fit_transform(ytrain)\n",
    "Ytrain=to_categorical(Ytrain,2)\n",
    "\n",
    "Ytest=le.fit_transform(ytest)\n",
    "Ytest=to_categorical(Ytest,2)\n",
    "\n",
    "Xtrain=np.array(Xtrain)\n",
    "\n",
    "Xtest=np.array(Xtest)\n",
    "\n",
    "#x_train,x_test,y_train,y_test=train_test_split(X,Y,test_size=0.25,random_state=5)"
   ]
  },
  {
   "cell_type": "code",
   "execution_count": 15,
   "metadata": {},
   "outputs": [],
   "source": [
    "# Create a CNN Sequential Model\n",
    "model = Sequential()\n",
    "\n",
    "model.add(Conv2D(32, (5,5), activation = 'relu', input_shape=(128,128,3)))\n",
    "model.add(MaxPooling2D((2,2)))\n",
    "\n",
    "model.add(Conv2D(64, (3, 3), activation='relu')) \n",
    "model.add(MaxPooling2D((2, 2)))\n",
    "\n",
    "model.add(Conv2D(128, (3, 3), activation='relu')) \n",
    "model.add(MaxPooling2D((2, 2)))\n",
    "\n",
    "model.add(Conv2D(128, (3, 3), activation='relu')) \n",
    "model.add(MaxPooling2D((2, 2)))\n",
    "\n",
    "model.add(Conv2D(128, (3, 3), activation='relu')) \n",
    "model.add(MaxPooling2D((2, 2)))\n",
    "\n",
    "model.add(Flatten())\n",
    "\n",
    "model.add(Dropout(0.6))\n",
    "\n",
    "model.add(Dense(128, activation='relu'))\n",
    "\n",
    "model.add(Dense(2, activation='softmax'))"
   ]
  },
  {
   "cell_type": "code",
   "execution_count": 16,
   "metadata": {},
   "outputs": [],
   "source": [
    "#Model configuration for training purpose\n",
    "adam= keras.optimizers.Adam(learning_rate=0.001)\n",
    "model.compile(optimizer='adam', loss='categorical_crossentropy', metrics=['accuracy'])\n"
   ]
  },
  {
   "cell_type": "code",
   "execution_count": 17,
   "metadata": {},
   "outputs": [
    {
     "name": "stdout",
     "output_type": "stream",
     "text": [
      "Model: \"sequential_2\"\n",
      "_________________________________________________________________\n",
      "Layer (type)                 Output Shape              Param #   \n",
      "=================================================================\n",
      "conv2d_10 (Conv2D)           (None, 124, 124, 32)      2432      \n",
      "_________________________________________________________________\n",
      "max_pooling2d_10 (MaxPooling (None, 62, 62, 32)        0         \n",
      "_________________________________________________________________\n",
      "conv2d_11 (Conv2D)           (None, 60, 60, 64)        18496     \n",
      "_________________________________________________________________\n",
      "max_pooling2d_11 (MaxPooling (None, 30, 30, 64)        0         \n",
      "_________________________________________________________________\n",
      "conv2d_12 (Conv2D)           (None, 28, 28, 128)       73856     \n",
      "_________________________________________________________________\n",
      "max_pooling2d_12 (MaxPooling (None, 14, 14, 128)       0         \n",
      "_________________________________________________________________\n",
      "conv2d_13 (Conv2D)           (None, 12, 12, 128)       147584    \n",
      "_________________________________________________________________\n",
      "max_pooling2d_13 (MaxPooling (None, 6, 6, 128)         0         \n",
      "_________________________________________________________________\n",
      "conv2d_14 (Conv2D)           (None, 4, 4, 128)         147584    \n",
      "_________________________________________________________________\n",
      "max_pooling2d_14 (MaxPooling (None, 2, 2, 128)         0         \n",
      "_________________________________________________________________\n",
      "flatten_2 (Flatten)          (None, 512)               0         \n",
      "_________________________________________________________________\n",
      "dropout_2 (Dropout)          (None, 512)               0         \n",
      "_________________________________________________________________\n",
      "dense_4 (Dense)              (None, 128)               65664     \n",
      "_________________________________________________________________\n",
      "dense_5 (Dense)              (None, 2)                 258       \n",
      "=================================================================\n",
      "Total params: 455,874\n",
      "Trainable params: 455,874\n",
      "Non-trainable params: 0\n",
      "_________________________________________________________________\n",
      "None\n"
     ]
    }
   ],
   "source": [
    "print(model.summary())"
   ]
  },
  {
   "cell_type": "code",
   "execution_count": 19,
   "metadata": {},
   "outputs": [
    {
     "name": "stdout",
     "output_type": "stream",
     "text": [
      "Epoch 1/50\n",
      "119/119 - 221s - loss: 0.0563 - accuracy: 0.9824 - val_loss: 0.5290 - val_accuracy: 0.8539\n",
      "Epoch 2/50\n",
      "119/119 - 141s - loss: 0.0397 - accuracy: 0.9838 - val_loss: 0.6250 - val_accuracy: 0.8764\n",
      "Epoch 3/50\n",
      "119/119 - 73s - loss: 0.0847 - accuracy: 0.9635 - val_loss: 0.7708 - val_accuracy: 0.8539\n",
      "Epoch 4/50\n",
      "119/119 - 67s - loss: 0.1334 - accuracy: 0.9501 - val_loss: 0.5563 - val_accuracy: 0.8708\n",
      "Epoch 5/50\n",
      "119/119 - 65s - loss: 0.0531 - accuracy: 0.9867 - val_loss: 0.7649 - val_accuracy: 0.8539\n",
      "Epoch 6/50\n",
      "119/119 - 65s - loss: 0.1316 - accuracy: 0.9558 - val_loss: 0.4626 - val_accuracy: 0.8596\n",
      "Epoch 7/50\n",
      "119/119 - 64s - loss: 0.1383 - accuracy: 0.9529 - val_loss: 0.3971 - val_accuracy: 0.8933\n",
      "Epoch 8/50\n",
      "119/119 - 58s - loss: 0.0357 - accuracy: 0.9881 - val_loss: 0.6458 - val_accuracy: 0.8820\n",
      "Epoch 9/50\n",
      "119/119 - 34s - loss: 0.0384 - accuracy: 0.9895 - val_loss: 0.6456 - val_accuracy: 0.8933\n",
      "Epoch 10/50\n",
      "119/119 - 38s - loss: 0.0623 - accuracy: 0.9775 - val_loss: 0.7439 - val_accuracy: 0.8652\n",
      "Epoch 11/50\n",
      "119/119 - 37s - loss: 0.0359 - accuracy: 0.9881 - val_loss: 0.8157 - val_accuracy: 0.8820\n",
      "Epoch 12/50\n",
      "119/119 - 37s - loss: 0.0306 - accuracy: 0.9860 - val_loss: 0.7586 - val_accuracy: 0.8764\n",
      "Epoch 13/50\n",
      "119/119 - 36s - loss: 0.0515 - accuracy: 0.9824 - val_loss: 1.0623 - val_accuracy: 0.8315\n",
      "Epoch 14/50\n",
      "119/119 - 36s - loss: 0.0916 - accuracy: 0.9705 - val_loss: 0.6762 - val_accuracy: 0.8596\n",
      "Epoch 15/50\n",
      "119/119 - 34s - loss: 0.1194 - accuracy: 0.9628 - val_loss: 0.5284 - val_accuracy: 0.8876\n",
      "Epoch 16/50\n",
      "119/119 - 32s - loss: 0.1354 - accuracy: 0.9565 - val_loss: 0.5971 - val_accuracy: 0.8596\n",
      "Epoch 17/50\n",
      "119/119 - 35s - loss: 0.0688 - accuracy: 0.9810 - val_loss: 0.5629 - val_accuracy: 0.8764\n",
      "Epoch 18/50\n",
      "119/119 - 36s - loss: 0.0204 - accuracy: 0.9923 - val_loss: 0.5994 - val_accuracy: 0.8989\n",
      "Epoch 19/50\n",
      "119/119 - 37s - loss: 0.0165 - accuracy: 0.9930 - val_loss: 0.6800 - val_accuracy: 0.8708\n",
      "Epoch 20/50\n",
      "119/119 - 34s - loss: 0.0273 - accuracy: 0.9874 - val_loss: 0.9396 - val_accuracy: 0.8427\n",
      "Epoch 21/50\n",
      "119/119 - 34s - loss: 0.0707 - accuracy: 0.9754 - val_loss: 0.4847 - val_accuracy: 0.8820\n",
      "Epoch 22/50\n",
      "119/119 - 33s - loss: 0.0577 - accuracy: 0.9810 - val_loss: 1.1174 - val_accuracy: 0.8371\n",
      "Epoch 23/50\n",
      "119/119 - 31s - loss: 0.2718 - accuracy: 0.9178 - val_loss: 0.4717 - val_accuracy: 0.8483\n",
      "Epoch 24/50\n",
      "119/119 - 33s - loss: 0.0699 - accuracy: 0.9782 - val_loss: 0.5298 - val_accuracy: 0.8876\n",
      "Epoch 25/50\n",
      "119/119 - 35s - loss: 0.0404 - accuracy: 0.9874 - val_loss: 0.6157 - val_accuracy: 0.8876\n",
      "Epoch 26/50\n",
      "119/119 - 35s - loss: 0.0392 - accuracy: 0.9895 - val_loss: 0.9361 - val_accuracy: 0.8989\n",
      "Epoch 27/50\n",
      "119/119 - 35s - loss: 0.0203 - accuracy: 0.9916 - val_loss: 0.9872 - val_accuracy: 0.8933\n",
      "Epoch 28/50\n",
      "119/119 - 35s - loss: 0.0577 - accuracy: 0.9838 - val_loss: 0.4776 - val_accuracy: 0.9101\n",
      "Epoch 29/50\n",
      "119/119 - 35s - loss: 0.0494 - accuracy: 0.9810 - val_loss: 0.7693 - val_accuracy: 0.8820\n",
      "Epoch 30/50\n",
      "119/119 - 35s - loss: 0.0637 - accuracy: 0.9831 - val_loss: 1.1583 - val_accuracy: 0.8315\n",
      "Epoch 31/50\n",
      "119/119 - 33s - loss: 0.0783 - accuracy: 0.9789 - val_loss: 0.3807 - val_accuracy: 0.8989\n",
      "Epoch 32/50\n",
      "119/119 - 32s - loss: 0.0982 - accuracy: 0.9726 - val_loss: 0.8078 - val_accuracy: 0.8539\n",
      "Epoch 33/50\n",
      "119/119 - 31s - loss: 0.0516 - accuracy: 0.9817 - val_loss: 0.9302 - val_accuracy: 0.8764\n",
      "Epoch 34/50\n",
      "119/119 - 34s - loss: 0.0196 - accuracy: 0.9923 - val_loss: 0.8132 - val_accuracy: 0.8652\n",
      "Epoch 35/50\n",
      "119/119 - 33s - loss: 0.0247 - accuracy: 0.9930 - val_loss: 0.7321 - val_accuracy: 0.8764\n",
      "Epoch 36/50\n",
      "119/119 - 30s - loss: 0.0370 - accuracy: 0.9853 - val_loss: 0.8162 - val_accuracy: 0.8708\n",
      "Epoch 37/50\n",
      "119/119 - 30s - loss: 0.0627 - accuracy: 0.9803 - val_loss: 0.6649 - val_accuracy: 0.8483\n",
      "Epoch 38/50\n",
      "119/119 - 30s - loss: 0.0573 - accuracy: 0.9775 - val_loss: 1.1565 - val_accuracy: 0.8596\n",
      "Epoch 39/50\n",
      "119/119 - 30s - loss: 0.0528 - accuracy: 0.9867 - val_loss: 0.7113 - val_accuracy: 0.8708\n",
      "Epoch 40/50\n",
      "119/119 - 30s - loss: 0.0423 - accuracy: 0.9895 - val_loss: 1.0890 - val_accuracy: 0.8483\n",
      "Epoch 41/50\n",
      "119/119 - 30s - loss: 0.1165 - accuracy: 0.9656 - val_loss: 0.6455 - val_accuracy: 0.8427\n",
      "Epoch 42/50\n",
      "119/119 - 30s - loss: 0.0720 - accuracy: 0.9803 - val_loss: 0.6151 - val_accuracy: 0.8989\n",
      "Epoch 43/50\n",
      "119/119 - 30s - loss: 0.0174 - accuracy: 0.9951 - val_loss: 0.8299 - val_accuracy: 0.8708\n",
      "Epoch 44/50\n",
      "119/119 - 30s - loss: 0.0957 - accuracy: 0.9754 - val_loss: 0.8235 - val_accuracy: 0.8371\n",
      "Epoch 45/50\n",
      "119/119 - 31s - loss: 0.0584 - accuracy: 0.9824 - val_loss: 0.6576 - val_accuracy: 0.8427\n",
      "Epoch 46/50\n",
      "119/119 - 30s - loss: 0.0751 - accuracy: 0.9789 - val_loss: 0.5921 - val_accuracy: 0.8764\n",
      "Epoch 47/50\n",
      "119/119 - 30s - loss: 0.1641 - accuracy: 0.9677 - val_loss: 1.6069 - val_accuracy: 0.7416\n",
      "Epoch 48/50\n",
      "119/119 - 30s - loss: 0.1914 - accuracy: 0.9403 - val_loss: 0.4964 - val_accuracy: 0.8708\n",
      "Epoch 49/50\n",
      "119/119 - 30s - loss: 0.0674 - accuracy: 0.9789 - val_loss: 0.5084 - val_accuracy: 0.8989\n",
      "Epoch 50/50\n",
      "119/119 - 32s - loss: 0.0370 - accuracy: 0.9909 - val_loss: 0.8581 - val_accuracy: 0.8483\n"
     ]
    }
   ],
   "source": [
    "history=model.fit(Xtrain, Ytrain, epochs=50, batch_size=12, verbose=2, \n",
    "         validation_data=(Xtest, Ytest))"
   ]
  },
  {
   "cell_type": "code",
   "execution_count": 20,
   "metadata": {},
   "outputs": [
    {
     "name": "stdout",
     "output_type": "stream",
     "text": [
      "6/6 [==============================] - 1s 157ms/step - loss: 0.8581 - accuracy: 0.8483\n",
      "Test accuracy: 84.83%\n"
     ]
    }
   ],
   "source": [
    "loss, accuracy = model.evaluate(Xtest, Ytest)\n",
    "print('Test accuracy: {:2.2f}%'.format(accuracy*100))\n"
   ]
  },
  {
   "cell_type": "code",
   "execution_count": 21,
   "metadata": {},
   "outputs": [
    {
     "data": {
      "text/plain": [
       "<AxesSubplot:>"
      ]
     },
     "execution_count": 21,
     "metadata": {},
     "output_type": "execute_result"
    },
    {
     "data": {
      "image/png": "[encoded data removed]",
      "text/plain": [
       "<Figure size 432x288 with 2 Axes>"
      ]
     },
     "metadata": {
      "needs_background": "light"
     },
     "output_type": "display_data"
    }
   ],
   "source": [
    "# Making predictions on test data\n",
    "prediction = model.predict(Xtest)\n",
    "#Transform predictions into 1D array \n",
    "y_pred = np.argmax(prediction, axis=1)\n",
    "y_test1=Ytest.astype(int)\n",
    "y_test2=[]\n",
    "for i in y_test1:\n",
    "    a=1\n",
    "    #print(i[0],i[1])\n",
    "    if(i[0]==1 and i[1]==0):\n",
    "        a=0\n",
    "    y_test2.append(a)    \n",
    "        \n",
    "#Create a Confusion Matrix for Evaluation\n",
    "# H = Horizontal\n",
    "# V = Vertical\n",
    "\n",
    "#Create a Confusion Matrix for Evaluation\n",
    "cf_matrix = confusion_matrix(y_test2, y_pred)\n",
    "\n",
    "import seaborn as sns\n",
    "group_names = ['Predicted meme','Predicted non-meme','Actual meme','Actual non-meme']\n",
    "group_counts = ['{0:0.0f}'.format(value) for value in\n",
    "                cf_matrix.flatten()]\n",
    "group_percentages = ['{0:.2%}'.format(value) for value in\n",
    "                     cf_matrix.flatten()/np.sum(cf_matrix)]\n",
    "labels = [f'{v1}\\n{v2}\\n{v3}' for v1, v2, v3 in\n",
    "          zip(group_names,group_counts,group_percentages)]\n",
    "labels = np.asarray(labels).reshape(2,2)\n",
    "sns.heatmap(cf_matrix, annot=labels, fmt='', cmap='Blues')"
   ]
  },
  {
   "cell_type": "code",
   "execution_count": 23,
   "metadata": {},
   "outputs": [
    {
     "name": "stdout",
     "output_type": "stream",
     "text": [
      "              precision    recall  f1-score   support\n",
      "\n",
      "           0       0.79      0.93      0.85        85\n",
      "           1       0.92      0.77      0.84        93\n",
      "\n",
      "    accuracy                           0.85       178\n",
      "   macro avg       0.86      0.85      0.85       178\n",
      "weighted avg       0.86      0.85      0.85       178\n",
      "\n"
     ]
    }
   ],
   "source": [
    "from sklearn.metrics import classification_report\n",
    "\n",
    "#y_pred_bool = np.argmax(y_pred, axis=1)\n",
    "\n",
    "print(classification_report(y_test2, y_pred))"
   ]
  },
  {
   "cell_type": "code",
   "execution_count": 22,
   "metadata": {},
   "outputs": [
    {
     "data": {
      "image/png": "[encoded data removed]",
      "text/plain": [
       "<Figure size 432x288 with 1 Axes>"
      ]
     },
     "metadata": {
      "needs_background": "light"
     },
     "output_type": "display_data"
    },
    {
     "data": {
      "image/png": "[encoded data removed]",
      "text/plain": [
       "<Figure size 432x288 with 1 Axes>"
      ]
     },
     "metadata": {
      "needs_background": "light"
     },
     "output_type": "display_data"
    }
   ],
   "source": [
    "# Get training and test loss histories\n",
    "training_loss = history.history['loss']\n",
    "test_loss = history.history['val_loss']\n",
    "\n",
    "# Create count of the number of epochs\n",
    "epoch_count = range(1, len(training_loss) + 1)\n",
    "\n",
    "# Visualize loss history\n",
    "plt.plot(epoch_count, training_loss, 'r--')\n",
    "plt.plot(epoch_count, test_loss, 'b-')\n",
    "plt.legend(['Training Loss', 'Test Loss'])\n",
    "plt.xlabel('Epoch')\n",
    "plt.ylabel('Loss')\n",
    "plt.title('Model Loss')\n",
    "plt.show()\n",
    "\n",
    "training_acc = history.history['accuracy']\n",
    "test_acc = history.history['val_accuracy']\n",
    "epoch_count = range(1, len(training_acc) + 1)\n",
    "plt.plot(epoch_count, training_acc, 'r--')\n",
    "plt.plot(epoch_count, test_acc, 'b-')\n",
    "plt.title('Model accuracy')\n",
    "plt.ylabel('Accuracy')\n",
    "plt.xlabel('Epoch')\n",
    "plt.legend(['Training accuracy', 'Test accuracy'])\n",
    "plt.show()"
   ]
  },
  {
   "cell_type": "code",
   "execution_count": null,
   "metadata": {},
   "outputs": [],
   "source": []
  }
 ],
 "metadata": {
  "kernelspec": {
   "display_name": "Python 3",
   "language": "python",
   "name": "python3"
  },
  "language_info": {
   "codemirror_mode": {
    "name": "ipython",
    "version": 3
   },
   "file_extension": ".py",
   "mimetype": "text/x-python",
   "name": "python",
   "nbconvert_exporter": "python",
   "pygments_lexer": "ipython3",
   "version": "3.8.10"
  }
 },
 "nbformat": 4,
 "nbformat_minor": 2
}
