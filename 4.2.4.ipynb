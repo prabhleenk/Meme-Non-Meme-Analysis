{
 "cells": [
  {
   "cell_type": "code",
   "execution_count": 21,
   "metadata": {},
   "outputs": [
    {
     "name": "stdout",
     "output_type": "stream",
     "text": [
      "1515\n"
     ]
    }
   ],
   "source": [
    "#Keras\n",
    "from tensorflow import keras\n",
    "\n",
    "# Import of keras model and hidden layers for CNN\n",
    "from keras.models import Sequential\n",
    "from keras.layers.convolutional import Conv2D, MaxPooling2D\n",
    "from keras.layers import Dense, Flatten, Dropout\n",
    "\n",
    "#Image handling libraries\n",
    "import numpy as np\n",
    "import matplotlib.pyplot as plt\n",
    "import cv2\n",
    "import pandas as pd\n",
    "\n",
    "#Sklearn libraries\n",
    "from sklearn.model_selection import train_test_split\n",
    "from sklearn.metrics import confusion_matrix\n",
    "\n",
    "# data visualisation and manipulation\n",
    "import matplotlib.pyplot as plt\n",
    "from matplotlib import style\n",
    "\n",
    "#Initialize a list of paths for images\n",
    "imagepathstrain = []\n",
    "imagepathstest = []\n",
    "\n",
    "import os\n",
    "for dirname, _, filenames in os.walk(r'images\\4.2.4\\TrainingDataset'):\n",
    "    for filename in filenames:\n",
    "        path = os.path.join(dirname, filename)\n",
    "        imagepathstrain.append(path)\n",
    "        \n",
    "for dirname, _, filenames in os.walk(r'images\\4.2.4\\TestingDataset'):\n",
    "    for filename in filenames:\n",
    "        path = os.path.join(dirname, filename)\n",
    "        imagepathstest.append(path)\n",
    "\n",
    "print(len(imagepathstrain))"
   ]
  },
  {
   "cell_type": "code",
   "execution_count": 22,
   "metadata": {},
   "outputs": [
    {
     "data": {
      "text/plain": [
       "1515"
      ]
     },
     "execution_count": 22,
     "metadata": {},
     "output_type": "execute_result"
    }
   ],
   "source": [
    "IMG_SIZE=128\n",
    "Xtrain=[]\n",
    "ytrain=[]\n",
    "for image in imagepathstrain:\n",
    "    try:\n",
    "        img = cv2.imread(image,cv2.IMREAD_COLOR)\n",
    "        img = cv2.resize(img, (IMG_SIZE,IMG_SIZE))\n",
    "\n",
    "        Xtrain.append(np.array(img))\n",
    "        if(image.startswith('images\\\\4.2.4\\\\TrainingDataset\\\\meme\\\\')):\n",
    "            ytrain.append('meme')\n",
    "        else:\n",
    "            ytrain.append('non-meme')\n",
    "    except:\n",
    "        pass\n",
    "    \n",
    "Xtest=[]\n",
    "ytest=[]\n",
    "for image in imagepathstest:\n",
    "    try:\n",
    "        img = cv2.imread(image,cv2.IMREAD_COLOR)\n",
    "        img = cv2.resize(img, (IMG_SIZE,IMG_SIZE))\n",
    "\n",
    "        Xtest.append(np.array(img))\n",
    "        if(image.startswith('images\\\\4.2.4\\\\TestingDataset\\\\meme\\\\')):\n",
    "            ytest.append('meme')\n",
    "        else:\n",
    "            ytest.append('non-meme')\n",
    "    except:\n",
    "        pass\n",
    "    \n",
    "\n",
    "len(Xtrain)\n"
   ]
  },
  {
   "cell_type": "code",
   "execution_count": 23,
   "metadata": {},
   "outputs": [],
   "source": [
    "from sklearn.preprocessing import LabelEncoder\n",
    "from tensorflow.keras.utils import to_categorical\n",
    "from sklearn.model_selection import train_test_split\n",
    "\n",
    "le=LabelEncoder()\n",
    "Ytrain=le.fit_transform(ytrain)\n",
    "Ytrain=to_categorical(Ytrain,2)\n",
    "\n",
    "Ytest=le.fit_transform(ytest)\n",
    "Ytest=to_categorical(Ytest,2)\n",
    "\n",
    "Xtrain=np.array(Xtrain)\n",
    "\n",
    "Xtest=np.array(Xtest)\n",
    "\n",
    "#x_train,x_test,y_train,y_test=train_test_split(X,Y,test_size=0.25,random_state=5)"
   ]
  },
  {
   "cell_type": "code",
   "execution_count": 24,
   "metadata": {},
   "outputs": [],
   "source": [
    "# Create a CNN Sequential Model\n",
    "model = Sequential()\n",
    "\n",
    "model.add(Conv2D(32, (5,5), activation = 'relu', input_shape=(128,128,3)))\n",
    "model.add(MaxPooling2D((2,2)))\n",
    "\n",
    "model.add(Conv2D(64, (3, 3), activation='relu')) \n",
    "model.add(MaxPooling2D((2, 2)))\n",
    "\n",
    "model.add(Conv2D(128, (3, 3), activation='relu')) \n",
    "model.add(MaxPooling2D((2, 2)))\n",
    "\n",
    "model.add(Conv2D(128, (3, 3), activation='relu')) \n",
    "model.add(MaxPooling2D((2, 2)))\n",
    "\n",
    "model.add(Conv2D(128, (3, 3), activation='relu')) \n",
    "model.add(MaxPooling2D((2, 2)))\n",
    "\n",
    "model.add(Flatten())\n",
    "\n",
    "model.add(Dropout(0.6))\n",
    "\n",
    "model.add(Dense(128, activation='relu'))\n",
    "\n",
    "model.add(Dense(2, activation='softmax'))"
   ]
  },
  {
   "cell_type": "code",
   "execution_count": 25,
   "metadata": {},
   "outputs": [],
   "source": [
    "#Model configuration for training purpose\n",
    "adam= keras.optimizers.Adam(learning_rate=0.001)\n",
    "model.compile(optimizer='adam', loss='categorical_crossentropy', metrics=['accuracy'])\n"
   ]
  },
  {
   "cell_type": "code",
   "execution_count": 26,
   "metadata": {},
   "outputs": [
    {
     "name": "stdout",
     "output_type": "stream",
     "text": [
      "Model: \"sequential_2\"\n",
      "_________________________________________________________________\n",
      "Layer (type)                 Output Shape              Param #   \n",
      "=================================================================\n",
      "conv2d_10 (Conv2D)           (None, 124, 124, 32)      2432      \n",
      "_________________________________________________________________\n",
      "max_pooling2d_10 (MaxPooling (None, 62, 62, 32)        0         \n",
      "_________________________________________________________________\n",
      "conv2d_11 (Conv2D)           (None, 60, 60, 64)        18496     \n",
      "_________________________________________________________________\n",
      "max_pooling2d_11 (MaxPooling (None, 30, 30, 64)        0         \n",
      "_________________________________________________________________\n",
      "conv2d_12 (Conv2D)           (None, 28, 28, 128)       73856     \n",
      "_________________________________________________________________\n",
      "max_pooling2d_12 (MaxPooling (None, 14, 14, 128)       0         \n",
      "_________________________________________________________________\n",
      "conv2d_13 (Conv2D)           (None, 12, 12, 128)       147584    \n",
      "_________________________________________________________________\n",
      "max_pooling2d_13 (MaxPooling (None, 6, 6, 128)         0         \n",
      "_________________________________________________________________\n",
      "conv2d_14 (Conv2D)           (None, 4, 4, 128)         147584    \n",
      "_________________________________________________________________\n",
      "max_pooling2d_14 (MaxPooling (None, 2, 2, 128)         0         \n",
      "_________________________________________________________________\n",
      "flatten_2 (Flatten)          (None, 512)               0         \n",
      "_________________________________________________________________\n",
      "dropout_2 (Dropout)          (None, 512)               0         \n",
      "_________________________________________________________________\n",
      "dense_4 (Dense)              (None, 128)               65664     \n",
      "_________________________________________________________________\n",
      "dense_5 (Dense)              (None, 2)                 258       \n",
      "=================================================================\n",
      "Total params: 455,874\n",
      "Trainable params: 455,874\n",
      "Non-trainable params: 0\n",
      "_________________________________________________________________\n",
      "None\n"
     ]
    }
   ],
   "source": [
    "print(model.summary())"
   ]
  },
  {
   "cell_type": "code",
   "execution_count": 28,
   "metadata": {},
   "outputs": [
    {
     "name": "stdout",
     "output_type": "stream",
     "text": [
      "Epoch 1/50\n",
      "127/127 - 164s - loss: 2.3514 - accuracy: 0.5914 - val_loss: 0.6686 - val_accuracy: 0.6322\n",
      "Epoch 2/50\n",
      "127/127 - 183s - loss: 0.5670 - accuracy: 0.7234 - val_loss: 0.5102 - val_accuracy: 0.8046\n",
      "Epoch 3/50\n",
      "127/127 - 183s - loss: 0.4872 - accuracy: 0.8079 - val_loss: 0.5131 - val_accuracy: 0.7126\n",
      "Epoch 4/50\n",
      "127/127 - 199s - loss: 0.5068 - accuracy: 0.7578 - val_loss: 0.4260 - val_accuracy: 0.7586\n",
      "Epoch 5/50\n",
      "127/127 - 160s - loss: 0.4243 - accuracy: 0.8350 - val_loss: 0.5503 - val_accuracy: 0.6552\n",
      "Epoch 6/50\n",
      "127/127 - 156s - loss: 0.4069 - accuracy: 0.8383 - val_loss: 0.3674 - val_accuracy: 0.8046\n",
      "Epoch 7/50\n",
      "127/127 - 155s - loss: 0.4020 - accuracy: 0.8290 - val_loss: 0.3644 - val_accuracy: 0.8276\n",
      "Epoch 8/50\n",
      "127/127 - 161s - loss: 0.3576 - accuracy: 0.8475 - val_loss: 0.3824 - val_accuracy: 0.8276\n",
      "Epoch 9/50\n",
      "127/127 - 180s - loss: 0.3587 - accuracy: 0.8462 - val_loss: 0.3501 - val_accuracy: 0.8621\n",
      "Epoch 10/50\n",
      "127/127 - 181s - loss: 0.3155 - accuracy: 0.8634 - val_loss: 0.3611 - val_accuracy: 0.8621\n",
      "Epoch 11/50\n",
      "127/127 - 183s - loss: 0.3046 - accuracy: 0.8805 - val_loss: 0.3285 - val_accuracy: 0.8851\n",
      "Epoch 12/50\n",
      "127/127 - 183s - loss: 0.2875 - accuracy: 0.8818 - val_loss: 0.2333 - val_accuracy: 0.8966\n",
      "Epoch 13/50\n",
      "127/127 - 182s - loss: 0.3086 - accuracy: 0.8792 - val_loss: 0.3402 - val_accuracy: 0.8621\n",
      "Epoch 14/50\n",
      "127/127 - 182s - loss: 0.2895 - accuracy: 0.8825 - val_loss: 0.2806 - val_accuracy: 0.8736\n",
      "Epoch 15/50\n",
      "127/127 - 184s - loss: 0.2828 - accuracy: 0.8838 - val_loss: 0.4097 - val_accuracy: 0.9080\n",
      "Epoch 16/50\n",
      "127/127 - 197s - loss: 0.2626 - accuracy: 0.8871 - val_loss: 0.2986 - val_accuracy: 0.8621\n",
      "Epoch 17/50\n",
      "127/127 - 186s - loss: 0.2915 - accuracy: 0.8832 - val_loss: 0.3371 - val_accuracy: 0.8506\n",
      "Epoch 18/50\n",
      "127/127 - 181s - loss: 0.2644 - accuracy: 0.9050 - val_loss: 0.2106 - val_accuracy: 0.9195\n",
      "Epoch 19/50\n",
      "127/127 - 180s - loss: 0.2142 - accuracy: 0.9208 - val_loss: 0.4556 - val_accuracy: 0.8276\n",
      "Epoch 20/50\n",
      "127/127 - 180s - loss: 0.2187 - accuracy: 0.9122 - val_loss: 0.2298 - val_accuracy: 0.9195\n",
      "Epoch 21/50\n",
      "127/127 - 179s - loss: 0.2008 - accuracy: 0.9287 - val_loss: 0.3859 - val_accuracy: 0.8391\n",
      "Epoch 22/50\n",
      "127/127 - 181s - loss: 0.2304 - accuracy: 0.9122 - val_loss: 0.2070 - val_accuracy: 0.9195\n",
      "Epoch 23/50\n",
      "127/127 - 183s - loss: 0.1781 - accuracy: 0.9340 - val_loss: 0.2093 - val_accuracy: 0.9195\n",
      "Epoch 24/50\n",
      "127/127 - 181s - loss: 0.1690 - accuracy: 0.9386 - val_loss: 0.2675 - val_accuracy: 0.8851\n",
      "Epoch 25/50\n",
      "127/127 - 188s - loss: 0.1610 - accuracy: 0.9446 - val_loss: 0.2374 - val_accuracy: 0.8736\n",
      "Epoch 26/50\n",
      "127/127 - 184s - loss: 0.1143 - accuracy: 0.9611 - val_loss: 0.2850 - val_accuracy: 0.8621\n",
      "Epoch 27/50\n",
      "127/127 - 181s - loss: 0.2512 - accuracy: 0.9109 - val_loss: 0.3549 - val_accuracy: 0.8391\n",
      "Epoch 28/50\n",
      "127/127 - 184s - loss: 0.1689 - accuracy: 0.9459 - val_loss: 0.2576 - val_accuracy: 0.9195\n",
      "Epoch 29/50\n",
      "127/127 - 183s - loss: 0.1569 - accuracy: 0.9492 - val_loss: 0.3396 - val_accuracy: 0.8621\n",
      "Epoch 30/50\n",
      "127/127 - 197s - loss: 0.1646 - accuracy: 0.9419 - val_loss: 0.2544 - val_accuracy: 0.8736\n",
      "Epoch 31/50\n",
      "127/127 - 308s - loss: 0.1149 - accuracy: 0.9604 - val_loss: 0.3334 - val_accuracy: 0.8736\n",
      "Epoch 32/50\n",
      "127/127 - 307s - loss: 0.0987 - accuracy: 0.9637 - val_loss: 0.3869 - val_accuracy: 0.8621\n",
      "Epoch 33/50\n",
      "127/127 - 312s - loss: 0.1315 - accuracy: 0.9551 - val_loss: 0.4109 - val_accuracy: 0.8851\n",
      "Epoch 34/50\n",
      "127/127 - 268s - loss: 0.1212 - accuracy: 0.9538 - val_loss: 0.3018 - val_accuracy: 0.8506\n",
      "Epoch 35/50\n",
      "127/127 - 260s - loss: 0.1549 - accuracy: 0.9413 - val_loss: 0.2716 - val_accuracy: 0.9080\n",
      "Epoch 36/50\n",
      "127/127 - 258s - loss: 0.1362 - accuracy: 0.9564 - val_loss: 0.3115 - val_accuracy: 0.8851\n",
      "Epoch 37/50\n",
      "127/127 - 259s - loss: 0.1482 - accuracy: 0.9465 - val_loss: 0.2791 - val_accuracy: 0.9080\n",
      "Epoch 38/50\n",
      "127/127 - 271s - loss: 0.0971 - accuracy: 0.9670 - val_loss: 0.2347 - val_accuracy: 0.9080\n",
      "Epoch 39/50\n",
      "127/127 - 266s - loss: 0.0709 - accuracy: 0.9762 - val_loss: 0.2809 - val_accuracy: 0.9080\n",
      "Epoch 40/50\n",
      "127/127 - 268s - loss: 0.0844 - accuracy: 0.9736 - val_loss: 0.1739 - val_accuracy: 0.9080\n",
      "Epoch 41/50\n",
      "127/127 - 275s - loss: 0.1058 - accuracy: 0.9657 - val_loss: 0.4989 - val_accuracy: 0.8276\n",
      "Epoch 42/50\n",
      "127/127 - 260s - loss: 0.1582 - accuracy: 0.9432 - val_loss: 0.2138 - val_accuracy: 0.8851\n",
      "Epoch 43/50\n",
      "127/127 - 268s - loss: 0.0835 - accuracy: 0.9729 - val_loss: 0.2617 - val_accuracy: 0.9310\n",
      "Epoch 44/50\n",
      "127/127 - 274s - loss: 0.0919 - accuracy: 0.9657 - val_loss: 0.1920 - val_accuracy: 0.8966\n",
      "Epoch 45/50\n",
      "127/127 - 260s - loss: 0.0914 - accuracy: 0.9703 - val_loss: 0.2674 - val_accuracy: 0.8851\n",
      "Epoch 46/50\n",
      "127/127 - 258s - loss: 0.0761 - accuracy: 0.9749 - val_loss: 0.2643 - val_accuracy: 0.8851\n",
      "Epoch 47/50\n",
      "127/127 - 261s - loss: 0.0754 - accuracy: 0.9756 - val_loss: 0.2495 - val_accuracy: 0.8736\n",
      "Epoch 48/50\n",
      "127/127 - 265s - loss: 0.0834 - accuracy: 0.9723 - val_loss: 0.2407 - val_accuracy: 0.8851\n",
      "Epoch 49/50\n",
      "127/127 - 265s - loss: 0.0847 - accuracy: 0.9716 - val_loss: 0.2584 - val_accuracy: 0.8966\n",
      "Epoch 50/50\n",
      "127/127 - 177s - loss: 0.0587 - accuracy: 0.9802 - val_loss: 0.2831 - val_accuracy: 0.9080\n"
     ]
    }
   ],
   "source": [
    "history=model.fit(Xtrain, Ytrain, epochs=50, batch_size=12, verbose=2, \n",
    "         validation_data=(Xtest, Ytest))"
   ]
  },
  {
   "cell_type": "code",
   "execution_count": 29,
   "metadata": {},
   "outputs": [
    {
     "name": "stdout",
     "output_type": "stream",
     "text": [
      "3/3 [==============================] - 2s 511ms/step - loss: 0.2831 - accuracy: 0.9080\n",
      "Test accuracy: 90.80%\n"
     ]
    }
   ],
   "source": [
    "loss, accuracy = model.evaluate(Xtest, Ytest)\n",
    "print('Test accuracy: {:2.2f}%'.format(accuracy*100))\n"
   ]
  },
  {
   "cell_type": "code",
   "execution_count": 30,
   "metadata": {},
   "outputs": [
    {
     "data": {
      "text/plain": [
       "<AxesSubplot:>"
      ]
     },
     "execution_count": 30,
     "metadata": {},
     "output_type": "execute_result"
    },
    {
     "data": {
      "image/png": "[encoded data removed]",
      "text/plain": [
       "<Figure size 432x288 with 2 Axes>"
      ]
     },
     "metadata": {
      "needs_background": "light"
     },
     "output_type": "display_data"
    }
   ],
   "source": [
    "# Making predictions on test data\n",
    "prediction = model.predict(Xtest)\n",
    "#Transform predictions into 1D array \n",
    "y_pred = np.argmax(prediction, axis=1)\n",
    "y_test1=Ytest.astype(int)\n",
    "y_test2=[]\n",
    "for i in y_test1:\n",
    "    a=1\n",
    "    #print(i[0],i[1])\n",
    "    if(i[0]==1 and i[1]==0):\n",
    "        a=0\n",
    "    y_test2.append(a)    \n",
    "        \n",
    "#Create a Confusion Matrix for Evaluation\n",
    "# H = Horizontal\n",
    "# V = Vertical\n",
    "\n",
    "#Create a Confusion Matrix for Evaluation\n",
    "cf_matrix = confusion_matrix(y_test2, y_pred)\n",
    "\n",
    "import seaborn as sns\n",
    "group_names = ['Predicted meme','Predicted non-meme','Actual meme','Actual non-meme']\n",
    "group_counts = ['{0:0.0f}'.format(value) for value in\n",
    "                cf_matrix.flatten()]\n",
    "group_percentages = ['{0:.2%}'.format(value) for value in\n",
    "                     cf_matrix.flatten()/np.sum(cf_matrix)]\n",
    "labels = [f'{v1}\\n{v2}\\n{v3}' for v1, v2, v3 in\n",
    "          zip(group_names,group_counts,group_percentages)]\n",
    "labels = np.asarray(labels).reshape(2,2)\n",
    "sns.heatmap(cf_matrix, annot=labels, fmt='', cmap='Blues')"
   ]
  },
  {
   "cell_type": "code",
   "execution_count": 31,
   "metadata": {},
   "outputs": [
    {
     "name": "stdout",
     "output_type": "stream",
     "text": [
      "              precision    recall  f1-score   support\n",
      "\n",
      "           0       0.87      0.95      0.91        43\n",
      "           1       0.95      0.86      0.90        44\n",
      "\n",
      "    accuracy                           0.91        87\n",
      "   macro avg       0.91      0.91      0.91        87\n",
      "weighted avg       0.91      0.91      0.91        87\n",
      "\n"
     ]
    }
   ],
   "source": [
    "from sklearn.metrics import classification_report\n",
    "print(classification_report(y_test2, y_pred))"
   ]
  },
  {
   "cell_type": "code",
   "execution_count": 32,
   "metadata": {},
   "outputs": [
    {
     "data": {
      "image/png": "[encoded data removed]",
      "text/plain": [
       "<Figure size 432x288 with 1 Axes>"
      ]
     },
     "metadata": {
      "needs_background": "light"
     },
     "output_type": "display_data"
    },
    {
     "data": {
      "image/png": "[encoded data removed]",
      "text/plain": [
       "<Figure size 432x288 with 1 Axes>"
      ]
     },
     "metadata": {
      "needs_background": "light"
     },
     "output_type": "display_data"
    }
   ],
   "source": [
    "# Get training and test loss histories\n",
    "training_loss = history.history['loss']\n",
    "test_loss = history.history['val_loss']\n",
    "\n",
    "# Create count of the number of epochs\n",
    "epoch_count = range(1, len(training_loss) + 1)\n",
    "\n",
    "# Visualize loss history\n",
    "plt.plot(epoch_count, training_loss, 'r--')\n",
    "plt.plot(epoch_count, test_loss, 'b-')\n",
    "plt.legend(['Training Loss', 'Test Loss'])\n",
    "plt.xlabel('Epoch')\n",
    "plt.ylabel('Loss')\n",
    "plt.title('Model Loss')\n",
    "plt.show()\n",
    "\n",
    "training_acc = history.history['accuracy']\n",
    "test_acc = history.history['val_accuracy']\n",
    "epoch_count = range(1, len(training_acc) + 1)\n",
    "plt.plot(epoch_count, training_acc, 'r--')\n",
    "plt.plot(epoch_count, test_acc, 'b-')\n",
    "plt.title('Model accuracy')\n",
    "plt.ylabel('Accuracy')\n",
    "plt.xlabel('Epoch')\n",
    "plt.legend(['Training accuracy', 'Test accuracy'])\n",
    "plt.show()"
   ]
  },
  {
   "cell_type": "code",
   "execution_count": null,
   "metadata": {},
   "outputs": [],
   "source": []
  }
 ],
 "metadata": {
  "kernelspec": {
   "display_name": "Python 3",
   "language": "python",
   "name": "python3"
  },
  "language_info": {
   "codemirror_mode": {
    "name": "ipython",
    "version": 3
   },
   "file_extension": ".py",
   "mimetype": "text/x-python",
   "name": "python",
   "nbconvert_exporter": "python",
   "pygments_lexer": "ipython3",
   "version": "3.8.10"
  }
 },
 "nbformat": 4,
 "nbformat_minor": 2
}
